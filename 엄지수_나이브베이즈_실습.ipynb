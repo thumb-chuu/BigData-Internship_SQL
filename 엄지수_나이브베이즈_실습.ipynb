{
  "nbformat": 4,
  "nbformat_minor": 0,
  "metadata": {
    "colab": {
      "name": "엄지수_나이브베이즈 실습.ipynb",
      "provenance": [],
      "authorship_tag": "ABX9TyPfYDcCzeeoErFj0Rx5wxop",
      "include_colab_link": true
    },
    "kernelspec": {
      "name": "python3",
      "display_name": "Python 3"
    },
    "language_info": {
      "name": "python"
    }
  },
  "cells": [
    {
      "cell_type": "markdown",
      "metadata": {
        "id": "view-in-github",
        "colab_type": "text"
      },
      "source": [
        "<a href=\"https://colab.research.google.com/github/thumb-chuu/BigData-Internship_statistics/blob/main/%EC%97%84%EC%A7%80%EC%88%98_%EB%82%98%EC%9D%B4%EB%B8%8C%EB%B2%A0%EC%9D%B4%EC%A6%88_%EC%8B%A4%EC%8A%B5.ipynb\" target=\"_parent\"><img src=\"https://colab.research.google.com/assets/colab-badge.svg\" alt=\"Open In Colab\"/></a>"
      ]
    },
    {
      "cell_type": "markdown",
      "source": [
        "# 나이브 베이즈(Naive Bayes) 실습\n",
        "## 1. Gaussian Naive Bayes(가우시안 나이브 베이즈)"
      ],
      "metadata": {
        "id": "iLRHxskJQQxZ"
      }
    },
    {
      "cell_type": "code",
      "execution_count": 1,
      "metadata": {
        "id": "80u4wUJIQOZK"
      },
      "outputs": [],
      "source": [
        "import numpy as np\n",
        "import pandas as pd\n",
        "import scipy as sp\n",
        "from sklearn.datasets import load_iris\n",
        "from sklearn.model_selection import train_test_split"
      ]
    },
    {
      "cell_type": "code",
      "source": [
        "## 가우시안 나이브 베이즈\n",
        "from sklearn.naive_bayes import GaussianNB\n",
        "\n",
        "## iris 데이터셋 로드\n",
        "iris = load_iris()\n",
        "df_X = pd.DataFrame(iris.data, columns = iris.feature_names)\n",
        "df_Y = pd.DataFrame(iris.target, columns = [\"target\"])\n",
        "\n",
        "# 테스트셋 분리\n",
        "X_train, test_X, y_train, test_y = train_test_split(df_X, df_Y, train_size=0.8, test_size=0.2, random_state=123)"
      ],
      "metadata": {
        "id": "lfMaaUg-Ql7v"
      },
      "execution_count": 3,
      "outputs": []
    },
    {
      "cell_type": "code",
      "source": [
        "X_train.tail()"
      ],
      "metadata": {
        "colab": {
          "base_uri": "https://localhost:8080/",
          "height": 250
        },
        "id": "8OR6QpLsRWkn",
        "outputId": "9a8d2203-8427-4537-8e3b-63bf353ac62d"
      },
      "execution_count": 4,
      "outputs": [
        {
          "output_type": "execute_result",
          "data": {
            "text/plain": [
              "     sepal length (cm)  sepal width (cm)  petal length (cm)  petal width (cm)\n",
              "17                 5.1               3.5                1.4               0.3\n",
              "98                 5.1               2.5                3.0               1.1\n",
              "66                 5.6               3.0                4.5               1.5\n",
              "126                6.2               2.8                4.8               1.8\n",
              "109                7.2               3.6                6.1               2.5"
            ],
            "text/html": [
              "\n",
              "  <div id=\"df-4ab9af60-2ec7-47da-8477-c0b701cdbfc8\">\n",
              "    <div class=\"colab-df-container\">\n",
              "      <div>\n",
              "<style scoped>\n",
              "    .dataframe tbody tr th:only-of-type {\n",
              "        vertical-align: middle;\n",
              "    }\n",
              "\n",
              "    .dataframe tbody tr th {\n",
              "        vertical-align: top;\n",
              "    }\n",
              "\n",
              "    .dataframe thead th {\n",
              "        text-align: right;\n",
              "    }\n",
              "</style>\n",
              "<table border=\"1\" class=\"dataframe\">\n",
              "  <thead>\n",
              "    <tr style=\"text-align: right;\">\n",
              "      <th></th>\n",
              "      <th>sepal length (cm)</th>\n",
              "      <th>sepal width (cm)</th>\n",
              "      <th>petal length (cm)</th>\n",
              "      <th>petal width (cm)</th>\n",
              "    </tr>\n",
              "  </thead>\n",
              "  <tbody>\n",
              "    <tr>\n",
              "      <th>17</th>\n",
              "      <td>5.1</td>\n",
              "      <td>3.5</td>\n",
              "      <td>1.4</td>\n",
              "      <td>0.3</td>\n",
              "    </tr>\n",
              "    <tr>\n",
              "      <th>98</th>\n",
              "      <td>5.1</td>\n",
              "      <td>2.5</td>\n",
              "      <td>3.0</td>\n",
              "      <td>1.1</td>\n",
              "    </tr>\n",
              "    <tr>\n",
              "      <th>66</th>\n",
              "      <td>5.6</td>\n",
              "      <td>3.0</td>\n",
              "      <td>4.5</td>\n",
              "      <td>1.5</td>\n",
              "    </tr>\n",
              "    <tr>\n",
              "      <th>126</th>\n",
              "      <td>6.2</td>\n",
              "      <td>2.8</td>\n",
              "      <td>4.8</td>\n",
              "      <td>1.8</td>\n",
              "    </tr>\n",
              "    <tr>\n",
              "      <th>109</th>\n",
              "      <td>7.2</td>\n",
              "      <td>3.6</td>\n",
              "      <td>6.1</td>\n",
              "      <td>2.5</td>\n",
              "    </tr>\n",
              "  </tbody>\n",
              "</table>\n",
              "</div>\n",
              "      <button class=\"colab-df-convert\" onclick=\"convertToInteractive('df-4ab9af60-2ec7-47da-8477-c0b701cdbfc8')\"\n",
              "              title=\"Convert this dataframe to an interactive table.\"\n",
              "              style=\"display:none;\">\n",
              "        \n",
              "  <svg xmlns=\"http://www.w3.org/2000/svg\" height=\"24px\"viewBox=\"0 0 24 24\"\n",
              "       width=\"24px\">\n",
              "    <path d=\"M0 0h24v24H0V0z\" fill=\"none\"/>\n",
              "    <path d=\"M18.56 5.44l.94 2.06.94-2.06 2.06-.94-2.06-.94-.94-2.06-.94 2.06-2.06.94zm-11 1L8.5 8.5l.94-2.06 2.06-.94-2.06-.94L8.5 2.5l-.94 2.06-2.06.94zm10 10l.94 2.06.94-2.06 2.06-.94-2.06-.94-.94-2.06-.94 2.06-2.06.94z\"/><path d=\"M17.41 7.96l-1.37-1.37c-.4-.4-.92-.59-1.43-.59-.52 0-1.04.2-1.43.59L10.3 9.45l-7.72 7.72c-.78.78-.78 2.05 0 2.83L4 21.41c.39.39.9.59 1.41.59.51 0 1.02-.2 1.41-.59l7.78-7.78 2.81-2.81c.8-.78.8-2.07 0-2.86zM5.41 20L4 18.59l7.72-7.72 1.47 1.35L5.41 20z\"/>\n",
              "  </svg>\n",
              "      </button>\n",
              "      \n",
              "  <style>\n",
              "    .colab-df-container {\n",
              "      display:flex;\n",
              "      flex-wrap:wrap;\n",
              "      gap: 12px;\n",
              "    }\n",
              "\n",
              "    .colab-df-convert {\n",
              "      background-color: #E8F0FE;\n",
              "      border: none;\n",
              "      border-radius: 50%;\n",
              "      cursor: pointer;\n",
              "      display: none;\n",
              "      fill: #1967D2;\n",
              "      height: 32px;\n",
              "      padding: 0 0 0 0;\n",
              "      width: 32px;\n",
              "    }\n",
              "\n",
              "    .colab-df-convert:hover {\n",
              "      background-color: #E2EBFA;\n",
              "      box-shadow: 0px 1px 2px rgba(60, 64, 67, 0.3), 0px 1px 3px 1px rgba(60, 64, 67, 0.15);\n",
              "      fill: #174EA6;\n",
              "    }\n",
              "\n",
              "    [theme=dark] .colab-df-convert {\n",
              "      background-color: #3B4455;\n",
              "      fill: #D2E3FC;\n",
              "    }\n",
              "\n",
              "    [theme=dark] .colab-df-convert:hover {\n",
              "      background-color: #434B5C;\n",
              "      box-shadow: 0px 1px 3px 1px rgba(0, 0, 0, 0.15);\n",
              "      filter: drop-shadow(0px 1px 2px rgba(0, 0, 0, 0.3));\n",
              "      fill: #FFFFFF;\n",
              "    }\n",
              "  </style>\n",
              "\n",
              "      <script>\n",
              "        const buttonEl =\n",
              "          document.querySelector('#df-4ab9af60-2ec7-47da-8477-c0b701cdbfc8 button.colab-df-convert');\n",
              "        buttonEl.style.display =\n",
              "          google.colab.kernel.accessAllowed ? 'block' : 'none';\n",
              "\n",
              "        async function convertToInteractive(key) {\n",
              "          const element = document.querySelector('#df-4ab9af60-2ec7-47da-8477-c0b701cdbfc8');\n",
              "          const dataTable =\n",
              "            await google.colab.kernel.invokeFunction('convertToInteractive',\n",
              "                                                     [key], {});\n",
              "          if (!dataTable) return;\n",
              "\n",
              "          const docLinkHtml = 'Like what you see? Visit the ' +\n",
              "            '<a target=\"_blank\" href=https://colab.research.google.com/notebooks/data_table.ipynb>data table notebook</a>'\n",
              "            + ' to learn more about interactive tables.';\n",
              "          element.innerHTML = '';\n",
              "          dataTable['output_type'] = 'display_data';\n",
              "          await google.colab.output.renderOutput(dataTable, element);\n",
              "          const docLink = document.createElement('div');\n",
              "          docLink.innerHTML = docLinkHtml;\n",
              "          element.appendChild(docLink);\n",
              "        }\n",
              "      </script>\n",
              "    </div>\n",
              "  </div>\n",
              "  "
            ]
          },
          "metadata": {},
          "execution_count": 4
        }
      ]
    },
    {
      "cell_type": "code",
      "source": [
        "## 나이브 베이즈는 가우시안 나이브 베이즈\n",
        "gnb = GaussianNB()\n",
        "\n",
        "## 학습\n",
        "# train 데이터로 학습을 진행, X_test 데이터로 결과를 예측하여 y_pred 입력\n",
        "fitted = gnb.fit(X_train, y_train)\n",
        "y_pred = fitted.predict(test_X)\n",
        "y_pred\n",
        "print(y_pred)\n",
        "\n",
        "# 실제값과 y의 예측값을 비교하여 틀린 개수 확인\n",
        "print(\"테스트 데이터 수 : %d, 틀린 개수 : %d\"\n",
        "% (test_X.shape[0], (np.array(test_y.target.tolist()) != y_pred).sum()))"
      ],
      "metadata": {
        "colab": {
          "base_uri": "https://localhost:8080/"
        },
        "id": "DfAXQgYVRf49",
        "outputId": "429394f1-49e0-41e4-df6a-4e81987b17f3"
      },
      "execution_count": 6,
      "outputs": [
        {
          "output_type": "stream",
          "name": "stdout",
          "text": [
            "[1 2 2 1 0 2 1 0 0 1 2 0 1 2 2 2 0 0 1 0 0 1 0 2 0 0 0 2 2 0]\n",
            "테스트 데이터 수 : 30, 틀린 개수 : 1\n"
          ]
        },
        {
          "output_type": "stream",
          "name": "stderr",
          "text": [
            "/usr/local/lib/python3.7/dist-packages/sklearn/utils/validation.py:993: DataConversionWarning: A column-vector y was passed when a 1d array was expected. Please change the shape of y to (n_samples, ), for example using ravel().\n",
            "  y = column_or_1d(y, warn=True)\n"
          ]
        }
      ]
    },
    {
      "cell_type": "code",
      "source": [
        "## 예측한 클래스와 해당 예측 데이터의 클래스별 확률\n",
        "# 클래스\n",
        "print(fitted.classes_)\n",
        "\n",
        "# 분류된 클래스수\n",
        "print(fitted.class_count_)\n",
        "\n",
        "# 테스트 데이터\n",
        "print(test_X[:1],\"\\n\")\n",
        "\n",
        "# 테스트 데이터1개에 대한 클래스가 나온 확률\n",
        "print(fitted.predict_proba(test_X)[:1],\"\\n\")\n",
        "# round(fitted.predict_proba(test_X)[:1][0][1],3)\n",
        "\n",
        "# 테스트 데이터1개의 클래스\n",
        "print(fitted.predict(test_X)[:1],\"\\n\")"
      ],
      "metadata": {
        "colab": {
          "base_uri": "https://localhost:8080/"
        },
        "id": "7fHTTgebRirE",
        "outputId": "84d1f89c-962b-4f41-c0af-57402a6e117e"
      },
      "execution_count": 10,
      "outputs": [
        {
          "output_type": "stream",
          "name": "stdout",
          "text": [
            "[0 1 2]\n",
            "[37. 44. 39.]\n",
            "    sepal length (cm)  sepal width (cm)  petal length (cm)  petal width (cm)\n",
            "72                6.3               2.5                4.9               1.5 \n",
            "\n",
            "[[7.24143720e-126 9.23061979e-001 7.69380215e-002]] \n",
            "\n",
            "[1] \n",
            "\n"
          ]
        }
      ]
    },
    {
      "cell_type": "code",
      "source": [
        "## 특정 값의 클래스별 확률 확인\n",
        "print(fitted.predict_proba(test_X)[[1,20]])\n",
        "\n",
        "# 1번째 데이터는 2범주일 확률이 99%\n",
        "# 20번째 데이터는 0범주일 확률이 100%\n",
        "\n",
        "# 특정 변수의 범주별 클래스 확인\n",
        "fitted.predict(test_X)[[1,20]] "
      ],
      "metadata": {
        "colab": {
          "base_uri": "https://localhost:8080/"
        },
        "id": "MhbrB4qhRzr6",
        "outputId": "ee51079b-e709-4c7f-fd01-b8aa16400913"
      },
      "execution_count": 11,
      "outputs": [
        {
          "output_type": "stream",
          "name": "stdout",
          "text": [
            "[[1.81805757e-197 1.22131524e-005 9.99987787e-001]\n",
            " [1.00000000e+000 8.57846082e-017 1.77097412e-025]]\n"
          ]
        },
        {
          "output_type": "execute_result",
          "data": {
            "text/plain": [
              "array([2, 0])"
            ]
          },
          "metadata": {},
          "execution_count": 11
        }
      ]
    },
    {
      "cell_type": "code",
      "source": [
        "# Confusion matrix 확인\n",
        "from sklearn.metrics import confusion_matrix\n",
        "\n",
        "confusion_matrix(test_y, y_pred)\n",
        "\n",
        "# \"0범주\"와 \"1범주\"의 경우 모두 옳게 분류,\n",
        "# \"2범주\"의 경우 1개의 오답으로 분류\n",
        "# 나이브 베이즈는 투자대비 효용이 높은 간단한 머신러닝 모델"
      ],
      "metadata": {
        "colab": {
          "base_uri": "https://localhost:8080/"
        },
        "id": "BE5-_3rXR79P",
        "outputId": "128b855a-2997-4b09-c8c3-39e63e88b4df"
      },
      "execution_count": 12,
      "outputs": [
        {
          "output_type": "execute_result",
          "data": {
            "text/plain": [
              "array([[13,  0,  0],\n",
              "       [ 0,  6,  0],\n",
              "       [ 0,  1, 10]])"
            ]
          },
          "metadata": {},
          "execution_count": 12
        }
      ]
    },
    {
      "cell_type": "code",
      "source": [
        "# 데이터 확인\n",
        "test_X.head(1)"
      ],
      "metadata": {
        "colab": {
          "base_uri": "https://localhost:8080/",
          "height": 125
        },
        "id": "lFJp8xh4SaPx",
        "outputId": "63ebd720-5c23-4011-e712-75bcfa7481c0"
      },
      "execution_count": 13,
      "outputs": [
        {
          "output_type": "execute_result",
          "data": {
            "text/plain": [
              "    sepal length (cm)  sepal width (cm)  petal length (cm)  petal width (cm)\n",
              "72                6.3               2.5                4.9               1.5"
            ],
            "text/html": [
              "\n",
              "  <div id=\"df-98f27720-0691-4660-906e-b7b4f65be6d6\">\n",
              "    <div class=\"colab-df-container\">\n",
              "      <div>\n",
              "<style scoped>\n",
              "    .dataframe tbody tr th:only-of-type {\n",
              "        vertical-align: middle;\n",
              "    }\n",
              "\n",
              "    .dataframe tbody tr th {\n",
              "        vertical-align: top;\n",
              "    }\n",
              "\n",
              "    .dataframe thead th {\n",
              "        text-align: right;\n",
              "    }\n",
              "</style>\n",
              "<table border=\"1\" class=\"dataframe\">\n",
              "  <thead>\n",
              "    <tr style=\"text-align: right;\">\n",
              "      <th></th>\n",
              "      <th>sepal length (cm)</th>\n",
              "      <th>sepal width (cm)</th>\n",
              "      <th>petal length (cm)</th>\n",
              "      <th>petal width (cm)</th>\n",
              "    </tr>\n",
              "  </thead>\n",
              "  <tbody>\n",
              "    <tr>\n",
              "      <th>72</th>\n",
              "      <td>6.3</td>\n",
              "      <td>2.5</td>\n",
              "      <td>4.9</td>\n",
              "      <td>1.5</td>\n",
              "    </tr>\n",
              "  </tbody>\n",
              "</table>\n",
              "</div>\n",
              "      <button class=\"colab-df-convert\" onclick=\"convertToInteractive('df-98f27720-0691-4660-906e-b7b4f65be6d6')\"\n",
              "              title=\"Convert this dataframe to an interactive table.\"\n",
              "              style=\"display:none;\">\n",
              "        \n",
              "  <svg xmlns=\"http://www.w3.org/2000/svg\" height=\"24px\"viewBox=\"0 0 24 24\"\n",
              "       width=\"24px\">\n",
              "    <path d=\"M0 0h24v24H0V0z\" fill=\"none\"/>\n",
              "    <path d=\"M18.56 5.44l.94 2.06.94-2.06 2.06-.94-2.06-.94-.94-2.06-.94 2.06-2.06.94zm-11 1L8.5 8.5l.94-2.06 2.06-.94-2.06-.94L8.5 2.5l-.94 2.06-2.06.94zm10 10l.94 2.06.94-2.06 2.06-.94-2.06-.94-.94-2.06-.94 2.06-2.06.94z\"/><path d=\"M17.41 7.96l-1.37-1.37c-.4-.4-.92-.59-1.43-.59-.52 0-1.04.2-1.43.59L10.3 9.45l-7.72 7.72c-.78.78-.78 2.05 0 2.83L4 21.41c.39.39.9.59 1.41.59.51 0 1.02-.2 1.41-.59l7.78-7.78 2.81-2.81c.8-.78.8-2.07 0-2.86zM5.41 20L4 18.59l7.72-7.72 1.47 1.35L5.41 20z\"/>\n",
              "  </svg>\n",
              "      </button>\n",
              "      \n",
              "  <style>\n",
              "    .colab-df-container {\n",
              "      display:flex;\n",
              "      flex-wrap:wrap;\n",
              "      gap: 12px;\n",
              "    }\n",
              "\n",
              "    .colab-df-convert {\n",
              "      background-color: #E8F0FE;\n",
              "      border: none;\n",
              "      border-radius: 50%;\n",
              "      cursor: pointer;\n",
              "      display: none;\n",
              "      fill: #1967D2;\n",
              "      height: 32px;\n",
              "      padding: 0 0 0 0;\n",
              "      width: 32px;\n",
              "    }\n",
              "\n",
              "    .colab-df-convert:hover {\n",
              "      background-color: #E2EBFA;\n",
              "      box-shadow: 0px 1px 2px rgba(60, 64, 67, 0.3), 0px 1px 3px 1px rgba(60, 64, 67, 0.15);\n",
              "      fill: #174EA6;\n",
              "    }\n",
              "\n",
              "    [theme=dark] .colab-df-convert {\n",
              "      background-color: #3B4455;\n",
              "      fill: #D2E3FC;\n",
              "    }\n",
              "\n",
              "    [theme=dark] .colab-df-convert:hover {\n",
              "      background-color: #434B5C;\n",
              "      box-shadow: 0px 1px 3px 1px rgba(0, 0, 0, 0.15);\n",
              "      filter: drop-shadow(0px 1px 2px rgba(0, 0, 0, 0.3));\n",
              "      fill: #FFFFFF;\n",
              "    }\n",
              "  </style>\n",
              "\n",
              "      <script>\n",
              "        const buttonEl =\n",
              "          document.querySelector('#df-98f27720-0691-4660-906e-b7b4f65be6d6 button.colab-df-convert');\n",
              "        buttonEl.style.display =\n",
              "          google.colab.kernel.accessAllowed ? 'block' : 'none';\n",
              "\n",
              "        async function convertToInteractive(key) {\n",
              "          const element = document.querySelector('#df-98f27720-0691-4660-906e-b7b4f65be6d6');\n",
              "          const dataTable =\n",
              "            await google.colab.kernel.invokeFunction('convertToInteractive',\n",
              "                                                     [key], {});\n",
              "          if (!dataTable) return;\n",
              "\n",
              "          const docLinkHtml = 'Like what you see? Visit the ' +\n",
              "            '<a target=\"_blank\" href=https://colab.research.google.com/notebooks/data_table.ipynb>data table notebook</a>'\n",
              "            + ' to learn more about interactive tables.';\n",
              "          element.innerHTML = '';\n",
              "          dataTable['output_type'] = 'display_data';\n",
              "          await google.colab.output.renderOutput(dataTable, element);\n",
              "          const docLink = document.createElement('div');\n",
              "          docLink.innerHTML = docLinkHtml;\n",
              "          element.appendChild(docLink);\n",
              "        }\n",
              "      </script>\n",
              "    </div>\n",
              "  </div>\n",
              "  "
            ]
          },
          "metadata": {},
          "execution_count": 13
        }
      ]
    },
    {
      "cell_type": "code",
      "source": [
        "# 예측할 데이터(테스트 데이터 0행 )\n",
        "predict_data = np.array(test_X.iloc[0])\n",
        "predict_data"
      ],
      "metadata": {
        "colab": {
          "base_uri": "https://localhost:8080/"
        },
        "id": "QnP5gIsBScHR",
        "outputId": "966abe79-0692-4177-8612-5cce4ff75169"
      },
      "execution_count": 14,
      "outputs": [
        {
          "output_type": "execute_result",
          "data": {
            "text/plain": [
              "array([6.3, 2.5, 4.9, 1.5])"
            ]
          },
          "metadata": {},
          "execution_count": 14
        }
      ]
    },
    {
      "cell_type": "code",
      "source": [
        "# 클래스별 각 피쳐의 평균\n",
        "fitted.theta_"
      ],
      "metadata": {
        "colab": {
          "base_uri": "https://localhost:8080/"
        },
        "id": "GXNkvczASd4L",
        "outputId": "0908721c-be35-4359-c647-feff985f6be4"
      },
      "execution_count": 15,
      "outputs": [
        {
          "output_type": "execute_result",
          "data": {
            "text/plain": [
              "array([[5.01621622, 3.43243243, 1.46756757, 0.25945946],\n",
              "       [5.95      , 2.78409091, 4.24090909, 1.32272727],\n",
              "       [6.58717949, 2.95897436, 5.57948718, 2.02820513]])"
            ]
          },
          "metadata": {},
          "execution_count": 15
        }
      ]
    },
    {
      "cell_type": "code",
      "source": [
        "# 클래스별 각 피쳐의 분산\n",
        "fitted.sigma_"
      ],
      "metadata": {
        "colab": {
          "base_uri": "https://localhost:8080/"
        },
        "id": "pUhc69KJSfrW",
        "outputId": "e6974642-18e7-41d8-fb0d-a6930aeac306"
      },
      "execution_count": 16,
      "outputs": [
        {
          "output_type": "stream",
          "name": "stderr",
          "text": [
            "/usr/local/lib/python3.7/dist-packages/sklearn/utils/deprecation.py:103: FutureWarning: Attribute `sigma_` was deprecated in 1.0 and will be removed in1.2. Use `var_` instead.\n",
            "  warnings.warn(msg, category=FutureWarning)\n"
          ]
        },
        {
          "output_type": "execute_result",
          "data": {
            "text/plain": [
              "array([[0.10568298, 0.14975895, 0.02705625, 0.01214025],\n",
              "       [0.27068182, 0.10042872, 0.22741736, 0.04221075],\n",
              "       [0.39752795, 0.11011177, 0.29188692, 0.0774096 ]])"
            ]
          },
          "metadata": {},
          "execution_count": 16
        }
      ]
    },
    {
      "cell_type": "code",
      "source": [
        "# 클래스별 사전 확률(prior probability)\n",
        "fitted.class_prior_"
      ],
      "metadata": {
        "colab": {
          "base_uri": "https://localhost:8080/"
        },
        "id": "pFvbJfLEShmf",
        "outputId": "1fb287ab-7cd8-41b3-a3dc-ced96d28c98a"
      },
      "execution_count": 17,
      "outputs": [
        {
          "output_type": "execute_result",
          "data": {
            "text/plain": [
              "array([0.30833333, 0.36666667, 0.325     ])"
            ]
          },
          "metadata": {},
          "execution_count": 17
        }
      ]
    },
    {
      "cell_type": "code",
      "source": [
        "## class별 가능도(likelihood) 산출\n",
        "\n",
        "likelihood = [\n",
        "# 0 클래스\n",
        "(sp.stats.norm(fitted.theta_[0][0], np.sqrt(fitted.sigma_[0][0])).pdf(predict_data[0]) * \\\n",
        "sp.stats.norm(fitted.theta_[0][1], np.sqrt(fitted.sigma_[0][1])).pdf(predict_data[1]) * \\\n",
        "sp.stats.norm(fitted.theta_[0][2], np.sqrt(fitted.sigma_[0][2])).pdf(predict_data[2]) * \\\n",
        "sp.stats.norm(fitted.theta_[0][3], np.sqrt(fitted.sigma_[0][3])).pdf(predict_data[3])),\\\n",
        "\n",
        "# 1 클래스\n",
        "(sp.stats.norm(fitted.theta_[1][0], np.sqrt(fitted.sigma_[1][0])).pdf(predict_data[0]) * \\\n",
        "sp.stats.norm(fitted.theta_[1][1], np.sqrt(fitted.sigma_[1][1])).pdf(predict_data[1]) * \\\n",
        "sp.stats.norm(fitted.theta_[1][2], np.sqrt(fitted.sigma_[1][2])).pdf(predict_data[2]) * \\\n",
        "sp.stats.norm(fitted.theta_[1][3], np.sqrt(fitted.sigma_[1][3])).pdf(predict_data[3])),\\\n",
        "\n",
        "# 2 클래스\n",
        "(sp.stats.norm(fitted.theta_[2][0], np.sqrt(fitted.sigma_[0][0])).pdf(predict_data[0]) * \\\n",
        "sp.stats.norm(fitted.theta_[2][1], np.sqrt(fitted.sigma_[0][1])).pdf(predict_data[1]) * \\\n",
        "sp.stats.norm(fitted.theta_[2][2], np.sqrt(fitted.sigma_[0][2])).pdf(predict_data[2]) * \\\n",
        "sp.stats.norm(fitted.theta_[2][3], np.sqrt(fitted.sigma_[0][3])).pdf(predict_data[3]))\n",
        "]\n",
        "\n",
        "likelihood"
      ],
      "metadata": {
        "colab": {
          "base_uri": "https://localhost:8080/"
        },
        "id": "pLI_orFSSs1h",
        "outputId": "43208d83-5487-4118-e581-aa10950dbb19"
      },
      "execution_count": 18,
      "outputs": [
        {
          "output_type": "stream",
          "name": "stderr",
          "text": [
            "/usr/local/lib/python3.7/dist-packages/sklearn/utils/deprecation.py:103: FutureWarning: Attribute `sigma_` was deprecated in 1.0 and will be removed in1.2. Use `var_` instead.\n",
            "  warnings.warn(msg, category=FutureWarning)\n"
          ]
        },
        {
          "output_type": "execute_result",
          "data": {
            "text/plain": [
              "[2.0700298536453225e-126, 0.2218869448618605, 7.497361843154609e-09]"
            ]
          },
          "metadata": {},
          "execution_count": 18
        }
      ]
    },
    {
      "cell_type": "code",
      "source": [
        "## 사후 확률\n",
        "posterior = likelihood * fitted.class_prior_\n",
        "print(posterior)\n",
        "\n",
        "## 정규화\n",
        "posterior / np.sum(posterior, axis=0)"
      ],
      "metadata": {
        "colab": {
          "base_uri": "https://localhost:8080/"
        },
        "id": "M2RuqJQ4Sywh",
        "outputId": "19eadd9e-823e-4bcd-9f90-346276626b3d"
      },
      "execution_count": 19,
      "outputs": [
        {
          "output_type": "stream",
          "name": "stdout",
          "text": [
            "[6.38259205e-127 8.13585464e-002 2.43664260e-009]\n"
          ]
        },
        {
          "output_type": "execute_result",
          "data": {
            "text/plain": [
              "array([7.84501707e-126, 9.99999970e-001, 2.99494353e-008])"
            ]
          },
          "metadata": {},
          "execution_count": 19
        }
      ]
    },
    {
      "cell_type": "code",
      "source": [
        "## scipy gnb를 사용한 추정값\n",
        "print(fitted.predict_proba(test_X)[[0]])\n",
        "\n",
        "# 완벽히 일치하진 않지만 그에 근사하는 값을 추정값으로 계산"
      ],
      "metadata": {
        "colab": {
          "base_uri": "https://localhost:8080/"
        },
        "id": "EBcb0WTdS1cX",
        "outputId": "b1f7722b-bbae-4cfa-e8bb-c40d8715c47f"
      },
      "execution_count": 20,
      "outputs": [
        {
          "output_type": "stream",
          "name": "stdout",
          "text": [
            "[[7.24143720e-126 9.23061979e-001 7.69380215e-002]]\n"
          ]
        }
      ]
    },
    {
      "cell_type": "code",
      "source": [
        "## \"2범주\"에 prior를 높게 줘서, 가중치를 주는 경우\n",
        "gnb2 = GaussianNB(priors = [1/100, 1/100, 98/100])\n",
        "fitted2 = gnb2.fit(iris.data, iris.target)\n",
        "y_pred2 = fitted2.predict(iris.data)\n",
        "confusion_matrix(iris.target,y_pred2)"
      ],
      "metadata": {
        "colab": {
          "base_uri": "https://localhost:8080/"
        },
        "id": "ur5rzRhYS26X",
        "outputId": "5271da54-12ae-44f3-e881-f98d8d15bba0"
      },
      "execution_count": 21,
      "outputs": [
        {
          "output_type": "execute_result",
          "data": {
            "text/plain": [
              "array([[50,  0,  0],\n",
              "       [ 0, 33, 17],\n",
              "       [ 0,  0, 50]])"
            ]
          },
          "metadata": {},
          "execution_count": 21
        }
      ]
    },
    {
      "cell_type": "code",
      "source": [
        "## \"1범주\"에 prior를 높게 줘서, 가중치를 주는 경우\n",
        "gnb3 = GaussianNB(priors = [1/100, 98/100, 1/100])\n",
        "fitted3 = gnb3.fit(iris.data, iris.target)\n",
        "y_pred3 = fitted3.predict(iris.data)\n",
        "confusion_matrix(iris.target,y_pred3)"
      ],
      "metadata": {
        "colab": {
          "base_uri": "https://localhost:8080/"
        },
        "id": "YNau0bbOS3qP",
        "outputId": "3654bf80-b9ab-4701-d7e0-4a1d388f25b1"
      },
      "execution_count": 22,
      "outputs": [
        {
          "output_type": "execute_result",
          "data": {
            "text/plain": [
              "array([[50,  0,  0],\n",
              "       [ 0, 50,  0],\n",
              "       [ 0, 14, 36]])"
            ]
          },
          "metadata": {},
          "execution_count": 22
        }
      ]
    },
    {
      "cell_type": "markdown",
      "source": [
        "## 2. Multinomial Naive Bayes(다항분포 나이브 베이즈)"
      ],
      "metadata": {
        "id": "PKRRAKliS5WG"
      }
    },
    {
      "cell_type": "code",
      "source": [
        "## Multinomial Naive Bayes 라이브러리\n",
        "from sklearn.naive_bayes import MultinomialNB\n",
        "\n",
        "## 난수 생성\n",
        "import numpy as np "
      ],
      "metadata": {
        "id": "1y-JlLdhS5xI"
      },
      "execution_count": 23,
      "outputs": []
    },
    {
      "cell_type": "code",
      "source": [
        "# 0부터 3까지 난수 생성, 변수 10개, 샘플 사이즈 4개\n",
        "\n",
        "mNB_train_X = np.random.randint(4, size=(4,10))\n",
        "mNB_train_y = np.array([1,2,3,4])"
      ],
      "metadata": {
        "id": "COjv5o77TIfY"
      },
      "execution_count": 28,
      "outputs": []
    },
    {
      "cell_type": "code",
      "source": [
        "mNB_train_X"
      ],
      "metadata": {
        "colab": {
          "base_uri": "https://localhost:8080/"
        },
        "id": "Xy7n28p2TlnY",
        "outputId": "75ece9db-ba9d-4461-ce05-b13fda59022f"
      },
      "execution_count": 29,
      "outputs": [
        {
          "output_type": "execute_result",
          "data": {
            "text/plain": [
              "array([[2, 2, 2, 3, 0, 1, 0, 2, 2, 1],\n",
              "       [3, 2, 1, 2, 0, 0, 0, 0, 2, 0],\n",
              "       [2, 0, 2, 2, 3, 2, 1, 1, 1, 0],\n",
              "       [1, 3, 3, 0, 2, 2, 1, 1, 1, 0]])"
            ]
          },
          "metadata": {},
          "execution_count": 29
        }
      ]
    },
    {
      "cell_type": "code",
      "source": [
        "mNB_train_y"
      ],
      "metadata": {
        "colab": {
          "base_uri": "https://localhost:8080/"
        },
        "id": "5D1nSbl1ToGD",
        "outputId": "d33a4dd3-ffbe-411c-f5c6-221afaa7ee43"
      },
      "execution_count": 30,
      "outputs": [
        {
          "output_type": "execute_result",
          "data": {
            "text/plain": [
              "array([1, 2, 3, 4])"
            ]
          },
          "metadata": {},
          "execution_count": 30
        }
      ]
    },
    {
      "cell_type": "code",
      "source": [
        "# 학습\n",
        "mNB = MultinomialNB()\n",
        "\n",
        "fitted_mNB = mNB.fit(mNB_train_X, mNB_train_y)\n",
        "\n",
        "# 첫 번째 값의 예측 결과(클래스) 확인\n",
        "print(fitted_mNB.predict(mNB_train_X[:1]))\n",
        "\n",
        "# 첫 번째 값의 각 클래스별 확률 확인\n",
        "fitted_mNB.predict_proba(mNB_train_X[:1])"
      ],
      "metadata": {
        "colab": {
          "base_uri": "https://localhost:8080/"
        },
        "id": "_3zjpmG7TpuC",
        "outputId": "76f56842-7d1e-407e-fe04-f90f80821747"
      },
      "execution_count": 31,
      "outputs": [
        {
          "output_type": "stream",
          "name": "stdout",
          "text": [
            "[1]\n"
          ]
        },
        {
          "output_type": "execute_result",
          "data": {
            "text/plain": [
              "array([[0.78004778, 0.20528048, 0.00999287, 0.00467887]])"
            ]
          },
          "metadata": {},
          "execution_count": 31
        }
      ]
    },
    {
      "cell_type": "code",
      "source": [
        "clmNB_2 = MultinomialNB(class_prior = [0.1,0.5,0.1,0.1])\n",
        "clmNB_2.fit(mNB_train_X,mNB_train_y)"
      ],
      "metadata": {
        "colab": {
          "base_uri": "https://localhost:8080/"
        },
        "id": "tAYfrkNeTwKp",
        "outputId": "69d72116-9f79-4c1a-b6ae-aaef93103a36"
      },
      "execution_count": 32,
      "outputs": [
        {
          "output_type": "execute_result",
          "data": {
            "text/plain": [
              "MultinomialNB(class_prior=[0.1, 0.5, 0.1, 0.1])"
            ]
          },
          "metadata": {},
          "execution_count": 32
        }
      ]
    },
    {
      "cell_type": "code",
      "source": [
        "clmNB_2.predict_proba(mNB_train_X[:1]) "
      ],
      "metadata": {
        "colab": {
          "base_uri": "https://localhost:8080/"
        },
        "id": "AfuB1NJzTx0s",
        "outputId": "8cb6ede2-1079-418d-99d5-1e86113aa515"
      },
      "execution_count": 33,
      "outputs": [
        {
          "output_type": "execute_result",
          "data": {
            "text/plain": [
              "array([[0.42833364, 0.56360992, 0.00548721, 0.00256923]])"
            ]
          },
          "metadata": {},
          "execution_count": 33
        }
      ]
    },
    {
      "cell_type": "code",
      "source": [
        ""
      ],
      "metadata": {
        "id": "mmDNu82pTzQ-"
      },
      "execution_count": null,
      "outputs": []
    }
  ]
}