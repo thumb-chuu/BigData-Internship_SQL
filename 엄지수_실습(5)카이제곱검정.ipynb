{
  "nbformat": 4,
  "nbformat_minor": 0,
  "metadata": {
    "colab": {
      "name": "엄지수_실습(5)카이제곱검정.ipynb",
      "provenance": [],
      "collapsed_sections": [],
      "authorship_tag": "ABX9TyN88hCRibgnZA581HTSvtIj",
      "include_colab_link": true
    },
    "kernelspec": {
      "name": "python3",
      "display_name": "Python 3"
    },
    "language_info": {
      "name": "python"
    }
  },
  "cells": [
    {
      "cell_type": "markdown",
      "metadata": {
        "id": "view-in-github",
        "colab_type": "text"
      },
      "source": [
        "<a href=\"https://colab.research.google.com/github/thumb-chuu/BigData-Internship_statistics/blob/main/%EC%97%84%EC%A7%80%EC%88%98_%EC%8B%A4%EC%8A%B5(5)%EC%B9%B4%EC%9D%B4%EC%A0%9C%EA%B3%B1%EA%B2%80%EC%A0%95.ipynb\" target=\"_parent\"><img src=\"https://colab.research.google.com/assets/colab-badge.svg\" alt=\"Open In Colab\"/></a>"
      ]
    },
    {
      "cell_type": "markdown",
      "source": [
        "# ◆ 통계적 검정 방법 실습\n"
      ],
      "metadata": {
        "id": "DetV3Sl6Lw1j"
      }
    },
    {
      "cell_type": "markdown",
      "source": [
        "## 3. 카이제곱 검정\n"
      ],
      "metadata": {
        "id": "75dUqpUrR0V5"
      }
    },
    {
      "cell_type": "markdown",
      "source": [
        "### 1) 적합도 검정(Goodness of Fit)\n",
        "- k개의 범주(혹은 계급)을 가지는 한 개의 요인(factor)에 대해서 어떤 이론적 분포를 따르고 있는지를 검정하는 방법"
      ],
      "metadata": {
        "id": "U-1X2YrcR2A_"
      }
    },
    {
      "cell_type": "markdown",
      "source": [
        "stats.chisquare()\n",
        "- 귀무가설 : 실제 분포와 이론적 분포 간에는 차이가 없다. (두 분포가 일치한다.)\n",
        "- 대립가설 : 실제 분포와 이론적 분포 간에는 차이가 있다. (두 분포가 일치하지 않는다.)"
      ],
      "metadata": {
        "id": "7g9A1joBO5Jx"
      }
    },
    {
      "cell_type": "code",
      "execution_count": 1,
      "metadata": {
        "colab": {
          "base_uri": "https://localhost:8080/"
        },
        "id": "j5wJgr2ZLeCR",
        "outputId": "124f5c14-4013-4759-cd5c-83bef46ae302"
      },
      "outputs": [
        {
          "output_type": "stream",
          "name": "stdout",
          "text": [
            "Reading package lists... Done\n",
            "Building dependency tree       \n",
            "Reading state information... Done\n",
            "fonts-nanum is already the newest version (20170925-1).\n",
            "The following package was automatically installed and is no longer required:\n",
            "  libnvidia-common-460\n",
            "Use 'sudo apt autoremove' to remove it.\n",
            "0 upgraded, 0 newly installed, 0 to remove and 62 not upgraded.\n",
            "/usr/share/fonts: caching, new cache contents: 0 fonts, 1 dirs\n",
            "/usr/share/fonts/truetype: caching, new cache contents: 0 fonts, 3 dirs\n",
            "/usr/share/fonts/truetype/humor-sans: caching, new cache contents: 1 fonts, 0 dirs\n",
            "/usr/share/fonts/truetype/liberation: caching, new cache contents: 16 fonts, 0 dirs\n",
            "/usr/share/fonts/truetype/nanum: caching, new cache contents: 10 fonts, 0 dirs\n",
            "/usr/local/share/fonts: caching, new cache contents: 0 fonts, 0 dirs\n",
            "/root/.local/share/fonts: skipping, no such directory\n",
            "/root/.fonts: skipping, no such directory\n",
            "/var/cache/fontconfig: cleaning cache directory\n",
            "/root/.cache/fontconfig: not cleaning non-existent cache directory\n",
            "/root/.fontconfig: not cleaning non-existent cache directory\n",
            "fc-cache: succeeded\n"
          ]
        }
      ],
      "source": [
        "!sudo apt-get install -y fonts-nanum\n",
        "!sudo fc-cache -fv\n",
        "!rm ~/.cache/matplotlib -rf"
      ]
    },
    {
      "cell_type": "code",
      "source": [
        "# 패키지 임포트\n",
        "import os\n",
        "import warnings\n",
        "warnings.simplefilter(action='ignore', category=FutureWarning)      # FutureWarning 제거\n",
        "\n",
        "import pandas as pd\n",
        "import numpy as np\n",
        "import math\n",
        "from scipy import stats\n",
        "\n",
        "# 시각화 패키지\n",
        "import matplotlib.pyplot as plt\n",
        "import seaborn as sns\n",
        "%matplotlib inline\n",
        "\n",
        "# os에 따른 Font 깨짐 제거를 위해 Font 지정 \n",
        "import os \n",
        "if os.name == 'nt' :\n",
        "    font_family = \"NanumBarunGothic\" # Windows OS \n",
        "else :\n",
        "    font_family = \"NanumBarunGothic\" # MAC OS\n",
        "\n",
        "# - 값이 깨지는 문제 해결을 위해 파라미터 값 설정 \n",
        "sns.set(font=font_family, rc ={\"axes.unicode_minus\" : False})"
      ],
      "metadata": {
        "id": "PUjQoEVLLptD"
      },
      "execution_count": 2,
      "outputs": []
    },
    {
      "cell_type": "code",
      "source": [
        "#### 적합도 검정 ####\n",
        "## 데이터 생성\n",
        "# 4교대 근무, 1일 불량 수 조사, 각조의 불량 수 차이 여부 검정\n",
        "observed_, expected_ = [15, 35, 24, 26], [25, 25, 25, 25]\n",
        "ct_1 = pd.DataFrame([observed_, expected_], columns=[\"A조\", \"B조\", \"C조\", \"D조\"], index=['관측빈도', '기대빈도'])\n",
        "ct_1\n",
        "\n",
        "## 카이제곱 검정 통계량 계산\n",
        "observed = ct_1.loc[\"관측빈도\"]\n",
        "expected = ct_1.loc[\"기대빈도\"]\n",
        "\n",
        "chi_squared_test = (observed-expected).pow(2)/expected"
      ],
      "metadata": {
        "id": "_P6NNgY3PcgR"
      },
      "execution_count": 3,
      "outputs": []
    },
    {
      "cell_type": "code",
      "source": [
        "chi_squared_statistic = chi_squared_test.sum()\n",
        "print('카이제곱 통계량', chi_squared_statistic)\n",
        "\n",
        "## 카이제곱 검정 수행(적합도 검정)\n",
        "dof = (4-1)*(2-1)\n",
        "chi_ = stats.chi2(dof)\n",
        "chi_05 = chi_.ppf(0.95)\n",
        "print('기각역:', chi_05)\n",
        "\n",
        "# 카이제곱 통계량 기반 검정\n",
        "if chi_05 >= chi_squared_statistic:\n",
        "    print(\"귀무가설 채택, 4개조의 불량수는 차이가 없다.\")\n",
        "else:\n",
        "    print(\"귀무가설 기각, 4개조의 불량수는 차이가 있다.\")\n",
        "\n",
        "p_val = 1-chi_.cdf(chi_squared_statistic)\n",
        "\n",
        "print('p-value:', p_val)\n",
        "\n",
        "# 유의수준 기반 검정\n",
        "if p_val >= 0.05:\n",
        "    print(\"귀무가설 채택, 4개조의 불량수는 차이가 없다.\")\n",
        "else:\n",
        "    print(\"귀무가설 기각, 4개조의 불량수는 차이가 있다.\")\n",
        "\n",
        "## chisquare: 모집단의 분포를 알고 있고, 이에 대해 검증할 때, 활용 package\n",
        "stats.chisquare(ct_1.loc[\"관측빈도\"].values, f_exp = ct_1.loc[\"기대빈도\"].values)"
      ],
      "metadata": {
        "colab": {
          "base_uri": "https://localhost:8080/"
        },
        "id": "WVpHtybkQYTn",
        "outputId": "b7a6f68a-82fa-4ad7-ec5a-e44c709c623b"
      },
      "execution_count": 4,
      "outputs": [
        {
          "output_type": "stream",
          "name": "stdout",
          "text": [
            "카이제곱 통계량 8.079999999999998\n",
            "기각역: 7.814727903251179\n",
            "귀무가설 기각, 4개조의 불량수는 차이가 있다.\n",
            "p-value: 0.04438695936738335\n",
            "귀무가설 기각, 4개조의 불량수는 차이가 있다.\n"
          ]
        },
        {
          "output_type": "execute_result",
          "data": {
            "text/plain": [
              "Power_divergenceResult(statistic=8.079999999999998, pvalue=0.044386959367383315)"
            ]
          },
          "metadata": {},
          "execution_count": 4
        }
      ]
    },
    {
      "cell_type": "markdown",
      "source": [
        "### 2) 독립성 검정(Test of Independence)\n",
        "- 모집단을 범주화하는 기준이 되는 두 변수 A, B가 서로 독립적으로 관측값에 영향을 미치는지의 여부를 검정하는 것\n",
        "\n",
        "crosstab() : 교차표 생성 함수\n",
        "\n",
        "scipy 모듈의 chi2_contingency() : 2개의 범주형 변수에 대한 카이제곱 통계량 계산\n",
        "\n",
        "- 귀무가설 : 두 변수 사이에는 연관이 없다. (독립이다)\n",
        "- 대립가설 : 두 변수 사이에는 연관이 있다. (종속이다)"
      ],
      "metadata": {
        "id": "pEzHWvLQRvpf"
      }
    },
    {
      "cell_type": "code",
      "source": [
        "# 교차분석하기 위한 범주형 데이터 정의\n",
        "cross_data = pd.DataFrame(\n",
        "                {\"영양제\": ['복용', '복용', '복용', '복용', '복용', '복용', '복용', '복용',\n",
        "                            '복용', '복용', '복용', '복용', '복용', '복용', '복용', '복용',\n",
        "                            '복용', '복용', '복용', '복용', \n",
        "                            '미복용', '미복용', '미복용', '미복용', '미복용', '미복용', '미복용', '미복용',\n",
        "                            '미복용', '미복용', '미복용', '미복용', '미복용', '미복용', '미복용', '미복용',\n",
        "                            '미복용', '미복용', '미복용', '미복용'],\n",
        "                 \"감기여부\": ['유', '유', '유', '유', '유', '무', '무', '무', '무', '무',\n",
        "                              '무', '무', '무', '무', '무', '무', '무', '무', '무', '무',\n",
        "                              '유', '유', '유', '유', '유', '유', '유', '유', '유', '유',\n",
        "                              '유', '유', '무', '무', '무', '무', '무', '무', '무', '무']\n",
        "                 }\n",
        ")\n",
        "\n",
        "cross_data.head(5)"
      ],
      "metadata": {
        "colab": {
          "base_uri": "https://localhost:8080/",
          "height": 206
        },
        "id": "bpl2xnHfRb0t",
        "outputId": "888e6433-58e0-4eb0-c947-cc768010e68f"
      },
      "execution_count": 5,
      "outputs": [
        {
          "output_type": "execute_result",
          "data": {
            "text/plain": [
              "  영양제 감기여부\n",
              "0  복용    유\n",
              "1  복용    유\n",
              "2  복용    유\n",
              "3  복용    유\n",
              "4  복용    유"
            ],
            "text/html": [
              "\n",
              "  <div id=\"df-d565c417-84d1-4a02-acd8-a961a6056adf\">\n",
              "    <div class=\"colab-df-container\">\n",
              "      <div>\n",
              "<style scoped>\n",
              "    .dataframe tbody tr th:only-of-type {\n",
              "        vertical-align: middle;\n",
              "    }\n",
              "\n",
              "    .dataframe tbody tr th {\n",
              "        vertical-align: top;\n",
              "    }\n",
              "\n",
              "    .dataframe thead th {\n",
              "        text-align: right;\n",
              "    }\n",
              "</style>\n",
              "<table border=\"1\" class=\"dataframe\">\n",
              "  <thead>\n",
              "    <tr style=\"text-align: right;\">\n",
              "      <th></th>\n",
              "      <th>영양제</th>\n",
              "      <th>감기여부</th>\n",
              "    </tr>\n",
              "  </thead>\n",
              "  <tbody>\n",
              "    <tr>\n",
              "      <th>0</th>\n",
              "      <td>복용</td>\n",
              "      <td>유</td>\n",
              "    </tr>\n",
              "    <tr>\n",
              "      <th>1</th>\n",
              "      <td>복용</td>\n",
              "      <td>유</td>\n",
              "    </tr>\n",
              "    <tr>\n",
              "      <th>2</th>\n",
              "      <td>복용</td>\n",
              "      <td>유</td>\n",
              "    </tr>\n",
              "    <tr>\n",
              "      <th>3</th>\n",
              "      <td>복용</td>\n",
              "      <td>유</td>\n",
              "    </tr>\n",
              "    <tr>\n",
              "      <th>4</th>\n",
              "      <td>복용</td>\n",
              "      <td>유</td>\n",
              "    </tr>\n",
              "  </tbody>\n",
              "</table>\n",
              "</div>\n",
              "      <button class=\"colab-df-convert\" onclick=\"convertToInteractive('df-d565c417-84d1-4a02-acd8-a961a6056adf')\"\n",
              "              title=\"Convert this dataframe to an interactive table.\"\n",
              "              style=\"display:none;\">\n",
              "        \n",
              "  <svg xmlns=\"http://www.w3.org/2000/svg\" height=\"24px\"viewBox=\"0 0 24 24\"\n",
              "       width=\"24px\">\n",
              "    <path d=\"M0 0h24v24H0V0z\" fill=\"none\"/>\n",
              "    <path d=\"M18.56 5.44l.94 2.06.94-2.06 2.06-.94-2.06-.94-.94-2.06-.94 2.06-2.06.94zm-11 1L8.5 8.5l.94-2.06 2.06-.94-2.06-.94L8.5 2.5l-.94 2.06-2.06.94zm10 10l.94 2.06.94-2.06 2.06-.94-2.06-.94-.94-2.06-.94 2.06-2.06.94z\"/><path d=\"M17.41 7.96l-1.37-1.37c-.4-.4-.92-.59-1.43-.59-.52 0-1.04.2-1.43.59L10.3 9.45l-7.72 7.72c-.78.78-.78 2.05 0 2.83L4 21.41c.39.39.9.59 1.41.59.51 0 1.02-.2 1.41-.59l7.78-7.78 2.81-2.81c.8-.78.8-2.07 0-2.86zM5.41 20L4 18.59l7.72-7.72 1.47 1.35L5.41 20z\"/>\n",
              "  </svg>\n",
              "      </button>\n",
              "      \n",
              "  <style>\n",
              "    .colab-df-container {\n",
              "      display:flex;\n",
              "      flex-wrap:wrap;\n",
              "      gap: 12px;\n",
              "    }\n",
              "\n",
              "    .colab-df-convert {\n",
              "      background-color: #E8F0FE;\n",
              "      border: none;\n",
              "      border-radius: 50%;\n",
              "      cursor: pointer;\n",
              "      display: none;\n",
              "      fill: #1967D2;\n",
              "      height: 32px;\n",
              "      padding: 0 0 0 0;\n",
              "      width: 32px;\n",
              "    }\n",
              "\n",
              "    .colab-df-convert:hover {\n",
              "      background-color: #E2EBFA;\n",
              "      box-shadow: 0px 1px 2px rgba(60, 64, 67, 0.3), 0px 1px 3px 1px rgba(60, 64, 67, 0.15);\n",
              "      fill: #174EA6;\n",
              "    }\n",
              "\n",
              "    [theme=dark] .colab-df-convert {\n",
              "      background-color: #3B4455;\n",
              "      fill: #D2E3FC;\n",
              "    }\n",
              "\n",
              "    [theme=dark] .colab-df-convert:hover {\n",
              "      background-color: #434B5C;\n",
              "      box-shadow: 0px 1px 3px 1px rgba(0, 0, 0, 0.15);\n",
              "      filter: drop-shadow(0px 1px 2px rgba(0, 0, 0, 0.3));\n",
              "      fill: #FFFFFF;\n",
              "    }\n",
              "  </style>\n",
              "\n",
              "      <script>\n",
              "        const buttonEl =\n",
              "          document.querySelector('#df-d565c417-84d1-4a02-acd8-a961a6056adf button.colab-df-convert');\n",
              "        buttonEl.style.display =\n",
              "          google.colab.kernel.accessAllowed ? 'block' : 'none';\n",
              "\n",
              "        async function convertToInteractive(key) {\n",
              "          const element = document.querySelector('#df-d565c417-84d1-4a02-acd8-a961a6056adf');\n",
              "          const dataTable =\n",
              "            await google.colab.kernel.invokeFunction('convertToInteractive',\n",
              "                                                     [key], {});\n",
              "          if (!dataTable) return;\n",
              "\n",
              "          const docLinkHtml = 'Like what you see? Visit the ' +\n",
              "            '<a target=\"_blank\" href=https://colab.research.google.com/notebooks/data_table.ipynb>data table notebook</a>'\n",
              "            + ' to learn more about interactive tables.';\n",
              "          element.innerHTML = '';\n",
              "          dataTable['output_type'] = 'display_data';\n",
              "          await google.colab.output.renderOutput(dataTable, element);\n",
              "          const docLink = document.createElement('div');\n",
              "          docLink.innerHTML = docLinkHtml;\n",
              "          element.appendChild(docLink);\n",
              "        }\n",
              "      </script>\n",
              "    </div>\n",
              "  </div>\n",
              "  "
            ]
          },
          "metadata": {},
          "execution_count": 5
        }
      ]
    },
    {
      "cell_type": "code",
      "source": [
        "# 교차분석표 생성\n",
        "## summary 행렬 포함한 교차표\n",
        "print(pd.crosstab(cross_data['영양제'], cross_data['감기여부'], margins=True))\n",
        "\n",
        "## 계산하기 위한 교차표\n",
        "data_crosstab = pd.crosstab(cross_data['영양제'], cross_data['감기여부'], margins=False)"
      ],
      "metadata": {
        "colab": {
          "base_uri": "https://localhost:8080/"
        },
        "id": "34yLaYOzTPZz",
        "outputId": "d9a86ec5-7c61-4120-b2f4-1597b9f4bf14"
      },
      "execution_count": 6,
      "outputs": [
        {
          "output_type": "stream",
          "name": "stdout",
          "text": [
            "감기여부   무   유  All\n",
            "영양제              \n",
            "미복용    8  12   20\n",
            "복용    15   5   20\n",
            "All   23  17   40\n"
          ]
        }
      ]
    },
    {
      "cell_type": "code",
      "source": [
        "data_crosstab"
      ],
      "metadata": {
        "colab": {
          "base_uri": "https://localhost:8080/",
          "height": 143
        },
        "id": "BuXdnFGBTkrZ",
        "outputId": "cd74be30-cd92-4b18-8494-ada2b80e4eee"
      },
      "execution_count": 7,
      "outputs": [
        {
          "output_type": "execute_result",
          "data": {
            "text/plain": [
              "감기여부   무   유\n",
              "영양제         \n",
              "미복용    8  12\n",
              "복용    15   5"
            ],
            "text/html": [
              "\n",
              "  <div id=\"df-7e4e962b-213b-46d7-bec5-864df2e15759\">\n",
              "    <div class=\"colab-df-container\">\n",
              "      <div>\n",
              "<style scoped>\n",
              "    .dataframe tbody tr th:only-of-type {\n",
              "        vertical-align: middle;\n",
              "    }\n",
              "\n",
              "    .dataframe tbody tr th {\n",
              "        vertical-align: top;\n",
              "    }\n",
              "\n",
              "    .dataframe thead th {\n",
              "        text-align: right;\n",
              "    }\n",
              "</style>\n",
              "<table border=\"1\" class=\"dataframe\">\n",
              "  <thead>\n",
              "    <tr style=\"text-align: right;\">\n",
              "      <th>감기여부</th>\n",
              "      <th>무</th>\n",
              "      <th>유</th>\n",
              "    </tr>\n",
              "    <tr>\n",
              "      <th>영양제</th>\n",
              "      <th></th>\n",
              "      <th></th>\n",
              "    </tr>\n",
              "  </thead>\n",
              "  <tbody>\n",
              "    <tr>\n",
              "      <th>미복용</th>\n",
              "      <td>8</td>\n",
              "      <td>12</td>\n",
              "    </tr>\n",
              "    <tr>\n",
              "      <th>복용</th>\n",
              "      <td>15</td>\n",
              "      <td>5</td>\n",
              "    </tr>\n",
              "  </tbody>\n",
              "</table>\n",
              "</div>\n",
              "      <button class=\"colab-df-convert\" onclick=\"convertToInteractive('df-7e4e962b-213b-46d7-bec5-864df2e15759')\"\n",
              "              title=\"Convert this dataframe to an interactive table.\"\n",
              "              style=\"display:none;\">\n",
              "        \n",
              "  <svg xmlns=\"http://www.w3.org/2000/svg\" height=\"24px\"viewBox=\"0 0 24 24\"\n",
              "       width=\"24px\">\n",
              "    <path d=\"M0 0h24v24H0V0z\" fill=\"none\"/>\n",
              "    <path d=\"M18.56 5.44l.94 2.06.94-2.06 2.06-.94-2.06-.94-.94-2.06-.94 2.06-2.06.94zm-11 1L8.5 8.5l.94-2.06 2.06-.94-2.06-.94L8.5 2.5l-.94 2.06-2.06.94zm10 10l.94 2.06.94-2.06 2.06-.94-2.06-.94-.94-2.06-.94 2.06-2.06.94z\"/><path d=\"M17.41 7.96l-1.37-1.37c-.4-.4-.92-.59-1.43-.59-.52 0-1.04.2-1.43.59L10.3 9.45l-7.72 7.72c-.78.78-.78 2.05 0 2.83L4 21.41c.39.39.9.59 1.41.59.51 0 1.02-.2 1.41-.59l7.78-7.78 2.81-2.81c.8-.78.8-2.07 0-2.86zM5.41 20L4 18.59l7.72-7.72 1.47 1.35L5.41 20z\"/>\n",
              "  </svg>\n",
              "      </button>\n",
              "      \n",
              "  <style>\n",
              "    .colab-df-container {\n",
              "      display:flex;\n",
              "      flex-wrap:wrap;\n",
              "      gap: 12px;\n",
              "    }\n",
              "\n",
              "    .colab-df-convert {\n",
              "      background-color: #E8F0FE;\n",
              "      border: none;\n",
              "      border-radius: 50%;\n",
              "      cursor: pointer;\n",
              "      display: none;\n",
              "      fill: #1967D2;\n",
              "      height: 32px;\n",
              "      padding: 0 0 0 0;\n",
              "      width: 32px;\n",
              "    }\n",
              "\n",
              "    .colab-df-convert:hover {\n",
              "      background-color: #E2EBFA;\n",
              "      box-shadow: 0px 1px 2px rgba(60, 64, 67, 0.3), 0px 1px 3px 1px rgba(60, 64, 67, 0.15);\n",
              "      fill: #174EA6;\n",
              "    }\n",
              "\n",
              "    [theme=dark] .colab-df-convert {\n",
              "      background-color: #3B4455;\n",
              "      fill: #D2E3FC;\n",
              "    }\n",
              "\n",
              "    [theme=dark] .colab-df-convert:hover {\n",
              "      background-color: #434B5C;\n",
              "      box-shadow: 0px 1px 3px 1px rgba(0, 0, 0, 0.15);\n",
              "      filter: drop-shadow(0px 1px 2px rgba(0, 0, 0, 0.3));\n",
              "      fill: #FFFFFF;\n",
              "    }\n",
              "  </style>\n",
              "\n",
              "      <script>\n",
              "        const buttonEl =\n",
              "          document.querySelector('#df-7e4e962b-213b-46d7-bec5-864df2e15759 button.colab-df-convert');\n",
              "        buttonEl.style.display =\n",
              "          google.colab.kernel.accessAllowed ? 'block' : 'none';\n",
              "\n",
              "        async function convertToInteractive(key) {\n",
              "          const element = document.querySelector('#df-7e4e962b-213b-46d7-bec5-864df2e15759');\n",
              "          const dataTable =\n",
              "            await google.colab.kernel.invokeFunction('convertToInteractive',\n",
              "                                                     [key], {});\n",
              "          if (!dataTable) return;\n",
              "\n",
              "          const docLinkHtml = 'Like what you see? Visit the ' +\n",
              "            '<a target=\"_blank\" href=https://colab.research.google.com/notebooks/data_table.ipynb>data table notebook</a>'\n",
              "            + ' to learn more about interactive tables.';\n",
              "          element.innerHTML = '';\n",
              "          dataTable['output_type'] = 'display_data';\n",
              "          await google.colab.output.renderOutput(dataTable, element);\n",
              "          const docLink = document.createElement('div');\n",
              "          docLink.innerHTML = docLinkHtml;\n",
              "          element.appendChild(docLink);\n",
              "        }\n",
              "      </script>\n",
              "    </div>\n",
              "  </div>\n",
              "  "
            ]
          },
          "metadata": {},
          "execution_count": 7
        }
      ]
    },
    {
      "cell_type": "code",
      "source": [
        "# 교차표분석 : 카이제곱 통계량 산출\n",
        "from scipy.stats import chi2_contingency\n",
        "\n",
        "# correction=True를 적용하면 Yates' correction이 적용되어 검정 통계량이 보수적으로 더 낮게 나옴\n",
        "result = chi2_contingency(observed=data_crosstab, correction=False)\n",
        "print(\"1. 카이제곱 통계량:\", result[0])\n",
        "print(\"2. p-value:\", result[1])\n",
        "print(\"3. df:\", result[2])                  # (행의 개수 - 1)*(열의 개수 - 1)\n",
        "print(\"4. 기대값 행렬:\") \n",
        "pd.DataFrame(result[3]).rename(index={0:'복용', 1:'미복용'}, columns={0:'유', 1:'무'})\n",
        "\n",
        "if 0.05 >= result[1]:                       # p-value\n",
        "    print(\"귀무가설 기각, 감기약 복용과 감기 유무는 차이가 있다.\")\n",
        "else:\n",
        "    print(\"귀무가설 채택, 감기약 복용과 감기 유무는 차이가 없다.\")"
      ],
      "metadata": {
        "colab": {
          "base_uri": "https://localhost:8080/"
        },
        "id": "VWgzu5U0TmZV",
        "outputId": "942b5ccb-278b-4067-8f76-0bd3c25fd507"
      },
      "execution_count": 14,
      "outputs": [
        {
          "output_type": "stream",
          "name": "stdout",
          "text": [
            "1. 카이제곱 통계량: 5.012787723785166\n",
            "2. p-value: 0.025160759200408785\n",
            "3. df: 1\n",
            "4. 기대값 행렬:\n",
            "귀무가설 기각, 감기약 복용과 감기 유무는 차이가 있다.\n"
          ]
        }
      ]
    },
    {
      "cell_type": "code",
      "source": [
        ""
      ],
      "metadata": {
        "id": "mYVzuaNPVPF7"
      },
      "execution_count": null,
      "outputs": []
    }
  ]
}