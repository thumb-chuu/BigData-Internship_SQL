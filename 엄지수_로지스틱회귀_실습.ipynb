{
  "nbformat": 4,
  "nbformat_minor": 0,
  "metadata": {
    "colab": {
      "name": "엄지수_로지스틱회귀 실습.ipynb",
      "provenance": [],
      "collapsed_sections": [],
      "authorship_tag": "ABX9TyNhUCl/Otmx79KjFLyjRXJ5",
      "include_colab_link": true
    },
    "kernelspec": {
      "name": "python3",
      "display_name": "Python 3"
    },
    "language_info": {
      "name": "python"
    }
  },
  "cells": [
    {
      "cell_type": "markdown",
      "metadata": {
        "id": "view-in-github",
        "colab_type": "text"
      },
      "source": [
        "<a href=\"https://colab.research.google.com/github/thumb-chuu/BigData-Internship_statistics/blob/main/%EC%97%84%EC%A7%80%EC%88%98_%EB%A1%9C%EC%A7%80%EC%8A%A4%ED%8B%B1%ED%9A%8C%EA%B7%80_%EC%8B%A4%EC%8A%B5.ipynb\" target=\"_parent\"><img src=\"https://colab.research.google.com/assets/colab-badge.svg\" alt=\"Open In Colab\"/></a>"
      ]
    },
    {
      "cell_type": "markdown",
      "source": [
        "# 로지스틱회귀(Logistic Regression) 실습"
      ],
      "metadata": {
        "id": "d6vu1Tta907R"
      }
    },
    {
      "cell_type": "code",
      "execution_count": 1,
      "metadata": {
        "colab": {
          "base_uri": "https://localhost:8080/"
        },
        "id": "SDeTHW1n9xRh",
        "outputId": "d6a8416d-188f-4950-cee6-fac21ddfc738"
      },
      "outputs": [
        {
          "output_type": "stream",
          "name": "stdout",
          "text": [
            "Reading package lists... Done\n",
            "Building dependency tree       \n",
            "Reading state information... Done\n",
            "fonts-nanum is already the newest version (20170925-1).\n",
            "The following package was automatically installed and is no longer required:\n",
            "  libnvidia-common-460\n",
            "Use 'sudo apt autoremove' to remove it.\n",
            "0 upgraded, 0 newly installed, 0 to remove and 49 not upgraded.\n",
            "/usr/share/fonts: caching, new cache contents: 0 fonts, 1 dirs\n",
            "/usr/share/fonts/truetype: caching, new cache contents: 0 fonts, 3 dirs\n",
            "/usr/share/fonts/truetype/humor-sans: caching, new cache contents: 1 fonts, 0 dirs\n",
            "/usr/share/fonts/truetype/liberation: caching, new cache contents: 16 fonts, 0 dirs\n",
            "/usr/share/fonts/truetype/nanum: caching, new cache contents: 10 fonts, 0 dirs\n",
            "/usr/local/share/fonts: caching, new cache contents: 0 fonts, 0 dirs\n",
            "/root/.local/share/fonts: skipping, no such directory\n",
            "/root/.fonts: skipping, no such directory\n",
            "/var/cache/fontconfig: cleaning cache directory\n",
            "/root/.cache/fontconfig: not cleaning non-existent cache directory\n",
            "/root/.fontconfig: not cleaning non-existent cache directory\n",
            "fc-cache: succeeded\n"
          ]
        }
      ],
      "source": [
        "!sudo apt-get install -y fonts-nanum\n",
        "!sudo fc-cache -fv\n",
        "!rm ~/.cache/matplotlib -rf"
      ]
    },
    {
      "cell_type": "code",
      "source": [
        "# 패키지 임포트\n",
        "import os\n",
        "import warnings\n",
        "# FutureWarning 제거\n",
        "warnings.simplefilter(action='ignore', category=FutureWarning)\n",
        "import pandas as pd # pandas package\n",
        "import numpy as np # numpy package\n",
        "from scipy import stats # Scipy Package\n",
        "from sklearn import datasets # sklearn dataset\n",
        "from sklearn.model_selection import train_test_split # 데이터셋 분리\n",
        "# 시각화 패키지\n",
        "import matplotlib.pyplot as plt # matplotlib 시각화 패키지\n",
        "import seaborn as sns\n",
        "%matplotlib inline\n",
        "\n",
        "# os에 따른 Font 깨짐 제거를 위해 Font 지정 \n",
        "import os \n",
        "if os.name == 'nt' :\n",
        "    font_family = \"NanumBarunGothic\" # Windows OS \n",
        "else :\n",
        "    font_family = \"NanumBarunGothic\" # MAC OS \n",
        "\n",
        "# - 값이 깨지는 문제 해결을 위해 파라미터 값 설정 \n",
        "sns.set(font=font_family, rc ={\"axes.unicode_minus\" : False})"
      ],
      "metadata": {
        "id": "c_Sy3LI297p_"
      },
      "execution_count": 2,
      "outputs": []
    },
    {
      "cell_type": "code",
      "source": [
        "## 로짓 펑션 시각화\n",
        "p = np.arange(0.001, 1, 0.001)\n",
        "\n",
        "logit_df = pd.DataFrame({\n",
        "    'p': p,\n",
        "    'logit': np.log(p / (1- p)),\n",
        "    'odds': p / (1- p),\n",
        "})\n",
        "\n",
        "fig, ax = plt.subplots(figsize=(5, 4))\n",
        "ax.axhline(0, color='grey', linestyle='--')\n",
        "ax.axvline(0.5, color='grey', linestyle='--')\n",
        "ax.plot(logit_df['p'], logit_df['logit'])\n",
        "ax.set_xlabel('Probability')\n",
        "ax.set_ylabel('logit(p)')\n",
        "\n",
        "plt.tight_layout()\n",
        "plt.show()"
      ],
      "metadata": {
        "colab": {
          "base_uri": "https://localhost:8080/",
          "height": 293
        },
        "id": "j36GSs2C-DZ0",
        "outputId": "568a7b4a-d75b-4755-d40f-9dfa8925b286"
      },
      "execution_count": 3,
      "outputs": [
        {
          "output_type": "display_data",
          "data": {
            "text/plain": [
              "<Figure size 360x288 with 1 Axes>"
            ],
            "image/png": "[encoded data removed]"
          },
          "metadata": {}
        }
      ]
    },
    {
      "cell_type": "code",
      "source": [
        "## logistic function = sigmoid\n",
        "x = logit_df['logit']\n",
        "phi = 1 / (1 + np.exp(-x)) # x:판별 함수\n",
        "plt.figure(figsize=(5,4))\n",
        "plt.plot(x, phi)\n",
        "plt.xlabel('x')\n",
        "plt.ylabel('Probability')\n",
        "plt.show()"
      ],
      "metadata": {
        "colab": {
          "base_uri": "https://localhost:8080/",
          "height": 286
        },
        "id": "Z-QP9aLu-LeR",
        "outputId": "74470963-0946-4b0b-88db-f9edc5bfb7c5"
      },
      "execution_count": 4,
      "outputs": [
        {
          "output_type": "display_data",
          "data": {
            "text/plain": [
              "<Figure size 360x288 with 1 Axes>"
            ],
            "image/png": "[encoded data removed]"
          },
          "metadata": {}
        }
      ]
    },
    {
      "cell_type": "code",
      "source": [
        "# 사례 결과 확인\n",
        "phi = 1 / (1 + np.exp(-2))\n",
        "print(phi)"
      ],
      "metadata": {
        "colab": {
          "base_uri": "https://localhost:8080/"
        },
        "id": "dFTOE6GI-OdF",
        "outputId": "dd901495-0685-4e22-cb4f-9bbf089ca65e"
      },
      "execution_count": 5,
      "outputs": [
        {
          "output_type": "stream",
          "name": "stdout",
          "text": [
            "0.8807970779778823\n"
          ]
        }
      ]
    },
    {
      "cell_type": "code",
      "source": [
        "## 데이터셋 로드\n",
        "from sklearn.datasets import load_breast_cancer\n",
        "\n",
        "# 데이터 불러오기\n",
        "data = load_breast_cancer()\n",
        "\n",
        "# 독립변수 (input data)\n",
        "b_input_data = data.data\n",
        "\n",
        "# 종양 : target data\n",
        "# 악성(malignant:0), 양성(benign:1)\n",
        "b_target_data = data.target\n",
        "\n",
        "# 종양 구분\n",
        "tumar = data.target_names\n",
        "\n",
        "# 속성 명칭\n",
        "feature_names = data.feature_names\n",
        "\n",
        "print('종양 여부 결정 속성 : {}'.format(feature_names))\n",
        "print('종양 구분 : {}'.format(tumar))\n",
        "\n",
        "breast_df = pd.DataFrame(b_input_data, columns=feature_names)\n",
        "breast_df['target'] = b_target_data\n",
        "\n",
        "# 속성명 공백에 \"_\"달기\n",
        "breast_df.columns = [col.replace(\" \", \"_\") for col in breast_df.columns]"
      ],
      "metadata": {
        "colab": {
          "base_uri": "https://localhost:8080/"
        },
        "id": "z-ZRKkNL-QmI",
        "outputId": "5d5c8edf-8fd7-4ff6-8525-3decea2ac53f"
      },
      "execution_count": 6,
      "outputs": [
        {
          "output_type": "stream",
          "name": "stdout",
          "text": [
            "종양 여부 결정 속성 : ['mean radius' 'mean texture' 'mean perimeter' 'mean area'\n",
            " 'mean smoothness' 'mean compactness' 'mean concavity'\n",
            " 'mean concave points' 'mean symmetry' 'mean fractal dimension'\n",
            " 'radius error' 'texture error' 'perimeter error' 'area error'\n",
            " 'smoothness error' 'compactness error' 'concavity error'\n",
            " 'concave points error' 'symmetry error' 'fractal dimension error'\n",
            " 'worst radius' 'worst texture' 'worst perimeter' 'worst area'\n",
            " 'worst smoothness' 'worst compactness' 'worst concavity'\n",
            " 'worst concave points' 'worst symmetry' 'worst fractal dimension']\n",
            "종양 구분 : ['malignant' 'benign']\n"
          ]
        }
      ]
    },
    {
      "cell_type": "code",
      "source": [
        "## 데이터 확인\n",
        "# 데이터 차원\n",
        "print(breast_df.shape)\n",
        "# label 데이터 비율 확인\n",
        "breast_df['target'].value_counts()"
      ],
      "metadata": {
        "colab": {
          "base_uri": "https://localhost:8080/"
        },
        "id": "1151VgxP-erj",
        "outputId": "ba75de20-32b6-4c73-ed40-d714d0a80ef5"
      },
      "execution_count": 7,
      "outputs": [
        {
          "output_type": "stream",
          "name": "stdout",
          "text": [
            "(569, 31)\n"
          ]
        },
        {
          "output_type": "execute_result",
          "data": {
            "text/plain": [
              "1    357\n",
              "0    212\n",
              "Name: target, dtype: int64"
            ]
          },
          "metadata": {},
          "execution_count": 7
        }
      ]
    },
    {
      "cell_type": "code",
      "source": [
        "## 학습 데이터셋 생성\n",
        "# 평균 관련된 3개의 속성으로 종양 여부 판단\n",
        "X = breast_df[['mean_radius', 'mean_texture', 'mean_perimeter' ]] # 독립변수\n",
        "\n",
        "Y = breast_df['target']\n",
        "\n",
        "# 80%의 데이터를 학습 데이터로, 20%를 테스트 데이터\n",
        "X_train, X_test, y_train, y_test = train_test_split(X, Y, test_size = 0.2, random_state = 42)\n",
        "\n",
        "## 표준화 데이터 스케일링\n",
        "from sklearn.preprocessing import StandardScaler\n",
        "\n",
        "scaler = StandardScaler()\n",
        "train_scaled = scaler.fit_transform(X_train)\n",
        "test_scaled = scaler.fit_transform(X_test)"
      ],
      "metadata": {
        "id": "Fd15S06F-sT2"
      },
      "execution_count": 8,
      "outputs": []
    },
    {
      "cell_type": "code",
      "source": [
        "from sklearn.linear_model import LogisticRegression\n",
        "\n",
        "## 반복횟수(max_iter)를 100으로 지정한 로지스틱 회귀모델\n",
        "lr = LogisticRegression(max_iter=100)\n",
        "\n",
        "lr.fit(train_scaled, y_train)\n",
        "\n",
        "## 테스트 데이터 정확도 확인\n",
        "# 결과 확인\n",
        "print(\"test 데이터셋 정확도\", lr.score(test_scaled, y_test))"
      ],
      "metadata": {
        "colab": {
          "base_uri": "https://localhost:8080/"
        },
        "id": "4QcYWMjP-xU2",
        "outputId": "3b06ebf2-128c-45d2-f764-2405a026085c"
      },
      "execution_count": 9,
      "outputs": [
        {
          "output_type": "stream",
          "name": "stdout",
          "text": [
            "test 데이터셋 정확도 0.9122807017543859\n"
          ]
        }
      ]
    },
    {
      "cell_type": "code",
      "source": [
        "## 회귀계수 확인\n",
        "print(\"coefficient = \\n\", lr.coef_)\n",
        "print()\n",
        "print(\"intercept = \", lr.intercept_)"
      ],
      "metadata": {
        "colab": {
          "base_uri": "https://localhost:8080/"
        },
        "id": "nGF8z8vw-6jJ",
        "outputId": "7f7be6fb-6992-46c1-c64f-d56ac8b6ad72"
      },
      "execution_count": 10,
      "outputs": [
        {
          "output_type": "stream",
          "name": "stdout",
          "text": [
            "coefficient = \n",
            " [[-0.52514614 -0.90583641 -2.86050966]]\n",
            "\n",
            "intercept =  [0.71500109]\n"
          ]
        }
      ]
    },
    {
      "cell_type": "code",
      "source": [
        "## 테스트 데이터 각 클래스별 확률 확인\n",
        "# 어떤 클래스 있는 확인\n",
        "print(\"Class :\", lr.classes_)\n",
        "\n",
        "# 테스트 데이터\n",
        "print(\"테스트 데이터 :\\n\", test_scaled[:5])\n",
        "\n",
        "# 테스트 데이터의 각 클래스 확률 확인\n",
        "print(\"테스트 데이터의 각 클래스 확률 :\\n\",lr.predict_proba(test_scaled[:5]))\n",
        "\n",
        "## 테스트 데이터 예측 결과\n",
        "Y_pred = lr.predict(test_scaled[:5])\n",
        "print(\"예측 결과 :\", Y_pred)"
      ],
      "metadata": {
        "colab": {
          "base_uri": "https://localhost:8080/"
        },
        "id": "xoF4LQes--Qn",
        "outputId": "368babba-1b68-4ffc-f311-9e10554952bb"
      },
      "execution_count": 11,
      "outputs": [
        {
          "output_type": "stream",
          "name": "stdout",
          "text": [
            "Class : [0 1]\n",
            "테스트 데이터 :\n",
            " [[-0.4877952  -0.25088379 -0.46378664]\n",
            " [ 1.37325734  0.36318719  1.29254295]\n",
            " [ 0.37225845 -0.05148067  0.38772954]\n",
            " [-0.50793023 -0.4593507  -0.44808668]\n",
            " [-0.75530352 -1.19351674 -0.72985962]]\n",
            "테스트 데이터의 각 클래스 확률 :\n",
            " [[0.07411784 0.92588216]\n",
            " [0.98257857 0.01742143]\n",
            " [0.63250073 0.36749927]\n",
            " [0.06418841 0.93581159]\n",
            " [0.01364629 0.98635371]]\n",
            "예측 결과 : [1 0 0 1 1]\n"
          ]
        }
      ]
    },
    {
      "cell_type": "code",
      "source": [
        "## 판별 함수(decision_function)로z값 산출\n",
        "# 테스트 데이터 확인\n",
        "print(\"테스트 데이터:\\n\", test_scaled[:5])\n",
        "\n",
        "# 이진분류의 decision_function은 1 클래스(양성)에 대응하는 값을 반환\n",
        "decision = lr.decision_function(test_scaled[:5])\n",
        "print()\n",
        "print(\"decision_function = \", np.round(decision[:5], decimals=2))\n",
        "print()\n",
        "# 로지스틱 함수 양성(1) 클래스의 확률\n",
        "phi = 1 / (1 + np.exp(-decision))\n",
        "\n",
        "# 로지스틱 함수 악성(0) 클래스의 확률\n",
        "n_phi = 1 - (phi)\n",
        "\n",
        "print(\"클래스1 확률: \", phi)\n",
        "print(\"클래스0 확률: \", n_phi)"
      ],
      "metadata": {
        "colab": {
          "base_uri": "https://localhost:8080/"
        },
        "id": "hob4_1o6_FjA",
        "outputId": "505491c3-d7a6-414d-82c7-7d317209ab4e"
      },
      "execution_count": 12,
      "outputs": [
        {
          "output_type": "stream",
          "name": "stdout",
          "text": [
            "테스트 데이터:\n",
            " [[-0.4877952  -0.25088379 -0.46378664]\n",
            " [ 1.37325734  0.36318719  1.29254295]\n",
            " [ 0.37225845 -0.05148067  0.38772954]\n",
            " [-0.50793023 -0.4593507  -0.44808668]\n",
            " [-0.75530352 -1.19351674 -0.72985962]]\n",
            "\n",
            "decision_function =  [ 2.53 -4.03 -0.54  2.68  4.28]\n",
            "\n",
            "클래스1 확률:  [0.92588216 0.01742143 0.36749927 0.93581159 0.98635371]\n",
            "클래스0 확률:  [0.07411784 0.98257857 0.63250073 0.06418841 0.01364629]\n"
          ]
        }
      ]
    },
    {
      "cell_type": "code",
      "source": [
        "## 판별 함수 직접 계산\n",
        "\n",
        "# 테스트 셋 : [-0.4877952 -0.25088379 -0.46378664]\n",
        "z = (lr.coef_[0][0]*test_scaled[0][0] + lr.coef_[0][1]*test_scaled[0][1] +\n",
        "    lr.coef_[0][2]*test_scaled[0][2] + lr.intercept_[0])\n",
        "print(\"판별 함수 계산 : \", z)\n",
        "\n",
        "z = -0.52514614*-0.4877952 + -0.90583641*-0.25088379 + -2.86050966 * -0.46378664 + 0.71500109\n",
        "print(\"판별 함수 계산 : \", z)"
      ],
      "metadata": {
        "colab": {
          "base_uri": "https://localhost:8080/"
        },
        "id": "jOo-VQol_YyA",
        "outputId": "6c8beb10-babb-4913-b1ff-f7ebd1bbc68f"
      },
      "execution_count": 13,
      "outputs": [
        {
          "output_type": "stream",
          "name": "stdout",
          "text": [
            "판별 함수 계산 :  2.525090684050562\n",
            "판별 함수 계산 :  2.5250906919502643\n"
          ]
        }
      ]
    },
    {
      "cell_type": "code",
      "source": [
        "## 모델 평가\n",
        "from sklearn.metrics import classification_report, confusion_matrix\n",
        "from sklearn.metrics import accuracy_score, precision_score, recall_score, f1_score\n",
        "\n",
        "# 예측값\n",
        "Y_pred = lr.predict(test_scaled)\n",
        "\n",
        "# 성능 리포트 출력\n",
        "print(classification_report(y_test, lr.predict(test_scaled)))\n",
        "\n",
        "# 주요 성능 지표\n",
        "print()\n",
        "print('confusion matrix = \\n', confusion_matrix(y_true=y_test, y_pred=Y_pred))\n",
        "print('accuracy = ', accuracy_score(y_true=y_test, y_pred=Y_pred))\n",
        "print('precision = ', precision_score(y_true=y_test, y_pred=Y_pred))\n",
        "print('recall = ', recall_score(y_true=y_test, y_pred=Y_pred))\n",
        "print('f1 score = ', f1_score(y_true=y_test, y_pred=Y_pred))"
      ],
      "metadata": {
        "colab": {
          "base_uri": "https://localhost:8080/"
        },
        "id": "yh2Ucy-J_f0f",
        "outputId": "ca7f29e8-5d9c-4e10-cd63-1553a41b9523"
      },
      "execution_count": 14,
      "outputs": [
        {
          "output_type": "stream",
          "name": "stdout",
          "text": [
            "              precision    recall  f1-score   support\n",
            "\n",
            "           0       0.92      0.84      0.88        43\n",
            "           1       0.91      0.96      0.93        71\n",
            "\n",
            "    accuracy                           0.91       114\n",
            "   macro avg       0.91      0.90      0.90       114\n",
            "weighted avg       0.91      0.91      0.91       114\n",
            "\n",
            "\n",
            "confusion matrix = \n",
            " [[36  7]\n",
            " [ 3 68]]\n",
            "accuracy =  0.9122807017543859\n",
            "precision =  0.9066666666666666\n",
            "recall =  0.9577464788732394\n",
            "f1 score =  0.9315068493150686\n"
          ]
        }
      ]
    },
    {
      "cell_type": "code",
      "source": [
        "## 시각화\n",
        "# Confusion Matrix\n",
        "from sklearn.metrics import plot_confusion_matrix\n",
        "\n",
        "labels = ['malignant(악성)', 'benign(양성)']\n",
        "disp = plot_confusion_matrix(lr, test_scaled, y_test,\n",
        "                             display_labels=labels, \n",
        "                             cmap=plt.cm.Blues, \n",
        "                             normalize=None)\n",
        "\n",
        "disp.ax_.set_title('Confusion Matrix');"
      ],
      "metadata": {
        "colab": {
          "base_uri": "https://localhost:8080/",
          "height": 301
        },
        "id": "_csBaJmP_jbK",
        "outputId": "ecf6b074-041f-48bb-b764-4b567772646f"
      },
      "execution_count": 15,
      "outputs": [
        {
          "output_type": "display_data",
          "data": {
            "text/plain": [
              "<Figure size 432x288 with 2 Axes>"
            ],
            "image/png": "[encoded data removed]"
          },
          "metadata": {}
        }
      ]
    },
    {
      "cell_type": "code",
      "source": [
        "## ROC Curve\n",
        "from sklearn.metrics import roc_curve, auc, roc_auc_score\n",
        "\n",
        "# 검증 데이터가 클래스1에 해당 하는 데이터\n",
        "Y_score = lr.predict_proba(test_scaled)[:, 1]\n",
        "\n",
        "fpr, tpr, thresholds = roc_curve(y_true=y_test, y_score=Y_score)\n",
        "\n",
        "plt.plot(fpr, tpr, label='roc curve (area = %0.3f)' % auc(fpr, tpr))\n",
        "plt.plot([0, 1], [0, 1], linestyle='--', label='random')\n",
        "plt.plot([0, 0, 1], [0, 1, 1], linestyle='--', label='ideal')\n",
        "plt.legend()\n",
        "plt.xlabel('false positive rate')\n",
        "plt.ylabel('true positive rate')\n",
        "plt.show()\n",
        "\n",
        "# AUC Score\n",
        "print('auc = ', roc_auc_score(y_true=y_test, y_score=Y_score))"
      ],
      "metadata": {
        "colab": {
          "base_uri": "https://localhost:8080/",
          "height": 305
        },
        "id": "3hB3HTSD_vuj",
        "outputId": "22ab2c19-bb67-4341-c615-3740c60a5d6c"
      },
      "execution_count": 16,
      "outputs": [
        {
          "output_type": "display_data",
          "data": {
            "text/plain": [
              "<Figure size 432x288 with 1 Axes>"
            ],
            "image/png": "[encoded data removed]"
          },
          "metadata": {}
        },
        {
          "output_type": "stream",
          "name": "stdout",
          "text": [
            "auc =  0.9780543727481166\n"
          ]
        }
      ]
    },
    {
      "cell_type": "code",
      "source": [
        "## 로지스틱 모델 적합, y = F(x)\n",
        "import statsmodels.api as sm\n",
        "\n",
        "# 상수항 추가\n",
        "X = sm.add_constant(train_scaled)\n",
        "\n",
        "model_s = sm.Logit(y_train, X)\n",
        "\n",
        "results = model_s.fit()"
      ],
      "metadata": {
        "colab": {
          "base_uri": "https://localhost:8080/"
        },
        "id": "fh32qhH8AF91",
        "outputId": "1c957522-c778-4ec9-9b74-d74e56e8776b"
      },
      "execution_count": 17,
      "outputs": [
        {
          "output_type": "stream",
          "name": "stdout",
          "text": [
            "Optimization terminated successfully.\n",
            "         Current function value: 0.204880\n",
            "         Iterations 9\n"
          ]
        }
      ]
    },
    {
      "cell_type": "code",
      "source": [
        "## 결과 리포트\n",
        "results.summary()"
      ],
      "metadata": {
        "colab": {
          "base_uri": "https://localhost:8080/",
          "height": 289
        },
        "id": "EDXSuvtKALY0",
        "outputId": "0d1cc786-cdc6-4685-a824-997c8a464649"
      },
      "execution_count": 18,
      "outputs": [
        {
          "output_type": "execute_result",
          "data": {
            "text/plain": [
              "<class 'statsmodels.iolib.summary.Summary'>\n",
              "\"\"\"\n",
              "                           Logit Regression Results                           \n",
              "==============================================================================\n",
              "Dep. Variable:                 target   No. Observations:                  455\n",
              "Model:                          Logit   Df Residuals:                      451\n",
              "Method:                           MLE   Df Model:                            3\n",
              "Date:                Wed, 27 Jul 2022   Pseudo R-squ.:                  0.6894\n",
              "Time:                        05:00:47   Log-Likelihood:                -93.220\n",
              "converged:                       True   LL-Null:                       -300.17\n",
              "Covariance Type:            nonrobust   LLR p-value:                 2.162e-89\n",
              "==============================================================================\n",
              "                 coef    std err          z      P>|z|      [0.025      0.975]\n",
              "------------------------------------------------------------------------------\n",
              "const          0.6412      0.194      3.308      0.001       0.261       1.021\n",
              "x1            20.1777      3.706      5.445      0.000      12.914      27.441\n",
              "x2            -1.0736      0.208     -5.162      0.000      -1.481      -0.666\n",
              "x3           -24.4741      3.954     -6.190      0.000     -32.223     -16.725\n",
              "==============================================================================\n",
              "\"\"\""
            ],
            "text/html": [
              "<table class=\"simpletable\">\n",
              "<caption>Logit Regression Results</caption>\n",
              "<tr>\n",
              "  <th>Dep. Variable:</th>        <td>target</td>      <th>  No. Observations:  </th>  <td>   455</td>  \n",
              "</tr>\n",
              "<tr>\n",
              "  <th>Model:</th>                 <td>Logit</td>      <th>  Df Residuals:      </th>  <td>   451</td>  \n",
              "</tr>\n",
              "<tr>\n",
              "  <th>Method:</th>                 <td>MLE</td>       <th>  Df Model:          </th>  <td>     3</td>  \n",
              "</tr>\n",
              "<tr>\n",
              "  <th>Date:</th>            <td>Wed, 27 Jul 2022</td> <th>  Pseudo R-squ.:     </th>  <td>0.6894</td>  \n",
              "</tr>\n",
              "<tr>\n",
              "  <th>Time:</th>                <td>05:00:47</td>     <th>  Log-Likelihood:    </th> <td> -93.220</td> \n",
              "</tr>\n",
              "<tr>\n",
              "  <th>converged:</th>             <td>True</td>       <th>  LL-Null:           </th> <td> -300.17</td> \n",
              "</tr>\n",
              "<tr>\n",
              "  <th>Covariance Type:</th>     <td>nonrobust</td>    <th>  LLR p-value:       </th> <td>2.162e-89</td>\n",
              "</tr>\n",
              "</table>\n",
              "<table class=\"simpletable\">\n",
              "<tr>\n",
              "    <td></td>       <th>coef</th>     <th>std err</th>      <th>z</th>      <th>P>|z|</th>  <th>[0.025</th>    <th>0.975]</th>  \n",
              "</tr>\n",
              "<tr>\n",
              "  <th>const</th> <td>    0.6412</td> <td>    0.194</td> <td>    3.308</td> <td> 0.001</td> <td>    0.261</td> <td>    1.021</td>\n",
              "</tr>\n",
              "<tr>\n",
              "  <th>x1</th>    <td>   20.1777</td> <td>    3.706</td> <td>    5.445</td> <td> 0.000</td> <td>   12.914</td> <td>   27.441</td>\n",
              "</tr>\n",
              "<tr>\n",
              "  <th>x2</th>    <td>   -1.0736</td> <td>    0.208</td> <td>   -5.162</td> <td> 0.000</td> <td>   -1.481</td> <td>   -0.666</td>\n",
              "</tr>\n",
              "<tr>\n",
              "  <th>x3</th>    <td>  -24.4741</td> <td>    3.954</td> <td>   -6.190</td> <td> 0.000</td> <td>  -32.223</td> <td>  -16.725</td>\n",
              "</tr>\n",
              "</table>"
            ]
          },
          "metadata": {},
          "execution_count": 18
        }
      ]
    },
    {
      "cell_type": "code",
      "source": [
        "# 로지스틱의 log 형태가 취해진 결과\n",
        "results.params"
      ],
      "metadata": {
        "colab": {
          "base_uri": "https://localhost:8080/"
        },
        "id": "sX2uIqu9ANjn",
        "outputId": "864b9af6-647e-41b6-b282-72ca4fe1e361"
      },
      "execution_count": 19,
      "outputs": [
        {
          "output_type": "execute_result",
          "data": {
            "text/plain": [
              "const     0.641210\n",
              "x1       20.177741\n",
              "x2       -1.073557\n",
              "x3      -24.474142\n",
              "dtype: float64"
            ]
          },
          "metadata": {},
          "execution_count": 19
        }
      ]
    },
    {
      "cell_type": "code",
      "source": [
        "# 시그모이드\n",
        "np.exp(results.params)"
      ],
      "metadata": {
        "colab": {
          "base_uri": "https://localhost:8080/"
        },
        "id": "V2XMENrcAQRq",
        "outputId": "19ac20a0-dce6-48b2-fe10-ade086fee063"
      },
      "execution_count": 20,
      "outputs": [
        {
          "output_type": "execute_result",
          "data": {
            "text/plain": [
              "const    1.898777e+00\n",
              "x1       5.795377e+08\n",
              "x2       3.417905e-01\n",
              "x3       2.349715e-11\n",
              "dtype: float64"
            ]
          },
          "metadata": {},
          "execution_count": 20
        }
      ]
    },
    {
      "cell_type": "code",
      "source": [
        "# 5개 테스트 셋 예측\n",
        "test_scaled[:5]"
      ],
      "metadata": {
        "colab": {
          "base_uri": "https://localhost:8080/"
        },
        "id": "wdyoITBfAQ9N",
        "outputId": "ba8c3f95-72ea-4a37-8472-7f2135bc73d4"
      },
      "execution_count": 21,
      "outputs": [
        {
          "output_type": "execute_result",
          "data": {
            "text/plain": [
              "array([[-0.4877952 , -0.25088379, -0.46378664],\n",
              "       [ 1.37325734,  0.36318719,  1.29254295],\n",
              "       [ 0.37225845, -0.05148067,  0.38772954],\n",
              "       [-0.50793023, -0.4593507 , -0.44808668],\n",
              "       [-0.75530352, -1.19351674, -0.72985962]])"
            ]
          },
          "metadata": {},
          "execution_count": 21
        }
      ]
    },
    {
      "cell_type": "code",
      "source": [
        "# 상수항 추가\n",
        "X_test = sm.add_constant(test_scaled)"
      ],
      "metadata": {
        "id": "9rOUfaBkAYdT"
      },
      "execution_count": 22,
      "outputs": []
    },
    {
      "cell_type": "code",
      "source": [
        "# 예측 (클래스 1일 확률)\n",
        "results.predict(X_test[:5])"
      ],
      "metadata": {
        "colab": {
          "base_uri": "https://localhost:8080/"
        },
        "id": "WrJ0Fs1LAdO_",
        "outputId": "969c547b-2eac-4408-f987-e6ce3c3c20b0"
      },
      "execution_count": 23,
      "outputs": [
        {
          "output_type": "execute_result",
          "data": {
            "text/plain": [
              "array([0.9182439 , 0.02476274, 0.21728888, 0.8643619 , 0.98949026])"
            ]
          },
          "metadata": {},
          "execution_count": 23
        }
      ]
    },
    {
      "cell_type": "code",
      "source": [
        "## iris 데이터셋 로드\n",
        "data = datasets.load_iris()\n",
        "\n",
        "# 꽃의 특징 (input data)\n",
        "t_input_data = data['data']\n",
        "\n",
        "# 꽃 종류를 수치로 나타낸 것 (0 ~ 2) (target data)\n",
        "target_data = data['target']\n",
        "\n",
        "# 꽃 종류를 이름으로 나타낸 것\n",
        "flowers = data['target_names']\n",
        "\n",
        "# 꽃 특징들의 명칭\n",
        "feature_names = data['feature_names']\n",
        "\n",
        "# sepal : 꽃받침, # petal : 꽃잎\n",
        "print('꽃을 결정짓는 특징 : {}'.format(feature_names))\n",
        "print('꽃 종류 : {}'.format(flowers))\n",
        "\n",
        "iris_df = pd.DataFrame(t_input_data, columns=feature_names)\n",
        "iris_df['species'] = target_data\n",
        "\n",
        "# 맨 위에 있는 데이터 10개 출력\n",
        "iris_df.head(5)"
      ],
      "metadata": {
        "colab": {
          "base_uri": "https://localhost:8080/",
          "height": 324
        },
        "id": "4k_a2lXRAhuE",
        "outputId": "19ffe10c-f69f-458e-b099-971a66fd6b9e"
      },
      "execution_count": 24,
      "outputs": [
        {
          "output_type": "stream",
          "name": "stdout",
          "text": [
            "꽃을 결정짓는 특징 : ['sepal length (cm)', 'sepal width (cm)', 'petal length (cm)', 'petal width (cm)']\n",
            "꽃 종류 : ['setosa' 'versicolor' 'virginica']\n"
          ]
        },
        {
          "output_type": "execute_result",
          "data": {
            "text/plain": [
              "   sepal length (cm)  sepal width (cm)  petal length (cm)  petal width (cm)  \\\n",
              "0                5.1               3.5                1.4               0.2   \n",
              "1                4.9               3.0                1.4               0.2   \n",
              "2                4.7               3.2                1.3               0.2   \n",
              "3                4.6               3.1                1.5               0.2   \n",
              "4                5.0               3.6                1.4               0.2   \n",
              "\n",
              "   species  \n",
              "0        0  \n",
              "1        0  \n",
              "2        0  \n",
              "3        0  \n",
              "4        0  "
            ],
            "text/html": [
              "\n",
              "  <div id=\"df-a70c219e-cce8-4ad5-8d0f-13fa7448c4b5\">\n",
              "    <div class=\"colab-df-container\">\n",
              "      <div>\n",
              "<style scoped>\n",
              "    .dataframe tbody tr th:only-of-type {\n",
              "        vertical-align: middle;\n",
              "    }\n",
              "\n",
              "    .dataframe tbody tr th {\n",
              "        vertical-align: top;\n",
              "    }\n",
              "\n",
              "    .dataframe thead th {\n",
              "        text-align: right;\n",
              "    }\n",
              "</style>\n",
              "<table border=\"1\" class=\"dataframe\">\n",
              "  <thead>\n",
              "    <tr style=\"text-align: right;\">\n",
              "      <th></th>\n",
              "      <th>sepal length (cm)</th>\n",
              "      <th>sepal width (cm)</th>\n",
              "      <th>petal length (cm)</th>\n",
              "      <th>petal width (cm)</th>\n",
              "      <th>species</th>\n",
              "    </tr>\n",
              "  </thead>\n",
              "  <tbody>\n",
              "    <tr>\n",
              "      <th>0</th>\n",
              "      <td>5.1</td>\n",
              "      <td>3.5</td>\n",
              "      <td>1.4</td>\n",
              "      <td>0.2</td>\n",
              "      <td>0</td>\n",
              "    </tr>\n",
              "    <tr>\n",
              "      <th>1</th>\n",
              "      <td>4.9</td>\n",
              "      <td>3.0</td>\n",
              "      <td>1.4</td>\n",
              "      <td>0.2</td>\n",
              "      <td>0</td>\n",
              "    </tr>\n",
              "    <tr>\n",
              "      <th>2</th>\n",
              "      <td>4.7</td>\n",
              "      <td>3.2</td>\n",
              "      <td>1.3</td>\n",
              "      <td>0.2</td>\n",
              "      <td>0</td>\n",
              "    </tr>\n",
              "    <tr>\n",
              "      <th>3</th>\n",
              "      <td>4.6</td>\n",
              "      <td>3.1</td>\n",
              "      <td>1.5</td>\n",
              "      <td>0.2</td>\n",
              "      <td>0</td>\n",
              "    </tr>\n",
              "    <tr>\n",
              "      <th>4</th>\n",
              "      <td>5.0</td>\n",
              "      <td>3.6</td>\n",
              "      <td>1.4</td>\n",
              "      <td>0.2</td>\n",
              "      <td>0</td>\n",
              "    </tr>\n",
              "  </tbody>\n",
              "</table>\n",
              "</div>\n",
              "      <button class=\"colab-df-convert\" onclick=\"convertToInteractive('df-a70c219e-cce8-4ad5-8d0f-13fa7448c4b5')\"\n",
              "              title=\"Convert this dataframe to an interactive table.\"\n",
              "              style=\"display:none;\">\n",
              "        \n",
              "  <svg xmlns=\"http://www.w3.org/2000/svg\" height=\"24px\"viewBox=\"0 0 24 24\"\n",
              "       width=\"24px\">\n",
              "    <path d=\"M0 0h24v24H0V0z\" fill=\"none\"/>\n",
              "    <path d=\"M18.56 5.44l.94 2.06.94-2.06 2.06-.94-2.06-.94-.94-2.06-.94 2.06-2.06.94zm-11 1L8.5 8.5l.94-2.06 2.06-.94-2.06-.94L8.5 2.5l-.94 2.06-2.06.94zm10 10l.94 2.06.94-2.06 2.06-.94-2.06-.94-.94-2.06-.94 2.06-2.06.94z\"/><path d=\"M17.41 7.96l-1.37-1.37c-.4-.4-.92-.59-1.43-.59-.52 0-1.04.2-1.43.59L10.3 9.45l-7.72 7.72c-.78.78-.78 2.05 0 2.83L4 21.41c.39.39.9.59 1.41.59.51 0 1.02-.2 1.41-.59l7.78-7.78 2.81-2.81c.8-.78.8-2.07 0-2.86zM5.41 20L4 18.59l7.72-7.72 1.47 1.35L5.41 20z\"/>\n",
              "  </svg>\n",
              "      </button>\n",
              "      \n",
              "  <style>\n",
              "    .colab-df-container {\n",
              "      display:flex;\n",
              "      flex-wrap:wrap;\n",
              "      gap: 12px;\n",
              "    }\n",
              "\n",
              "    .colab-df-convert {\n",
              "      background-color: #E8F0FE;\n",
              "      border: none;\n",
              "      border-radius: 50%;\n",
              "      cursor: pointer;\n",
              "      display: none;\n",
              "      fill: #1967D2;\n",
              "      height: 32px;\n",
              "      padding: 0 0 0 0;\n",
              "      width: 32px;\n",
              "    }\n",
              "\n",
              "    .colab-df-convert:hover {\n",
              "      background-color: #E2EBFA;\n",
              "      box-shadow: 0px 1px 2px rgba(60, 64, 67, 0.3), 0px 1px 3px 1px rgba(60, 64, 67, 0.15);\n",
              "      fill: #174EA6;\n",
              "    }\n",
              "\n",
              "    [theme=dark] .colab-df-convert {\n",
              "      background-color: #3B4455;\n",
              "      fill: #D2E3FC;\n",
              "    }\n",
              "\n",
              "    [theme=dark] .colab-df-convert:hover {\n",
              "      background-color: #434B5C;\n",
              "      box-shadow: 0px 1px 3px 1px rgba(0, 0, 0, 0.15);\n",
              "      filter: drop-shadow(0px 1px 2px rgba(0, 0, 0, 0.3));\n",
              "      fill: #FFFFFF;\n",
              "    }\n",
              "  </style>\n",
              "\n",
              "      <script>\n",
              "        const buttonEl =\n",
              "          document.querySelector('#df-a70c219e-cce8-4ad5-8d0f-13fa7448c4b5 button.colab-df-convert');\n",
              "        buttonEl.style.display =\n",
              "          google.colab.kernel.accessAllowed ? 'block' : 'none';\n",
              "\n",
              "        async function convertToInteractive(key) {\n",
              "          const element = document.querySelector('#df-a70c219e-cce8-4ad5-8d0f-13fa7448c4b5');\n",
              "          const dataTable =\n",
              "            await google.colab.kernel.invokeFunction('convertToInteractive',\n",
              "                                                     [key], {});\n",
              "          if (!dataTable) return;\n",
              "\n",
              "          const docLinkHtml = 'Like what you see? Visit the ' +\n",
              "            '<a target=\"_blank\" href=https://colab.research.google.com/notebooks/data_table.ipynb>data table notebook</a>'\n",
              "            + ' to learn more about interactive tables.';\n",
              "          element.innerHTML = '';\n",
              "          dataTable['output_type'] = 'display_data';\n",
              "          await google.colab.output.renderOutput(dataTable, element);\n",
              "          const docLink = document.createElement('div');\n",
              "          docLink.innerHTML = docLinkHtml;\n",
              "          element.appendChild(docLink);\n",
              "        }\n",
              "      </script>\n",
              "    </div>\n",
              "  </div>\n",
              "  "
            ]
          },
          "metadata": {},
          "execution_count": 24
        }
      ]
    },
    {
      "cell_type": "code",
      "source": [
        "## 데이터 전처리\n",
        "## 훈련 데이터와 테스트 데이터 분리\n",
        "# 입력은 'sepal length (cm)', 'sepal width (cm)' 2개 변수만 사용\n",
        "input_data = t_input_data[:,:2] # 독립변수, 주석 처리할 경우 4개 독립변수 사용\n",
        "train_input, test_input, train_target, test_target = train_test_split(\n",
        "input_data, target_data, test_size=0.1, random_state=1)\n",
        "\n",
        "# 표준점수로 데이터 스케일링\n",
        "scaler = StandardScaler()\n",
        "train_scaled = scaler.fit_transform(train_input)\n",
        "test_scaled = scaler.transform(test_input)\n",
        "print(train_scaled.shape, train_target.shape, test_scaled.shape, test_target.shape)"
      ],
      "metadata": {
        "colab": {
          "base_uri": "https://localhost:8080/"
        },
        "id": "1zzAziLEAu5C",
        "outputId": "816f1437-6688-4533-d743-92bae816e197"
      },
      "execution_count": 25,
      "outputs": [
        {
          "output_type": "stream",
          "name": "stdout",
          "text": [
            "(135, 2) (135,) (15, 2) (15,)\n"
          ]
        }
      ]
    },
    {
      "cell_type": "code",
      "source": [
        "## 반복횟수(max_iter)를 1000으로 지정한 로지스틱회귀 모델\n",
        "Dlr = LogisticRegression(max_iter=100)\n",
        "\n",
        "# 로지스틱회귀 학습\n",
        "Dlr.fit(train_scaled, train_target)\n",
        "\n",
        "# 테스트 데이터\n",
        "print(test_scaled[:5])\n",
        "\n",
        "# 테스트 데이터 예측 확률\n",
        "pred = Dlr.predict_proba(test_scaled[:5])\n",
        "print(pred)\n",
        "\n",
        "# 테스트 데이터 예측\n",
        "pred = Dlr.predict(test_scaled[:5])\n",
        "print(pred)\n",
        "\n",
        "# 결과 확인\n",
        "print(\"test 데이터셋 정확도\", Dlr.score(test_scaled, test_target))"
      ],
      "metadata": {
        "colab": {
          "base_uri": "https://localhost:8080/"
        },
        "id": "5H63vzvtAxqI",
        "outputId": "a9d5ae76-463b-4fac-ccf9-4719af892ed9"
      },
      "execution_count": 26,
      "outputs": [
        {
          "output_type": "stream",
          "name": "stdout",
          "text": [
            "[[-0.02086014  2.28989674]\n",
            " [-0.87793962 -1.25253328]\n",
            " [ 0.95865928 -0.07172327]\n",
            " [-0.51061984  2.05373474]\n",
            " [ 2.55037832  1.81757274]]\n",
            "[[9.33038861e-01 2.35032056e-02 4.34579331e-02]\n",
            " [1.26883851e-01 7.56846611e-01 1.16269538e-01]\n",
            " [2.24144158e-03 3.19944462e-01 6.77814097e-01]\n",
            " [9.82762992e-01 8.84177318e-03 8.39523505e-03]\n",
            " [1.08899921e-04 3.25884358e-02 9.67302664e-01]]\n",
            "[0 1 2 0 2]\n",
            "test 데이터셋 정확도 0.8\n"
          ]
        }
      ]
    },
    {
      "cell_type": "code",
      "source": [
        "## 로지스틱회귀 모델의 가중치와 절편\n",
        "# 다중 분류 가중치와 절편을 출력하면, 각 클래스마다의 가중치 절편을 출력\n",
        "\n",
        "print(Dlr.coef_,\"\\n\")\n",
        "print(Dlr.intercept_)"
      ],
      "metadata": {
        "colab": {
          "base_uri": "https://localhost:8080/"
        },
        "id": "Vj1n7ikjA-Dh",
        "outputId": "95a5c5c4-9a2d-4288-c3b3-f085d65e39d5"
      },
      "execution_count": 27,
      "outputs": [
        {
          "output_type": "stream",
          "name": "stdout",
          "text": [
            "[[-2.53394973  1.40787349]\n",
            " [ 0.68838616 -0.91510719]\n",
            " [ 1.84556358 -0.4927663 ]] \n",
            "\n",
            "[-1.0274223   0.67787193  0.34955036]\n"
          ]
        }
      ]
    },
    {
      "cell_type": "code",
      "source": [
        "## 결정 함수(decision_function)로 z1 ~ z3의 값 산출\n",
        "Dlr_decision = Dlr.decision_function(test_scaled[:5])\n",
        "print(np.round(Dlr_decision, decimals=2))\n",
        "\n",
        "## 결정 함수 직접 계산\n",
        "# sesota 클래스 1개 값 계산\n",
        "setosa_z1 = (-2.53394973 * -0.02086014) + (1.40787349 * 2.28989674) -1.0274223\n",
        "print(setosa_z1)\n",
        "\n",
        "# sesota 클래스 5개 값 계산\n",
        "setosa_z1 = (-2.53394973 * test_scaled[:5][:,0]) + (1.40787349 * test_scaled[:5][:,1]) -1.0274223\n",
        "print(setosa_z1)\n",
        "\n",
        "## sesota 클래스 5개의 확률\n",
        "print(Dlr.predict_proba(test_scaled[:5]) [:5][:,0])"
      ],
      "metadata": {
        "colab": {
          "base_uri": "https://localhost:8080/"
        },
        "id": "YxrgtQSeBAJY",
        "outputId": "b312f9d0-9b0a-4fc9-9651-5059e6efb90b"
      },
      "execution_count": 28,
      "outputs": [
        {
          "output_type": "stream",
          "name": "stdout",
          "text": [
            "[[ 2.25 -1.43 -0.82]\n",
            " [-0.57  1.22 -0.65]\n",
            " [-3.56  1.4   2.15]\n",
            " [ 3.16 -1.55 -1.6 ]\n",
            " [-4.93  0.77  4.16]]\n",
            "2.249321161204185\n",
            "[ 2.24932115 -0.56617584 -3.55759401  3.15786141 -4.93104029]\n",
            "[9.33038861e-01 1.26883851e-01 2.24144158e-03 9.82762992e-01\n",
            " 1.08899921e-04]\n"
          ]
        }
      ]
    },
    {
      "cell_type": "code",
      "source": [
        "# 소프트맥스 함수를 사용한 각 클래스들의 확률\n",
        "# 클래스 세 가지 이상인 경우 소프트맥스 (Softmax) 함수를 사용하여 확률 도출\n",
        "from scipy.special import softmax\n",
        "\n",
        "proba = softmax(Dlr_decision, axis=1)\n",
        "print(np.round(proba, decimals=3))"
      ],
      "metadata": {
        "colab": {
          "base_uri": "https://localhost:8080/"
        },
        "id": "aCVU0q-jBEA7",
        "outputId": "ba96b2a8-b5c7-45ad-97b3-15fa4f86b0f7"
      },
      "execution_count": 29,
      "outputs": [
        {
          "output_type": "stream",
          "name": "stdout",
          "text": [
            "[[0.933 0.024 0.043]\n",
            " [0.127 0.757 0.116]\n",
            " [0.002 0.32  0.678]\n",
            " [0.983 0.009 0.008]\n",
            " [0.    0.033 0.967]]\n"
          ]
        }
      ]
    },
    {
      "cell_type": "code",
      "source": [
        "pred = Dlr.predict(test_scaled)\n",
        "print(pred)"
      ],
      "metadata": {
        "colab": {
          "base_uri": "https://localhost:8080/"
        },
        "id": "T32S5ZlQBbKe",
        "outputId": "a5b2c9ae-0f34-4036-a5af-bb787623208a"
      },
      "execution_count": 30,
      "outputs": [
        {
          "output_type": "stream",
          "name": "stdout",
          "text": [
            "[0 1 2 0 2 2 2 0 0 2 1 0 2 2 1]\n"
          ]
        }
      ]
    },
    {
      "cell_type": "code",
      "source": [
        "# 성능 리포트 출력\n",
        "print(classification_report(test_target, pred))\n",
        "from sklearn.metrics import confusion_matrix, accuracy_score\n",
        "\n",
        "print()\n",
        "print('confusion matrix = \\n', confusion_matrix(y_true=test_target, y_pred=pred))\n",
        "print('accuracy = ', accuracy_score(y_true=test_target, y_pred=pred))"
      ],
      "metadata": {
        "colab": {
          "base_uri": "https://localhost:8080/"
        },
        "id": "O94A4RN8BHDF",
        "outputId": "a9440d9e-af25-421d-ed29-9a6e7a1cafe7"
      },
      "execution_count": 31,
      "outputs": [
        {
          "output_type": "stream",
          "name": "stdout",
          "text": [
            "              precision    recall  f1-score   support\n",
            "\n",
            "           0       1.00      1.00      1.00         5\n",
            "           1       1.00      0.50      0.67         6\n",
            "           2       0.57      1.00      0.73         4\n",
            "\n",
            "    accuracy                           0.80        15\n",
            "   macro avg       0.86      0.83      0.80        15\n",
            "weighted avg       0.89      0.80      0.79        15\n",
            "\n",
            "\n",
            "confusion matrix = \n",
            " [[5 0 0]\n",
            " [0 3 3]\n",
            " [0 0 4]]\n",
            "accuracy =  0.8\n"
          ]
        }
      ]
    },
    {
      "cell_type": "code",
      "source": [
        ""
      ],
      "metadata": {
        "id": "ytaZTIBTBKAi"
      },
      "execution_count": null,
      "outputs": []
    }
  ]
}