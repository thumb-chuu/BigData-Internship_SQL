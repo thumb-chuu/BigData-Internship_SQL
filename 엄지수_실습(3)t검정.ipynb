{
  "nbformat": 4,
  "nbformat_minor": 0,
  "metadata": {
    "colab": {
      "name": "엄지수_실습(3)t검정.ipynb",
      "provenance": [],
      "collapsed_sections": [],
      "authorship_tag": "ABX9TyPQGEamV/LjS99Ja4NqBffX",
      "include_colab_link": true
    },
    "kernelspec": {
      "name": "python3",
      "display_name": "Python 3"
    },
    "language_info": {
      "name": "python"
    }
  },
  "cells": [
    {
      "cell_type": "markdown",
      "metadata": {
        "id": "view-in-github",
        "colab_type": "text"
      },
      "source": [
        "<a href=\"https://colab.research.google.com/github/thumb-chuu/BigData-Internship_statistics/blob/main/%EC%97%84%EC%A7%80%EC%88%98_%EC%8B%A4%EC%8A%B5(3)t%EA%B2%80%EC%A0%95.ipynb\" target=\"_parent\"><img src=\"https://colab.research.google.com/assets/colab-badge.svg\" alt=\"Open In Colab\"/></a>"
      ]
    },
    {
      "cell_type": "markdown",
      "source": [
        "# ◆ 통계적 검정 방법 실습\n",
        "패키지 Import"
      ],
      "metadata": {
        "id": "TteW8So9Xw2p"
      }
    },
    {
      "cell_type": "code",
      "execution_count": 1,
      "metadata": {
        "id": "LDNi1W1eXmRd",
        "colab": {
          "base_uri": "https://localhost:8080/"
        },
        "outputId": "fee0aabd-a318-4865-9c44-6c5d714243a2"
      },
      "outputs": [
        {
          "output_type": "stream",
          "name": "stdout",
          "text": [
            "Reading package lists... Done\n",
            "Building dependency tree       \n",
            "Reading state information... Done\n",
            "fonts-nanum is already the newest version (20170925-1).\n",
            "The following package was automatically installed and is no longer required:\n",
            "  libnvidia-common-460\n",
            "Use 'sudo apt autoremove' to remove it.\n",
            "0 upgraded, 0 newly installed, 0 to remove and 62 not upgraded.\n",
            "/usr/share/fonts: caching, new cache contents: 0 fonts, 1 dirs\n",
            "/usr/share/fonts/truetype: caching, new cache contents: 0 fonts, 3 dirs\n",
            "/usr/share/fonts/truetype/humor-sans: caching, new cache contents: 1 fonts, 0 dirs\n",
            "/usr/share/fonts/truetype/liberation: caching, new cache contents: 16 fonts, 0 dirs\n",
            "/usr/share/fonts/truetype/nanum: caching, new cache contents: 10 fonts, 0 dirs\n",
            "/usr/local/share/fonts: caching, new cache contents: 0 fonts, 0 dirs\n",
            "/root/.local/share/fonts: skipping, no such directory\n",
            "/root/.fonts: skipping, no such directory\n",
            "/var/cache/fontconfig: cleaning cache directory\n",
            "/root/.cache/fontconfig: not cleaning non-existent cache directory\n",
            "/root/.fontconfig: not cleaning non-existent cache directory\n",
            "fc-cache: succeeded\n"
          ]
        }
      ],
      "source": [
        "!sudo apt-get install -y fonts-nanum\n",
        "!sudo fc-cache -fv\n",
        "!rm ~/.cache/matplotlib -rf"
      ]
    },
    {
      "cell_type": "code",
      "source": [
        "# 패키지 임포트\n",
        "import os\n",
        "import warnings\n",
        "warnings.simplefilter(action='ignore', category=FutureWarning)      # FutureWarning 제거\n",
        "\n",
        "import pandas as pd\n",
        "import numpy as np\n",
        "import math\n",
        "from scipy import stats\n",
        "\n",
        "# 시각화 패키지\n",
        "import matplotlib.pyplot as plt\n",
        "import seaborn as sns\n",
        "%matplotlib inline\n",
        "\n",
        "# os에 따른 Font 깨짐 제거를 위해 Font 지정 \n",
        "import os \n",
        "if os.name == 'nt' :\n",
        "    font_family = \"NanumBarunGothic\" # Windows OS \n",
        "else :\n",
        "    font_family = \"NanumBarunGothic\" # MAC OS\n",
        "\n",
        "# - 값이 깨지는 문제 해결을 위해 파라미터 값 설정 \n",
        "sns.set(font=font_family, rc ={\"axes.unicode_minus\" : False})"
      ],
      "metadata": {
        "id": "MUlHhl-pX9PJ"
      },
      "execution_count": 2,
      "outputs": []
    },
    {
      "cell_type": "markdown",
      "source": [
        "statsmodels 패키지\n",
        "- statsmodel 패키지는 추정 및 검정, 회귀분석, 시계열분석 등의 기능을 제공하는 파이썬 패키지\n",
        "- 예제 데이터셋\n",
        "- 검정 및 모수 추정\n",
        "- 회귀분석\n",
        "- 선형회귀\n",
        "- 강건회귀\n",
        "- 일반화 선형모델\n",
        "- 혼합효과모델\n",
        "- 이산종속변수\n",
        "- 시계열분석\n",
        "- 요인분석"
      ],
      "metadata": {
        "id": "WRIZMGbTYFSC"
      }
    },
    {
      "cell_type": "markdown",
      "source": [
        "StatsModels에서 제공하는 정규성 검정 명령어\n",
        "- 콜모고로프-스미르노프 검정\n",
        "- 옴니버스 검정\n",
        "- 자크-베라 검정\n",
        "- 릴리포스 검정\n",
        "\n",
        "사이파이에서 제공하는 정규성 검정 명령어\n",
        "- 콜모고로프-스미르노프 검정\n",
        "- 샤피로-윌크 검정\n",
        "- 앤더스-달링 검정\n",
        "- 다고스티노 K-제곱 검정"
      ],
      "metadata": {
        "id": "pNPsNJATYdgo"
      }
    },
    {
      "cell_type": "markdown",
      "source": [
        "## 1. t검정\n",
        "### 1) 일표본 t-검정 (one sample t-test)\n",
        "- stats.ttest_1samp() 이용(alternative :{'two-sided', 'less', 'greater'})\n",
        "- stats.shapiro 정규성 검정\n",
        "- numpy의 std는 모표준편차(ddof=0)이 기본값\n",
        "- pandas의 std는 표본표준편차(ddof=1)이 기본값"
      ],
      "metadata": {
        "id": "x0ZHsk3qY1fE"
      }
    },
    {
      "cell_type": "markdown",
      "source": [
        "증명하고자 하는 가설\n",
        "- 아이리포 중학교 1학년의 평균 키는 175cm로 알려져 있다. 실제로도 그러한지 알아보기 위해 학생 14명을 임의로 뽑아서 키를 측정하였다. 해당 데이터를 가지고 아이리포 중학교 1학년 학생의 평균 키는 175cm와 같다고 할 수 있는지 검정해보자(유의수준 : 0,05)\n",
        "\n",
        "- 귀무가설 : 아이리포 중학교 1학년의 평균 키는 175cm이다.\n",
        "- 대립가설 : 아이리포 중학교 1학년의 평균 키는 175cm가 아니다."
      ],
      "metadata": {
        "id": "9soQQgz1ZTa6"
      }
    },
    {
      "cell_type": "code",
      "source": [
        "# 모집단 데이터\n",
        "data = [177.3, 182.7, 169.6, 160, 180.3, 179.4, 178.5, 177.2, 181.8, 176.5, 190, 185, 167, 171]"
      ],
      "metadata": {
        "id": "Uoc2t9syZsyR"
      },
      "execution_count": 3,
      "outputs": []
    },
    {
      "cell_type": "code",
      "source": [
        "### 데이터의 정규성 검정 : pvalue > 0.05이면 정규성을 따름\n",
        "stats.shapiro(data)"
      ],
      "metadata": {
        "colab": {
          "base_uri": "https://localhost:8080/"
        },
        "id": "Y5xD5D36Z7Fs",
        "outputId": "057f407a-9222-4199-b199-d89ab9779eb6"
      },
      "execution_count": 4,
      "outputs": [
        {
          "output_type": "execute_result",
          "data": {
            "text/plain": [
              "ShapiroResult(statistic=0.9641273021697998, pvalue=0.7900116443634033)"
            ]
          },
          "metadata": {},
          "execution_count": 4
        }
      ]
    },
    {
      "cell_type": "markdown",
      "source": [
        "stats.ttest_1samp로 검정 통계량 계산"
      ],
      "metadata": {
        "id": "JHDAVUtUaX6H"
      }
    },
    {
      "cell_type": "code",
      "source": [
        "# 유의수준 0.05\n",
        "m_a = 0.05\n",
        "\n",
        "# 알려진 평균 확인\n",
        "s_mu = 175\n",
        "one_sample_result = stats.ttest_1samp(data, popmean = s_mu)\n",
        "\n",
        "print('t검정 통계량 = %.3f, pvalue = %.3f'%(one_sample_result))"
      ],
      "metadata": {
        "id": "9wPXnWXDaFLJ",
        "colab": {
          "base_uri": "https://localhost:8080/"
        },
        "outputId": "24d3b1b8-18b7-4cee-e7c0-c525dae78ad0"
      },
      "execution_count": 5,
      "outputs": [
        {
          "output_type": "stream",
          "name": "stdout",
          "text": [
            "t검정 통계량 = 0.903, pvalue = 0.383\n"
          ]
        }
      ]
    },
    {
      "cell_type": "markdown",
      "source": [
        "검정 통계량 직접 계산"
      ],
      "metadata": {
        "id": "GclXTWufxzff"
      }
    },
    {
      "cell_type": "code",
      "source": [
        "# 표본 수\n",
        "n = len(data)\n",
        "print(len(data))\n",
        "hysis_mu = np.mean(data)\n",
        "print(np.mean(data))\n",
        "\n",
        "# 알려진 평균\n",
        "s_mu = 175\n",
        "\n",
        "# 표본표준편차\n",
        "s_sigma = np.std(data, ddof=1)\n",
        "print(np.std(data, ddof=1))\n",
        "\n",
        "# 통계량 t값 계산\n",
        "t_value = (hysis_mu - s_mu) / (s_sigma / np.sqrt(n))\n",
        "\n",
        "print('t검정 통계량 :', round(t_value,3))\n",
        "\n",
        "# p_value(유의확률) 계산\n",
        "print('p_value(유의확률):', round((1- stats.t(df=13).cdf(t_value))*2, 3))"
      ],
      "metadata": {
        "colab": {
          "base_uri": "https://localhost:8080/"
        },
        "id": "mT_R2aFVxlIB",
        "outputId": "194c699c-9ce4-4035-90d2-cd3922e6b69a"
      },
      "execution_count": 6,
      "outputs": [
        {
          "output_type": "stream",
          "name": "stdout",
          "text": [
            "14\n",
            "176.87857142857143\n",
            "7.782443611837389\n",
            "t검정 통계량 : 0.903\n",
            "p_value(유의확률): 0.383\n"
          ]
        }
      ]
    },
    {
      "cell_type": "code",
      "source": [
        "## 기각값\n",
        "# 유의수준 0.05\n",
        "print('유의수준:', m_a)\n",
        "\n",
        "# 기각값\n",
        "t_95 = stats.t.ppf(1 - (1-0.95)/2, df=n-1)\n",
        "print('기각값:', t_95)"
      ],
      "metadata": {
        "colab": {
          "base_uri": "https://localhost:8080/"
        },
        "id": "TKAKlfA0ya4C",
        "outputId": "632d26bf-dd8a-4682-9b23-26354bde0e60"
      },
      "execution_count": 7,
      "outputs": [
        {
          "output_type": "stream",
          "name": "stdout",
          "text": [
            "유의수준: 0.05\n",
            "기각값: 2.1603686564610127\n"
          ]
        }
      ]
    },
    {
      "cell_type": "markdown",
      "source": [
        "결론\n",
        "- 검정 통계량 검정: 0.903은 채택역에 속함(기각역 2.16)\n",
        "- P-value 검정: 0.05(유의수준) < 0.383(p-value), 귀무가설 채택\n",
        "- 아이리포 중학교 1학년의 평균 키는 175cm이다."
      ],
      "metadata": {
        "id": "97LOGnyByqP3"
      }
    },
    {
      "cell_type": "markdown",
      "source": [
        "### 2) 대응표본 t-검정 (paired sample t-test)\n",
        "- stats.ttest_rel(before_data, after_data)"
      ],
      "metadata": {
        "id": "mP60sOqdy5aA"
      }
    },
    {
      "cell_type": "markdown",
      "source": [
        "증명하고자 하는 가설\n",
        "- 10명의 환자를 대상으로 비타민을 복용하기 전과 후의 수면시간을 측정하여 비타민의 효과가 있는지를 판단하고자 한다. 표본이 정규성을 만족한다는 가정하에 수면시간의 차이가 줄어 들었는지 검정(유의수준:0.05)\n",
        "- 귀무가설 : 수면영양제를 복용하기 전과 후의 평균 수면시간에는 차이가 없다.(D=0)\n",
        "- 대립가설 : 수면영양제를 복용하기 전과 후의 평균 수면시간 차이는 0보다 작다.(D<0)"
      ],
      "metadata": {
        "id": "5_Pdj99IzEwa"
      }
    },
    {
      "cell_type": "code",
      "source": [
        "# 검정 데이터 관측지\n",
        "before_data = [7, 3, 4, 5, 2, 1, 6, 6, 5, 4]\n",
        "after_data = [8, 4, 5, 6, 2, 3, 6, 8, 6, 5]\n",
        "\n",
        "check = ['before', 'after']\n",
        "\n",
        "# 데이터프레임 merge\n",
        "check = [check[j] for j in range(2) for i in range(10)]\n",
        "\n",
        "data = pd.DataFrame({'when':check, 'score': before_data + after_data})"
      ],
      "metadata": {
        "id": "eDGl2-UCynRF"
      },
      "execution_count": 8,
      "outputs": []
    },
    {
      "cell_type": "code",
      "source": [
        "data.head()"
      ],
      "metadata": {
        "colab": {
          "base_uri": "https://localhost:8080/",
          "height": 206
        },
        "id": "Tor5WcHmz4E_",
        "outputId": "ff958bdd-5d5e-4c72-a8e0-f2a88aa6d416"
      },
      "execution_count": 9,
      "outputs": [
        {
          "output_type": "execute_result",
          "data": {
            "text/plain": [
              "     when  score\n",
              "0  before      7\n",
              "1  before      3\n",
              "2  before      4\n",
              "3  before      5\n",
              "4  before      2"
            ],
            "text/html": [
              "\n",
              "  <div id=\"df-a844a1db-0d2d-4024-a80b-d365e8cdbf3f\">\n",
              "    <div class=\"colab-df-container\">\n",
              "      <div>\n",
              "<style scoped>\n",
              "    .dataframe tbody tr th:only-of-type {\n",
              "        vertical-align: middle;\n",
              "    }\n",
              "\n",
              "    .dataframe tbody tr th {\n",
              "        vertical-align: top;\n",
              "    }\n",
              "\n",
              "    .dataframe thead th {\n",
              "        text-align: right;\n",
              "    }\n",
              "</style>\n",
              "<table border=\"1\" class=\"dataframe\">\n",
              "  <thead>\n",
              "    <tr style=\"text-align: right;\">\n",
              "      <th></th>\n",
              "      <th>when</th>\n",
              "      <th>score</th>\n",
              "    </tr>\n",
              "  </thead>\n",
              "  <tbody>\n",
              "    <tr>\n",
              "      <th>0</th>\n",
              "      <td>before</td>\n",
              "      <td>7</td>\n",
              "    </tr>\n",
              "    <tr>\n",
              "      <th>1</th>\n",
              "      <td>before</td>\n",
              "      <td>3</td>\n",
              "    </tr>\n",
              "    <tr>\n",
              "      <th>2</th>\n",
              "      <td>before</td>\n",
              "      <td>4</td>\n",
              "    </tr>\n",
              "    <tr>\n",
              "      <th>3</th>\n",
              "      <td>before</td>\n",
              "      <td>5</td>\n",
              "    </tr>\n",
              "    <tr>\n",
              "      <th>4</th>\n",
              "      <td>before</td>\n",
              "      <td>2</td>\n",
              "    </tr>\n",
              "  </tbody>\n",
              "</table>\n",
              "</div>\n",
              "      <button class=\"colab-df-convert\" onclick=\"convertToInteractive('df-a844a1db-0d2d-4024-a80b-d365e8cdbf3f')\"\n",
              "              title=\"Convert this dataframe to an interactive table.\"\n",
              "              style=\"display:none;\">\n",
              "        \n",
              "  <svg xmlns=\"http://www.w3.org/2000/svg\" height=\"24px\"viewBox=\"0 0 24 24\"\n",
              "       width=\"24px\">\n",
              "    <path d=\"M0 0h24v24H0V0z\" fill=\"none\"/>\n",
              "    <path d=\"M18.56 5.44l.94 2.06.94-2.06 2.06-.94-2.06-.94-.94-2.06-.94 2.06-2.06.94zm-11 1L8.5 8.5l.94-2.06 2.06-.94-2.06-.94L8.5 2.5l-.94 2.06-2.06.94zm10 10l.94 2.06.94-2.06 2.06-.94-2.06-.94-.94-2.06-.94 2.06-2.06.94z\"/><path d=\"M17.41 7.96l-1.37-1.37c-.4-.4-.92-.59-1.43-.59-.52 0-1.04.2-1.43.59L10.3 9.45l-7.72 7.72c-.78.78-.78 2.05 0 2.83L4 21.41c.39.39.9.59 1.41.59.51 0 1.02-.2 1.41-.59l7.78-7.78 2.81-2.81c.8-.78.8-2.07 0-2.86zM5.41 20L4 18.59l7.72-7.72 1.47 1.35L5.41 20z\"/>\n",
              "  </svg>\n",
              "      </button>\n",
              "      \n",
              "  <style>\n",
              "    .colab-df-container {\n",
              "      display:flex;\n",
              "      flex-wrap:wrap;\n",
              "      gap: 12px;\n",
              "    }\n",
              "\n",
              "    .colab-df-convert {\n",
              "      background-color: #E8F0FE;\n",
              "      border: none;\n",
              "      border-radius: 50%;\n",
              "      cursor: pointer;\n",
              "      display: none;\n",
              "      fill: #1967D2;\n",
              "      height: 32px;\n",
              "      padding: 0 0 0 0;\n",
              "      width: 32px;\n",
              "    }\n",
              "\n",
              "    .colab-df-convert:hover {\n",
              "      background-color: #E2EBFA;\n",
              "      box-shadow: 0px 1px 2px rgba(60, 64, 67, 0.3), 0px 1px 3px 1px rgba(60, 64, 67, 0.15);\n",
              "      fill: #174EA6;\n",
              "    }\n",
              "\n",
              "    [theme=dark] .colab-df-convert {\n",
              "      background-color: #3B4455;\n",
              "      fill: #D2E3FC;\n",
              "    }\n",
              "\n",
              "    [theme=dark] .colab-df-convert:hover {\n",
              "      background-color: #434B5C;\n",
              "      box-shadow: 0px 1px 3px 1px rgba(0, 0, 0, 0.15);\n",
              "      filter: drop-shadow(0px 1px 2px rgba(0, 0, 0, 0.3));\n",
              "      fill: #FFFFFF;\n",
              "    }\n",
              "  </style>\n",
              "\n",
              "      <script>\n",
              "        const buttonEl =\n",
              "          document.querySelector('#df-a844a1db-0d2d-4024-a80b-d365e8cdbf3f button.colab-df-convert');\n",
              "        buttonEl.style.display =\n",
              "          google.colab.kernel.accessAllowed ? 'block' : 'none';\n",
              "\n",
              "        async function convertToInteractive(key) {\n",
              "          const element = document.querySelector('#df-a844a1db-0d2d-4024-a80b-d365e8cdbf3f');\n",
              "          const dataTable =\n",
              "            await google.colab.kernel.invokeFunction('convertToInteractive',\n",
              "                                                     [key], {});\n",
              "          if (!dataTable) return;\n",
              "\n",
              "          const docLinkHtml = 'Like what you see? Visit the ' +\n",
              "            '<a target=\"_blank\" href=https://colab.research.google.com/notebooks/data_table.ipynb>data table notebook</a>'\n",
              "            + ' to learn more about interactive tables.';\n",
              "          element.innerHTML = '';\n",
              "          dataTable['output_type'] = 'display_data';\n",
              "          await google.colab.output.renderOutput(dataTable, element);\n",
              "          const docLink = document.createElement('div');\n",
              "          docLink.innerHTML = docLinkHtml;\n",
              "          element.appendChild(docLink);\n",
              "        }\n",
              "      </script>\n",
              "    </div>\n",
              "  </div>\n",
              "  "
            ]
          },
          "metadata": {},
          "execution_count": 9
        }
      ]
    },
    {
      "cell_type": "code",
      "source": [
        "# 정규성 검정 : 자료의 모집단 분포는 정규분포를 따름\n",
        "from scipy.stats import shapiro\n",
        "\n",
        "normal_before = shapiro(before_data)\n",
        "normal_after = shapiro(after_data)\n",
        "\n",
        "print(normal_before)\n",
        "print(normal_after)\n",
        "\n",
        "# p-value 모두 0.05보다 크기 때문에 정규성 만족"
      ],
      "metadata": {
        "colab": {
          "base_uri": "https://localhost:8080/"
        },
        "id": "fexA9AePz5xy",
        "outputId": "4d095281-ac04-45e0-de55-a726c9ede7f0"
      },
      "execution_count": 10,
      "outputs": [
        {
          "output_type": "stream",
          "name": "stdout",
          "text": [
            "ShapiroResult(statistic=0.9644595384597778, pvalue=0.8352707624435425)\n",
            "ShapiroResult(statistic=0.9456837177276611, pvalue=0.6177994012832642)\n"
          ]
        }
      ]
    },
    {
      "cell_type": "code",
      "source": [
        "# 등분산성 검정 : 모든 집단의 모분산은 동일함\n",
        "from scipy.stats import levene\n",
        "print(levene(before_data, after_data))\n",
        "\n",
        "from scipy.stats import bartlett\n",
        "print(bartlett(before_data, after_data))\n",
        "\n",
        "# p-value가 0.05보다 커서 등분산성 만족"
      ],
      "metadata": {
        "colab": {
          "base_uri": "https://localhost:8080/"
        },
        "id": "HgsQRHG60Ldw",
        "outputId": "dd68244d-e430-409c-80fa-f6de04d34507"
      },
      "execution_count": 11,
      "outputs": [
        {
          "output_type": "stream",
          "name": "stdout",
          "text": [
            "LeveneResult(statistic=0.0, pvalue=1.0)\n",
            "BartlettResult(statistic=0.007785808167159078, pvalue=0.9296881301038368)\n"
          ]
        }
      ]
    },
    {
      "cell_type": "code",
      "source": [
        "# 대응표본 t검정 수행\n",
        "paired_result = stats.ttest_rel(before_data, after_data)"
      ],
      "metadata": {
        "id": "3cCBms7_0hpk"
      },
      "execution_count": 12,
      "outputs": []
    },
    {
      "cell_type": "code",
      "source": [
        "print('t검정 통계량 = %.3f, pvalue = %.3f'%paired_result)"
      ],
      "metadata": {
        "colab": {
          "base_uri": "https://localhost:8080/"
        },
        "id": "13_qYm-60mw-",
        "outputId": "dbfe7d6a-52bd-4a2a-eacb-c51db9896a9e"
      },
      "execution_count": 13,
      "outputs": [
        {
          "output_type": "stream",
          "name": "stdout",
          "text": [
            "t검정 통계량 = -4.743, pvalue = 0.001\n"
          ]
        }
      ]
    },
    {
      "cell_type": "markdown",
      "source": [
        "결론\n",
        "- 대응표본 t검정 수행 결과, 검정 통계량 t값은 -4.7434, 유의확률(P-value)은 0.001\n",
        "- P-value 검정: 0.05(유의수준) > 0.001(p-value), 귀무가설 기각\n",
        "- 수면영양제를 복용하기 전과 후의 평균 수면시간 차이는 통계적으로 유의하며, 영양제를 복용한 후 수면시간이 줄었다는 결론을 내릴 수 있음"
      ],
      "metadata": {
        "id": "K3IJXa250ySP"
      }
    },
    {
      "cell_type": "markdown",
      "source": [
        "### 3) 독립표본 t-검정 (Independent Sample t-Test)\n",
        "- 등분산성 만족 : stats.ttest_ind(x,y,equl_var=True)\n",
        "- 등분산성 불만족 : stats.ttest_ind(x,y,equl_val=False)"
      ],
      "metadata": {
        "id": "UNH_xure1MMG"
      }
    },
    {
      "cell_type": "markdown",
      "source": [
        "증명하고자 하는 가설\n",
        "- 서울과 구미, 두 지역의 겨울 낮 최고기온에 차이가 있는지를 알아보기 위해 12일동안 두 지역의 낮 최고기온을 측정한 데이터로 독립표본 t-검정을 수행해보자. (표본이 정규성을 만족한다는 가정, 양측검정 수행)\n",
        "- 귀무가설 : a,b 두 지역에 따른 겨울 낮 최고기온은 차이가 없다.\n",
        "- 대립가설 : a,b 두 지역에 따른 겨울 낮 최고기온은 차이가 있다."
      ],
      "metadata": {
        "id": "j680A7tY1dZu"
      }
    },
    {
      "cell_type": "code",
      "source": [
        "# 데이터프레임\n",
        "seoul = [-1, 0, 3, 4, 1, 3, 3, 1, 1, 3, 2, 4]\n",
        "daegu = [6, 6, 8, 8, 11, 11, 10, 8, 8, 9, 7, 10]\n",
        "region = ['seoul']*12 + ['daegu']*12\n",
        "data = pd.DataFrame({'region':region, 'temp': seoul+daegu})"
      ],
      "metadata": {
        "id": "_onePudw0xYO"
      },
      "execution_count": 14,
      "outputs": []
    },
    {
      "cell_type": "code",
      "source": [
        "data.head(3)"
      ],
      "metadata": {
        "colab": {
          "base_uri": "https://localhost:8080/",
          "height": 143
        },
        "id": "9L9Vxbth2Hnr",
        "outputId": "69f30460-8a4a-4577-f84e-eb02309da07b"
      },
      "execution_count": 15,
      "outputs": [
        {
          "output_type": "execute_result",
          "data": {
            "text/plain": [
              "  region  temp\n",
              "0  seoul    -1\n",
              "1  seoul     0\n",
              "2  seoul     3"
            ],
            "text/html": [
              "\n",
              "  <div id=\"df-9de417ac-7875-4504-baf2-99cf720edc43\">\n",
              "    <div class=\"colab-df-container\">\n",
              "      <div>\n",
              "<style scoped>\n",
              "    .dataframe tbody tr th:only-of-type {\n",
              "        vertical-align: middle;\n",
              "    }\n",
              "\n",
              "    .dataframe tbody tr th {\n",
              "        vertical-align: top;\n",
              "    }\n",
              "\n",
              "    .dataframe thead th {\n",
              "        text-align: right;\n",
              "    }\n",
              "</style>\n",
              "<table border=\"1\" class=\"dataframe\">\n",
              "  <thead>\n",
              "    <tr style=\"text-align: right;\">\n",
              "      <th></th>\n",
              "      <th>region</th>\n",
              "      <th>temp</th>\n",
              "    </tr>\n",
              "  </thead>\n",
              "  <tbody>\n",
              "    <tr>\n",
              "      <th>0</th>\n",
              "      <td>seoul</td>\n",
              "      <td>-1</td>\n",
              "    </tr>\n",
              "    <tr>\n",
              "      <th>1</th>\n",
              "      <td>seoul</td>\n",
              "      <td>0</td>\n",
              "    </tr>\n",
              "    <tr>\n",
              "      <th>2</th>\n",
              "      <td>seoul</td>\n",
              "      <td>3</td>\n",
              "    </tr>\n",
              "  </tbody>\n",
              "</table>\n",
              "</div>\n",
              "      <button class=\"colab-df-convert\" onclick=\"convertToInteractive('df-9de417ac-7875-4504-baf2-99cf720edc43')\"\n",
              "              title=\"Convert this dataframe to an interactive table.\"\n",
              "              style=\"display:none;\">\n",
              "        \n",
              "  <svg xmlns=\"http://www.w3.org/2000/svg\" height=\"24px\"viewBox=\"0 0 24 24\"\n",
              "       width=\"24px\">\n",
              "    <path d=\"M0 0h24v24H0V0z\" fill=\"none\"/>\n",
              "    <path d=\"M18.56 5.44l.94 2.06.94-2.06 2.06-.94-2.06-.94-.94-2.06-.94 2.06-2.06.94zm-11 1L8.5 8.5l.94-2.06 2.06-.94-2.06-.94L8.5 2.5l-.94 2.06-2.06.94zm10 10l.94 2.06.94-2.06 2.06-.94-2.06-.94-.94-2.06-.94 2.06-2.06.94z\"/><path d=\"M17.41 7.96l-1.37-1.37c-.4-.4-.92-.59-1.43-.59-.52 0-1.04.2-1.43.59L10.3 9.45l-7.72 7.72c-.78.78-.78 2.05 0 2.83L4 21.41c.39.39.9.59 1.41.59.51 0 1.02-.2 1.41-.59l7.78-7.78 2.81-2.81c.8-.78.8-2.07 0-2.86zM5.41 20L4 18.59l7.72-7.72 1.47 1.35L5.41 20z\"/>\n",
              "  </svg>\n",
              "      </button>\n",
              "      \n",
              "  <style>\n",
              "    .colab-df-container {\n",
              "      display:flex;\n",
              "      flex-wrap:wrap;\n",
              "      gap: 12px;\n",
              "    }\n",
              "\n",
              "    .colab-df-convert {\n",
              "      background-color: #E8F0FE;\n",
              "      border: none;\n",
              "      border-radius: 50%;\n",
              "      cursor: pointer;\n",
              "      display: none;\n",
              "      fill: #1967D2;\n",
              "      height: 32px;\n",
              "      padding: 0 0 0 0;\n",
              "      width: 32px;\n",
              "    }\n",
              "\n",
              "    .colab-df-convert:hover {\n",
              "      background-color: #E2EBFA;\n",
              "      box-shadow: 0px 1px 2px rgba(60, 64, 67, 0.3), 0px 1px 3px 1px rgba(60, 64, 67, 0.15);\n",
              "      fill: #174EA6;\n",
              "    }\n",
              "\n",
              "    [theme=dark] .colab-df-convert {\n",
              "      background-color: #3B4455;\n",
              "      fill: #D2E3FC;\n",
              "    }\n",
              "\n",
              "    [theme=dark] .colab-df-convert:hover {\n",
              "      background-color: #434B5C;\n",
              "      box-shadow: 0px 1px 3px 1px rgba(0, 0, 0, 0.15);\n",
              "      filter: drop-shadow(0px 1px 2px rgba(0, 0, 0, 0.3));\n",
              "      fill: #FFFFFF;\n",
              "    }\n",
              "  </style>\n",
              "\n",
              "      <script>\n",
              "        const buttonEl =\n",
              "          document.querySelector('#df-9de417ac-7875-4504-baf2-99cf720edc43 button.colab-df-convert');\n",
              "        buttonEl.style.display =\n",
              "          google.colab.kernel.accessAllowed ? 'block' : 'none';\n",
              "\n",
              "        async function convertToInteractive(key) {\n",
              "          const element = document.querySelector('#df-9de417ac-7875-4504-baf2-99cf720edc43');\n",
              "          const dataTable =\n",
              "            await google.colab.kernel.invokeFunction('convertToInteractive',\n",
              "                                                     [key], {});\n",
              "          if (!dataTable) return;\n",
              "\n",
              "          const docLinkHtml = 'Like what you see? Visit the ' +\n",
              "            '<a target=\"_blank\" href=https://colab.research.google.com/notebooks/data_table.ipynb>data table notebook</a>'\n",
              "            + ' to learn more about interactive tables.';\n",
              "          element.innerHTML = '';\n",
              "          dataTable['output_type'] = 'display_data';\n",
              "          await google.colab.output.renderOutput(dataTable, element);\n",
              "          const docLink = document.createElement('div');\n",
              "          docLink.innerHTML = docLinkHtml;\n",
              "          element.appendChild(docLink);\n",
              "        }\n",
              "      </script>\n",
              "    </div>\n",
              "  </div>\n",
              "  "
            ]
          },
          "metadata": {},
          "execution_count": 15
        }
      ]
    },
    {
      "cell_type": "code",
      "source": [
        "## 정규성 검정 : 자료의 모집단 분포는 정규분포를 따름\n",
        "\n",
        "normal_seoul = shapiro(seoul)\n",
        "normal_daegu = shapiro(daegu)\n",
        "print(normal_seoul)\n",
        "print(normal_daegu)\n",
        "\n",
        "# 결과 : p-value > 0.05, 정규성을 만족"
      ],
      "metadata": {
        "colab": {
          "base_uri": "https://localhost:8080/"
        },
        "id": "0ewul3Nk2Jic",
        "outputId": "947b8f37-6111-4eb5-f842-6363c3c557da"
      },
      "execution_count": 16,
      "outputs": [
        {
          "output_type": "stream",
          "name": "stdout",
          "text": [
            "ShapiroResult(statistic=0.9178414940834045, pvalue=0.2685382068157196)\n",
            "ShapiroResult(statistic=0.9212772846221924, pvalue=0.2966691553592682)\n"
          ]
        }
      ]
    },
    {
      "cell_type": "code",
      "source": [
        "## 등분산성 검정 : 모든 집단의 모분산은 동일함\n",
        "\n",
        "# levene 등분산성 검정\n",
        "print(levene(seoul, daegu))\n",
        "\n",
        "# bartlett 등분산성 검정\n",
        "print(bartlett(seoul, daegu))\n",
        "\n",
        "# 결과 : p-value > 0.05, 등분산성 만족"
      ],
      "metadata": {
        "colab": {
          "base_uri": "https://localhost:8080/"
        },
        "id": "oWzCfFDN2dOx",
        "outputId": "6ad11136-34d7-4c8e-fc65-24dff6d59c19"
      },
      "execution_count": 17,
      "outputs": [
        {
          "output_type": "stream",
          "name": "stdout",
          "text": [
            "LeveneResult(statistic=0.0, pvalue=1.0)\n",
            "BartlettResult(statistic=0.07093015354702552, pvalue=0.7899872613272646)\n"
          ]
        }
      ]
    },
    {
      "cell_type": "code",
      "source": [
        "# 독립표본 t-검정\n",
        "ttests_result = stats.ttest_ind(seoul, daegu, equal_var=True)   # 등분산성 만족\n",
        "# ttest_ind(a, b, equal_var=False)                              # 등분산성 불만족\n",
        "\n",
        "print(\"t검정 통계량: %.3f, pvalue=%.15f\"%(ttests_result))"
      ],
      "metadata": {
        "colab": {
          "base_uri": "https://localhost:8080/"
        },
        "id": "njGPP7KY2tSl",
        "outputId": "483ec483-77b9-4199-ff25-38cb349edbde"
      },
      "execution_count": 18,
      "outputs": [
        {
          "output_type": "stream",
          "name": "stdout",
          "text": [
            "t검정 통계량: -9.562, pvalue=0.000000002711180\n"
          ]
        }
      ]
    },
    {
      "cell_type": "markdown",
      "source": [
        "결론\n",
        "- 독립표본 t검정 수행결과, 검정 통계량 t값은 -9.562, 유의확률(P-value)은 0.000000002711180\n",
        "- P-value 검정 : 0.05(유의수준) > 0.000000002711180(p-value), 귀무가설 기각\n",
        "- 서울과 구미, 두 지역의 겨울 낮 최고기온에는 통계적으로 유의한 차이가 존재한다는 결론을 내릴 수 있음"
      ],
      "metadata": {
        "id": "YfOB3LSY3FN_"
      }
    },
    {
      "cell_type": "code",
      "source": [
        ""
      ],
      "metadata": {
        "id": "lfQtmSFb3gQ5"
      },
      "execution_count": null,
      "outputs": []
    }
  ]
}