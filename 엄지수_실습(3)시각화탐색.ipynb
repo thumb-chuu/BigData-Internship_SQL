{
  "nbformat": 4,
  "nbformat_minor": 0,
  "metadata": {
    "colab": {
      "name": "엄지수_실습(3)시각화탐색.ipynb",
      "provenance": [],
      "collapsed_sections": [],
      "include_colab_link": true
    },
    "kernelspec": {
      "name": "python3",
      "display_name": "Python 3"
    },
    "language_info": {
      "name": "python"
    }
  },
  "cells": [
    {
      "cell_type": "markdown",
      "metadata": {
        "id": "view-in-github",
        "colab_type": "text"
      },
      "source": [
        "<a href=\"https://colab.research.google.com/github/thumb-chuu/BigData-Internship_statistics/blob/main/%EC%97%84%EC%A7%80%EC%88%98_%EC%8B%A4%EC%8A%B5(3)%EC%8B%9C%EA%B0%81%ED%99%94%ED%83%90%EC%83%89.ipynb\" target=\"_parent\"><img src=\"https://colab.research.google.com/assets/colab-badge.svg\" alt=\"Open In Colab\"/></a>"
      ]
    },
    {
      "cell_type": "markdown",
      "source": [
        "# ◆ 시각화 탐색 실습\n",
        "### 1. 필요 라이브러리 Import"
      ],
      "metadata": {
        "id": "6iHyKcp068mX"
      }
    },
    {
      "cell_type": "code",
      "execution_count": null,
      "metadata": {
        "id": "eKdPGgrT0QAG"
      },
      "outputs": [],
      "source": [
        "import pandas as pd                                 # pandas package\n",
        "# import numpy as np                                # numpy package : np.nan 이용 결측값 생성\n",
        "# import scipy.stats as stats\n",
        "import matplotlib.pyplot as plt                     # matplotlib 시각화 패키지\n",
        "%matplotlib inline\n",
        "import seaborn as sns                               # seaborn 시각화 패키지\n",
        "\n",
        "# os에 따른 Font 깨짐 제거를 위해 Font 지정\n",
        "import os\n",
        "if os.name == 'nt' :                                # Windows OS\n",
        "    font_family = \"Malgun Gothic\"\n",
        "else:                                               # MAC OS\n",
        "    font_family = \"AppleGothic\"\n",
        "\n",
        "# - 값이 깨지는 문제 해결을 위해 파라미터값 설정\n",
        "sns.set(font=font_family, rc={\"axes.unicode_minus\" : False})"
      ]
    },
    {
      "cell_type": "markdown",
      "source": [
        "### 2. 데이터셋 생성\n",
        "### - 팁 데이터셋(tips)\n",
        "### 레스토랑에 방문한 손님이 팁을 얼마나 주는지, 성별, 흡연여부, 요일, 식사 시간, 식사 인원 등에 대한 정보를 가지고 있는 데이터셋"
      ],
      "metadata": {
        "id": "QEYizz-C8Efm"
      }
    },
    {
      "cell_type": "code",
      "source": [
        "# tips data 로드\n",
        "data = sns.load_dataset('tips')"
      ],
      "metadata": {
        "id": "oo2FDf9e70pZ"
      },
      "execution_count": null,
      "outputs": []
    },
    {
      "cell_type": "markdown",
      "source": [
        "### 3. 시각화 탐색\n",
        "### 1) 상자그림(Box Plot)\n",
        "### 사분위수를 계산하여, 최대/최소값을 벗어나는 이상값 시각화"
      ],
      "metadata": {
        "id": "h4zZKvHO8anU"
      }
    },
    {
      "cell_type": "code",
      "source": [
        "# 백분위수 계산(percentile)\n",
        "print(data['tip'].quantile([0.05, 0.25, 0.5, 0.75, 0.95]))\n",
        "\n",
        "print(\"\\n\")\n",
        "percentages = [0.05, 0.25, 0.5, 0.75, 0.95]\n",
        "df = pd.DataFrame(data['tip'].quantile(percentages))\n",
        "df.index = [f'{p * 100}%' for p in percentages]\n",
        "print(df.transpose())"
      ],
      "metadata": {
        "colab": {
          "base_uri": "https://localhost:8080/"
        },
        "id": "sQaIMv1y8ZCQ",
        "outputId": "ad449d87-ae4a-4bdb-d354-46ea48615b44"
      },
      "execution_count": null,
      "outputs": [
        {
          "output_type": "stream",
          "name": "stdout",
          "text": [
            "0.05    1.4400\n",
            "0.25    2.0000\n",
            "0.50    2.9000\n",
            "0.75    3.5625\n",
            "0.95    5.1955\n",
            "Name: tip, dtype: float64\n",
            "\n",
            "\n",
            "     5.0%  25.0%  50.0%   75.0%   95.0%\n",
            "tip  1.44    2.0    2.9  3.5625  5.1955\n"
          ]
        }
      ]
    },
    {
      "cell_type": "code",
      "source": [
        "# 한 변수에 대한 이상값 시각화\n",
        "ax = (data['tip']).plot.box()\n",
        "ax.set_ylabel('달러($)')"
      ],
      "metadata": {
        "colab": {
          "base_uri": "https://localhost:8080/",
          "height": 450
        },
        "id": "mkz8252N8_z0",
        "outputId": "a8820b76-1776-439e-fd1c-48bfea6d42df"
      },
      "execution_count": null,
      "outputs": [
        {
          "output_type": "execute_result",
          "data": {
            "text/plain": [
              "Text(0, 0.5, '달러($)')"
            ]
          },
          "metadata": {},
          "execution_count": 4
        },
        {
          "output_type": "stream",
          "name": "stderr",
          "text": [
            "findfont: Font family ['AppleGothic'] not found. Falling back to DejaVu Sans.\n",
            "findfont: Font family ['AppleGothic'] not found. Falling back to DejaVu Sans.\n",
            "/usr/local/lib/python3.7/dist-packages/matplotlib/backends/backend_agg.py:214: RuntimeWarning: Glyph 45804 missing from current font.\n",
            "  font.set_text(s, 0.0, flags=flags)\n",
            "/usr/local/lib/python3.7/dist-packages/matplotlib/backends/backend_agg.py:214: RuntimeWarning: Glyph 47084 missing from current font.\n",
            "  font.set_text(s, 0.0, flags=flags)\n",
            "/usr/local/lib/python3.7/dist-packages/matplotlib/backends/backend_agg.py:183: RuntimeWarning: Glyph 45804 missing from current font.\n",
            "  font.set_text(s, 0, flags=flags)\n",
            "/usr/local/lib/python3.7/dist-packages/matplotlib/backends/backend_agg.py:183: RuntimeWarning: Glyph 47084 missing from current font.\n",
            "  font.set_text(s, 0, flags=flags)\n"
          ]
        },
        {
          "output_type": "display_data",
          "data": {
            "text/plain": [
              "<Figure size 432x288 with 1 Axes>"
            ],
            "image/png": "[encoded data removed]"
          },
          "metadata": {
            "needs_background": "light"
          }
        }
      ]
    },
    {
      "cell_type": "code",
      "source": [
        "# 상자그림을 이용한 전체 변수의 이상값 확인\n",
        "plt.figure(figsize=(10, 5))\n",
        "sns.boxplot(data = data, orient='h')\n",
        "plt.show()"
      ],
      "metadata": {
        "colab": {
          "base_uri": "https://localhost:8080/",
          "height": 322
        },
        "id": "VhEyPAYP9KBk",
        "outputId": "11c4839e-de69-450c-d97b-1f188bbec164"
      },
      "execution_count": null,
      "outputs": [
        {
          "output_type": "display_data",
          "data": {
            "text/plain": [
              "<Figure size 720x360 with 1 Axes>"
            ],
            "image/png": "[encoded data removed]"
          },
          "metadata": {
            "needs_background": "light"
          }
        }
      ]
    },
    {
      "cell_type": "markdown",
      "source": [
        "### 3. 시각화 탐색\n",
        "### 2) 막대 그래프(Bar Chart)\n",
        "### 사물의 양을 막대 모양의 길이로 나타낸 그래프(비교 시각화)"
      ],
      "metadata": {
        "id": "bOsO-cEd9XBF"
      }
    },
    {
      "cell_type": "code",
      "source": [
        "# 요일별 tip 비교\n",
        "tips_sum_day = data.groupby('day').tip.sum()\n",
        "tips_sum_day"
      ],
      "metadata": {
        "colab": {
          "base_uri": "https://localhost:8080/"
        },
        "id": "gWjLkHBJ9VEq",
        "outputId": "2a57a20e-a272-48ed-c015-3549bbe599f3"
      },
      "execution_count": null,
      "outputs": [
        {
          "output_type": "execute_result",
          "data": {
            "text/plain": [
              "day\n",
              "Thur    171.83\n",
              "Fri      51.96\n",
              "Sat     260.40\n",
              "Sun     247.39\n",
              "Name: tip, dtype: float64"
            ]
          },
          "metadata": {},
          "execution_count": 6
        }
      ]
    },
    {
      "cell_type": "code",
      "source": [
        "# matplotlib 막대 그래프 시각화\n",
        "label = ['Thur', 'Fri', 'Sat', 'Sun']\n",
        "plt.bar(label, tips_sum_day, width=0.5, align='edge')"
      ],
      "metadata": {
        "colab": {
          "base_uri": "https://localhost:8080/",
          "height": 286
        },
        "id": "A6Gpe8ai9k1f",
        "outputId": "fec70226-e40f-4169-8964-862a0afa58fe"
      },
      "execution_count": null,
      "outputs": [
        {
          "output_type": "execute_result",
          "data": {
            "text/plain": [
              "<BarContainer object of 4 artists>"
            ]
          },
          "metadata": {},
          "execution_count": 7
        },
        {
          "output_type": "display_data",
          "data": {
            "text/plain": [
              "<Figure size 432x288 with 1 Axes>"
            ],
            "image/png": "[encoded data removed]"
          },
          "metadata": {
            "needs_background": "light"
          }
        }
      ]
    },
    {
      "cell_type": "code",
      "source": [
        "# Seaborn 막대 그래프 시각화\n",
        "# 성별, 평균 팁 비교\n",
        "sns.barplot(data = data, x = 'sex', y = 'tip')"
      ],
      "metadata": {
        "colab": {
          "base_uri": "https://localhost:8080/",
          "height": 303
        },
        "id": "gXm9748K9xcs",
        "outputId": "fc5bfee8-5558-41c0-e88c-c738dfbf4e84"
      },
      "execution_count": null,
      "outputs": [
        {
          "output_type": "execute_result",
          "data": {
            "text/plain": [
              "<matplotlib.axes._subplots.AxesSubplot at 0x7fa75d9a3f90>"
            ]
          },
          "metadata": {},
          "execution_count": 8
        },
        {
          "output_type": "display_data",
          "data": {
            "text/plain": [
              "<Figure size 432x288 with 1 Axes>"
            ],
            "image/png": "[encoded data removed]"
          },
          "metadata": {
            "needs_background": "light"
          }
        }
      ]
    },
    {
      "cell_type": "code",
      "source": [
        "# 식사 인월(size)별 남성과 여성 tip 평균 비교\n",
        "## 여러 열에서 집단 묶어서 세부 집단 시각화(hue)\n",
        "plt.figure(figsize=(10, 5))\n",
        "sns.barplot(data = data, x = 'sex', y = 'tip', hue = \"size\")"
      ],
      "metadata": {
        "colab": {
          "base_uri": "https://localhost:8080/",
          "height": 360
        },
        "id": "57F68x2K96gd",
        "outputId": "5c8d6693-75ab-47b7-8cbf-68d1cefed7ce"
      },
      "execution_count": null,
      "outputs": [
        {
          "output_type": "execute_result",
          "data": {
            "text/plain": [
              "<matplotlib.axes._subplots.AxesSubplot at 0x7fa75d873690>"
            ]
          },
          "metadata": {},
          "execution_count": 10
        },
        {
          "output_type": "display_data",
          "data": {
            "text/plain": [
              "<Figure size 720x360 with 1 Axes>"
            ],
            "image/png": "[encoded data removed]"
          },
          "metadata": {
            "needs_background": "light"
          }
        }
      ]
    },
    {
      "cell_type": "markdown",
      "source": [
        "### 3. 시각화 탐색\n",
        "### 3) 도수분포표 & 히스토그램\n",
        "### pd.cut() : 연속된 수치(continuous values)를 구간으로 나누어 카테고리화할 때 사용"
      ],
      "metadata": {
        "id": "vuUHFOWK-RMM"
      }
    },
    {
      "cell_type": "code",
      "source": [
        "# 도수분포표\n",
        "## 총 계산 금액 구간별 빈도수\n",
        "bin_total = pd.cut(data['total_bill'], 8)   # data를 8개 구간별로 잘라서 개수 세줌\n",
        "bin_total.value_counts()"
      ],
      "metadata": {
        "colab": {
          "base_uri": "https://localhost:8080/"
        },
        "id": "OcfdCt4e-KlV",
        "outputId": "150b8c71-f93f-4172-c7b6-84ea3ffeef3e"
      },
      "execution_count": null,
      "outputs": [
        {
          "output_type": "execute_result",
          "data": {
            "text/plain": [
              "(15.005, 20.972]    81\n",
              "(9.038, 15.005]     68\n",
              "(20.972, 26.94]     38\n",
              "(26.94, 32.908]     24\n",
              "(3.022, 9.038]      12\n",
              "(32.908, 38.875]    10\n",
              "(38.875, 44.842]     6\n",
              "(44.842, 50.81]      5\n",
              "Name: total_bill, dtype: int64"
            ]
          },
          "metadata": {},
          "execution_count": 11
        }
      ]
    },
    {
      "cell_type": "code",
      "source": [
        "fig, axs = plt.subplots(1, 2, figsize=(10, 5))\n",
        "# 히스토그램\n",
        "# plt.style.use(\"ggplot\")\n",
        "ax1 = plt.subplot(1, 2, 1)\n",
        "ax1 = (data['total_bill']).plot.hist(bins=8)    # bins 구간 수\n",
        "ax1.set_xlabel('total_bill($)');\n",
        "\n",
        "# 밀도그림\n",
        "# plt.style.use(\"seaborn\")\n",
        "plt.subplot(1, 2, 2)\n",
        "ax2 = data['total_bill'].plot.hist(density=True, xlim=[0,60], bins=8)\n",
        "data['total_bill'].plot.density(ax=ax2);\n",
        "ax2.set_xlabel('total_bill($)');\n",
        "\n",
        "plt.tight_layout()\n",
        "plt.show()"
      ],
      "metadata": {
        "colab": {
          "base_uri": "https://localhost:8080/",
          "height": 369
        },
        "id": "LuE0WNid-m5R",
        "outputId": "f18e23d9-8fb6-4f8f-de5a-ce11d53e7788"
      },
      "execution_count": null,
      "outputs": [
        {
          "output_type": "display_data",
          "data": {
            "text/plain": [
              "<Figure size 720x360 with 2 Axes>"
            ],
            "image/png": "[encoded data removed]"
          },
          "metadata": {
            "needs_background": "light"
          }
        }
      ]
    },
    {
      "cell_type": "code",
      "source": [
        ""
      ],
      "metadata": {
        "id": "HmQDWOem_QOz"
      },
      "execution_count": null,
      "outputs": []
    }
  ]
}