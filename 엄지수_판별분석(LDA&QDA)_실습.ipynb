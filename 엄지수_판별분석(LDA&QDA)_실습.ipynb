{
  "nbformat": 4,
  "nbformat_minor": 0,
  "metadata": {
    "colab": {
      "name": "엄지수_판별분석(LDA&QDA) 실습.ipynb",
      "provenance": [],
      "collapsed_sections": [],
      "authorship_tag": "ABX9TyPQz6jG8Unjua4mfXuErKrt",
      "include_colab_link": true
    },
    "kernelspec": {
      "name": "python3",
      "display_name": "Python 3"
    },
    "language_info": {
      "name": "python"
    }
  },
  "cells": [
    {
      "cell_type": "markdown",
      "metadata": {
        "id": "view-in-github",
        "colab_type": "text"
      },
      "source": [
        "<a href=\"https://colab.research.google.com/github/thumb-chuu/BigData-Internship_statistics/blob/main/%EC%97%84%EC%A7%80%EC%88%98_%ED%8C%90%EB%B3%84%EB%B6%84%EC%84%9D(LDA%26QDA)_%EC%8B%A4%EC%8A%B5.ipynb\" target=\"_parent\"><img src=\"https://colab.research.google.com/assets/colab-badge.svg\" alt=\"Open In Colab\"/></a>"
      ]
    },
    {
      "cell_type": "code",
      "source": [
        "!sudo apt-get install -y fonts-nanum\n",
        "!sudo fc-cache -fv\n",
        "!rm ~/.cache/matplotlib -rf"
      ],
      "metadata": {
        "colab": {
          "base_uri": "https://localhost:8080/"
        },
        "id": "6C5E8-DVc1Kd",
        "outputId": "bac5ddc5-2c26-4094-f2fd-f8368f8175bd"
      },
      "execution_count": 1,
      "outputs": [
        {
          "output_type": "stream",
          "name": "stdout",
          "text": [
            "Reading package lists... Done\n",
            "Building dependency tree       \n",
            "Reading state information... Done\n",
            "fonts-nanum is already the newest version (20170925-1).\n",
            "The following package was automatically installed and is no longer required:\n",
            "  libnvidia-common-460\n",
            "Use 'sudo apt autoremove' to remove it.\n",
            "0 upgraded, 0 newly installed, 0 to remove and 49 not upgraded.\n",
            "/usr/share/fonts: caching, new cache contents: 0 fonts, 1 dirs\n",
            "/usr/share/fonts/truetype: caching, new cache contents: 0 fonts, 3 dirs\n",
            "/usr/share/fonts/truetype/humor-sans: caching, new cache contents: 1 fonts, 0 dirs\n",
            "/usr/share/fonts/truetype/liberation: caching, new cache contents: 16 fonts, 0 dirs\n",
            "/usr/share/fonts/truetype/nanum: caching, new cache contents: 10 fonts, 0 dirs\n",
            "/usr/local/share/fonts: caching, new cache contents: 0 fonts, 0 dirs\n",
            "/root/.local/share/fonts: skipping, no such directory\n",
            "/root/.fonts: skipping, no such directory\n",
            "/var/cache/fontconfig: cleaning cache directory\n",
            "/root/.cache/fontconfig: not cleaning non-existent cache directory\n",
            "/root/.fontconfig: not cleaning non-existent cache directory\n",
            "fc-cache: succeeded\n"
          ]
        }
      ]
    },
    {
      "cell_type": "code",
      "execution_count": 2,
      "metadata": {
        "id": "MLc0tXZlUawg"
      },
      "outputs": [],
      "source": [
        "# 패키지 임포트\n",
        "import os\n",
        "import warnings\n",
        "# FutureWarning 제거\n",
        "warnings.simplefilter(action='ignore', category=FutureWarning)\n",
        "\n",
        "import pandas as pd\n",
        "import numpy as np\n",
        "import scipy as sp\n",
        "from scipy import stats\n",
        "\n",
        "from sklearn import datasets\n",
        "from sklearn.model_selection import train_test_split\n",
        "\n",
        "# 시각화 패키지\n",
        "import matplotlib.pyplot as plt\n",
        "import seaborn as sns\n",
        "%matplotlib inline\n",
        "\n",
        "# os에 따른 Font 깨짐 제거를 위해 Font 지정 \n",
        "import os \n",
        "if os.name == 'nt' :\n",
        "    font_family = \"NanumBarunGothic\" # Windows OS \n",
        "else :\n",
        "    font_family = \"NanumBarunGothic\" # MAC OS \n",
        "\n",
        "# - 값이 깨지는 문제 해결을 위해 파라미터 값 설정 \n",
        "sns.set(font=font_family, rc ={\"axes.unicode_minus\" : False})"
      ]
    },
    {
      "cell_type": "code",
      "source": [
        "## 데이터셋 로드\n",
        "from sklearn import datasets\n",
        "\n",
        "data = datasets.load_iris()\n",
        "\n",
        "# 꽃의 특징(input data)\n",
        "t_input_data = data['data']\n",
        "\n",
        "# 꽃 종류를 수치로 나타낸 것 (0 ~ 2) (target data)\n",
        "target_data = data['target']\n",
        "\n",
        "# 꽃 종류를 이름으로 나타낸 것\n",
        "flowers = data['target_names'] "
      ],
      "metadata": {
        "id": "BVzV6XpJdABI"
      },
      "execution_count": 3,
      "outputs": []
    },
    {
      "cell_type": "code",
      "source": [
        "# 꽃 특징들의 명칭\n",
        "feature_names = data['feature_names']\n",
        "\n",
        "# sepal : 꽃받침, # petal : 꽃잎\n",
        "print('꽃을 결정짓는 특징 : {}'.format(feature_names))\n",
        "print('꽃 종류 : {}'.format(flowers))\n",
        "\n",
        "iris_df = pd.DataFrame(t_input_data, columns=feature_names)\n",
        "iris_df['species'] = target_data\n",
        "\n",
        "# 맨 위에 있는 데이터 5개 출력\n",
        "iris_df.head(5)"
      ],
      "metadata": {
        "colab": {
          "base_uri": "https://localhost:8080/",
          "height": 324
        },
        "id": "P4tPwZc33EEj",
        "outputId": "bfc4973c-ee46-4d29-8428-f21cef8b75ec"
      },
      "execution_count": 4,
      "outputs": [
        {
          "output_type": "stream",
          "name": "stdout",
          "text": [
            "꽃을 결정짓는 특징 : ['sepal length (cm)', 'sepal width (cm)', 'petal length (cm)', 'petal width (cm)']\n",
            "꽃 종류 : ['setosa' 'versicolor' 'virginica']\n"
          ]
        },
        {
          "output_type": "execute_result",
          "data": {
            "text/plain": [
              "   sepal length (cm)  sepal width (cm)  petal length (cm)  petal width (cm)  \\\n",
              "0                5.1               3.5                1.4               0.2   \n",
              "1                4.9               3.0                1.4               0.2   \n",
              "2                4.7               3.2                1.3               0.2   \n",
              "3                4.6               3.1                1.5               0.2   \n",
              "4                5.0               3.6                1.4               0.2   \n",
              "\n",
              "   species  \n",
              "0        0  \n",
              "1        0  \n",
              "2        0  \n",
              "3        0  \n",
              "4        0  "
            ],
            "text/html": [
              "\n",
              "  <div id=\"df-9980b6c6-a0c4-4925-a566-fa266db347fa\">\n",
              "    <div class=\"colab-df-container\">\n",
              "      <div>\n",
              "<style scoped>\n",
              "    .dataframe tbody tr th:only-of-type {\n",
              "        vertical-align: middle;\n",
              "    }\n",
              "\n",
              "    .dataframe tbody tr th {\n",
              "        vertical-align: top;\n",
              "    }\n",
              "\n",
              "    .dataframe thead th {\n",
              "        text-align: right;\n",
              "    }\n",
              "</style>\n",
              "<table border=\"1\" class=\"dataframe\">\n",
              "  <thead>\n",
              "    <tr style=\"text-align: right;\">\n",
              "      <th></th>\n",
              "      <th>sepal length (cm)</th>\n",
              "      <th>sepal width (cm)</th>\n",
              "      <th>petal length (cm)</th>\n",
              "      <th>petal width (cm)</th>\n",
              "      <th>species</th>\n",
              "    </tr>\n",
              "  </thead>\n",
              "  <tbody>\n",
              "    <tr>\n",
              "      <th>0</th>\n",
              "      <td>5.1</td>\n",
              "      <td>3.5</td>\n",
              "      <td>1.4</td>\n",
              "      <td>0.2</td>\n",
              "      <td>0</td>\n",
              "    </tr>\n",
              "    <tr>\n",
              "      <th>1</th>\n",
              "      <td>4.9</td>\n",
              "      <td>3.0</td>\n",
              "      <td>1.4</td>\n",
              "      <td>0.2</td>\n",
              "      <td>0</td>\n",
              "    </tr>\n",
              "    <tr>\n",
              "      <th>2</th>\n",
              "      <td>4.7</td>\n",
              "      <td>3.2</td>\n",
              "      <td>1.3</td>\n",
              "      <td>0.2</td>\n",
              "      <td>0</td>\n",
              "    </tr>\n",
              "    <tr>\n",
              "      <th>3</th>\n",
              "      <td>4.6</td>\n",
              "      <td>3.1</td>\n",
              "      <td>1.5</td>\n",
              "      <td>0.2</td>\n",
              "      <td>0</td>\n",
              "    </tr>\n",
              "    <tr>\n",
              "      <th>4</th>\n",
              "      <td>5.0</td>\n",
              "      <td>3.6</td>\n",
              "      <td>1.4</td>\n",
              "      <td>0.2</td>\n",
              "      <td>0</td>\n",
              "    </tr>\n",
              "  </tbody>\n",
              "</table>\n",
              "</div>\n",
              "      <button class=\"colab-df-convert\" onclick=\"convertToInteractive('df-9980b6c6-a0c4-4925-a566-fa266db347fa')\"\n",
              "              title=\"Convert this dataframe to an interactive table.\"\n",
              "              style=\"display:none;\">\n",
              "        \n",
              "  <svg xmlns=\"http://www.w3.org/2000/svg\" height=\"24px\"viewBox=\"0 0 24 24\"\n",
              "       width=\"24px\">\n",
              "    <path d=\"M0 0h24v24H0V0z\" fill=\"none\"/>\n",
              "    <path d=\"M18.56 5.44l.94 2.06.94-2.06 2.06-.94-2.06-.94-.94-2.06-.94 2.06-2.06.94zm-11 1L8.5 8.5l.94-2.06 2.06-.94-2.06-.94L8.5 2.5l-.94 2.06-2.06.94zm10 10l.94 2.06.94-2.06 2.06-.94-2.06-.94-.94-2.06-.94 2.06-2.06.94z\"/><path d=\"M17.41 7.96l-1.37-1.37c-.4-.4-.92-.59-1.43-.59-.52 0-1.04.2-1.43.59L10.3 9.45l-7.72 7.72c-.78.78-.78 2.05 0 2.83L4 21.41c.39.39.9.59 1.41.59.51 0 1.02-.2 1.41-.59l7.78-7.78 2.81-2.81c.8-.78.8-2.07 0-2.86zM5.41 20L4 18.59l7.72-7.72 1.47 1.35L5.41 20z\"/>\n",
              "  </svg>\n",
              "      </button>\n",
              "      \n",
              "  <style>\n",
              "    .colab-df-container {\n",
              "      display:flex;\n",
              "      flex-wrap:wrap;\n",
              "      gap: 12px;\n",
              "    }\n",
              "\n",
              "    .colab-df-convert {\n",
              "      background-color: #E8F0FE;\n",
              "      border: none;\n",
              "      border-radius: 50%;\n",
              "      cursor: pointer;\n",
              "      display: none;\n",
              "      fill: #1967D2;\n",
              "      height: 32px;\n",
              "      padding: 0 0 0 0;\n",
              "      width: 32px;\n",
              "    }\n",
              "\n",
              "    .colab-df-convert:hover {\n",
              "      background-color: #E2EBFA;\n",
              "      box-shadow: 0px 1px 2px rgba(60, 64, 67, 0.3), 0px 1px 3px 1px rgba(60, 64, 67, 0.15);\n",
              "      fill: #174EA6;\n",
              "    }\n",
              "\n",
              "    [theme=dark] .colab-df-convert {\n",
              "      background-color: #3B4455;\n",
              "      fill: #D2E3FC;\n",
              "    }\n",
              "\n",
              "    [theme=dark] .colab-df-convert:hover {\n",
              "      background-color: #434B5C;\n",
              "      box-shadow: 0px 1px 3px 1px rgba(0, 0, 0, 0.15);\n",
              "      filter: drop-shadow(0px 1px 2px rgba(0, 0, 0, 0.3));\n",
              "      fill: #FFFFFF;\n",
              "    }\n",
              "  </style>\n",
              "\n",
              "      <script>\n",
              "        const buttonEl =\n",
              "          document.querySelector('#df-9980b6c6-a0c4-4925-a566-fa266db347fa button.colab-df-convert');\n",
              "        buttonEl.style.display =\n",
              "          google.colab.kernel.accessAllowed ? 'block' : 'none';\n",
              "\n",
              "        async function convertToInteractive(key) {\n",
              "          const element = document.querySelector('#df-9980b6c6-a0c4-4925-a566-fa266db347fa');\n",
              "          const dataTable =\n",
              "            await google.colab.kernel.invokeFunction('convertToInteractive',\n",
              "                                                     [key], {});\n",
              "          if (!dataTable) return;\n",
              "\n",
              "          const docLinkHtml = 'Like what you see? Visit the ' +\n",
              "            '<a target=\"_blank\" href=https://colab.research.google.com/notebooks/data_table.ipynb>data table notebook</a>'\n",
              "            + ' to learn more about interactive tables.';\n",
              "          element.innerHTML = '';\n",
              "          dataTable['output_type'] = 'display_data';\n",
              "          await google.colab.output.renderOutput(dataTable, element);\n",
              "          const docLink = document.createElement('div');\n",
              "          docLink.innerHTML = docLinkHtml;\n",
              "          element.appendChild(docLink);\n",
              "        }\n",
              "      </script>\n",
              "    </div>\n",
              "  </div>\n",
              "  "
            ]
          },
          "metadata": {},
          "execution_count": 4
        }
      ]
    },
    {
      "cell_type": "code",
      "source": [
        "## 훈련 데이터와 테스트 데이터 분리\n",
        "# 독립변수 결정, 3개 독립변수 사용, 4개인 경우 score 1\n",
        "input_data = t_input_data[:,:3]\n",
        "\n",
        "train_input, test_input, train_target, test_target = train_test_split(\n",
        "input_data, target_data, test_size=0.1, random_state=1)\n",
        "\n",
        "print(train_input.shape) # 트레인_X\n",
        "print(test_input.shape) # 테스트_x\n",
        "print(train_target.shape) # 트레인_Y\n",
        "print(test_target.shape) # 테스트_y "
      ],
      "metadata": {
        "colab": {
          "base_uri": "https://localhost:8080/"
        },
        "id": "8ci5i92X3H44",
        "outputId": "6ff84897-3899-4356-d1f8-045582aa180c"
      },
      "execution_count": 5,
      "outputs": [
        {
          "output_type": "stream",
          "name": "stdout",
          "text": [
            "(135, 3)\n",
            "(15, 3)\n",
            "(135,)\n",
            "(15,)\n"
          ]
        }
      ]
    },
    {
      "cell_type": "code",
      "source": [
        "## LDA 라이브러리\n",
        "from sklearn.discriminant_analysis import LinearDiscriminantAnalysis\n",
        "# LDA 학습\n",
        "lda = LinearDiscriminantAnalysis(store_covariance=True).fit(train_input, train_target) # 공분산 저장"
      ],
      "metadata": {
        "id": "ZJoBomaf3MVu"
      },
      "execution_count": 6,
      "outputs": []
    },
    {
      "cell_type": "code",
      "source": [
        "# 수행 후 3개의 차원이 2개로 줄어든 것 확인\n",
        "print(train_input.shape)\n",
        "l_transf = lda.transform(train_input)\n",
        "l_transf.shape"
      ],
      "metadata": {
        "colab": {
          "base_uri": "https://localhost:8080/"
        },
        "id": "_geZlUXO3PZ4",
        "outputId": "4d7314fb-60de-48bf-b8a5-3810bde2dc54"
      },
      "execution_count": 7,
      "outputs": [
        {
          "output_type": "stream",
          "name": "stdout",
          "text": [
            "(135, 3)\n"
          ]
        },
        {
          "output_type": "execute_result",
          "data": {
            "text/plain": [
              "(135, 2)"
            ]
          },
          "metadata": {},
          "execution_count": 7
        }
      ]
    },
    {
      "cell_type": "code",
      "source": [
        "## 시각화\n",
        "lda_columns=['lda_component_1','lda_component_2']\n",
        "irisDF_lda = pd.DataFrame(l_transf, columns=lda_columns)\n",
        "irisDF_lda['target']=train_target\n",
        "\n",
        "# print(l_transf)\n",
        "# setosa는 세모, versicolor는 네모, virginica는 동그라미로 표현\n",
        "markers=['^', 's', 'o']\n",
        "\n",
        "for i, marker in enumerate(markers):\n",
        "    x_axis_data = irisDF_lda[irisDF_lda['target']==i]['lda_component_1']\n",
        "    y_axis_data = irisDF_lda[irisDF_lda['target']==i]['lda_component_2']\n",
        "    plt.scatter(x_axis_data, y_axis_data, marker=marker,label=data.target_names[i])\n",
        "plt.legend(loc='upper right')\n",
        "plt.xlabel('lda_component_1')\n",
        "plt.ylabel('lda_component_2')\n",
        "plt.show()"
      ],
      "metadata": {
        "colab": {
          "base_uri": "https://localhost:8080/",
          "height": 286
        },
        "id": "qjdcAgbh3Q15",
        "outputId": "ea15424d-fb65-4b1f-b9df-bb6d5021527b"
      },
      "execution_count": 8,
      "outputs": [
        {
          "output_type": "display_data",
          "data": {
            "text/plain": [
              "<Figure size 432x288 with 1 Axes>"
            ],
            "image/png": "[encoded data removed]"
          },
          "metadata": {}
        }
      ]
    },
    {
      "cell_type": "code",
      "source": [
        "## test 데이터 예측 결과 확인\n",
        "l_pred = lda.predict(test_input)\n",
        "l_pred"
      ],
      "metadata": {
        "colab": {
          "base_uri": "https://localhost:8080/"
        },
        "id": "OAJP-FLR3XWc",
        "outputId": "434f57f7-d095-454f-f908-9ad8dc977b05"
      },
      "execution_count": 9,
      "outputs": [
        {
          "output_type": "execute_result",
          "data": {
            "text/plain": [
              "array([0, 1, 1, 0, 2, 1, 1, 0, 0, 2, 1, 0, 2, 1, 1])"
            ]
          },
          "metadata": {},
          "execution_count": 9
        }
      ]
    },
    {
      "cell_type": "code",
      "source": [
        "## 테스트 데이터 예측 점수 확인\n",
        "print(lda.score\n",
        "(test_input, test_target))\n",
        "print()\n",
        "\n",
        "## 특정값 예측 결과 확인\n",
        "print(test_input[:5])\n",
        "print(test_target[:5])\n",
        "print()\n",
        "print(lda.predict\n",
        "(test_input[:5]))\n",
        "print(lda.predict_proba\n",
        "(test_input[:5]))"
      ],
      "metadata": {
        "colab": {
          "base_uri": "https://localhost:8080/"
        },
        "id": "wr7Fcmo93avl",
        "outputId": "c6d73375-cf3f-4b8d-d04c-f9e7e9d5fcea"
      },
      "execution_count": 10,
      "outputs": [
        {
          "output_type": "stream",
          "name": "stdout",
          "text": [
            "0.9333333333333333\n",
            "\n",
            "[[5.8 4.  1.2]\n",
            " [5.1 2.5 3. ]\n",
            " [6.6 3.  4.4]\n",
            " [5.4 3.9 1.3]\n",
            " [7.9 3.8 6.4]]\n",
            "[0 1 1 0 2]\n",
            "\n",
            "[0 1 1 0 2]\n",
            "[[1.00000000e+00 1.00916754e-28 5.63950656e-47]\n",
            " [4.33772101e-07 9.99999514e-01 5.25284715e-08]\n",
            " [6.28716857e-15 9.99682837e-01 3.17162767e-04]\n",
            " [1.00000000e+00 9.84799614e-25 1.72284295e-41]\n",
            " [2.06902324e-34 1.01924266e-04 9.99898076e-01]]\n"
          ]
        }
      ]
    },
    {
      "cell_type": "code",
      "source": [
        "## 성능 평가, 혼동행렬\n",
        "from sklearn.metrics import confusion_matrix\n",
        "confusion_matrix(test_target, l_pred)"
      ],
      "metadata": {
        "colab": {
          "base_uri": "https://localhost:8080/"
        },
        "id": "VCvrgekJ3h3a",
        "outputId": "2852d8d4-b43a-42cf-cb8a-d50484e3fc95"
      },
      "execution_count": 11,
      "outputs": [
        {
          "output_type": "execute_result",
          "data": {
            "text/plain": [
              "array([[5, 0, 0],\n",
              "       [0, 6, 0],\n",
              "       [0, 1, 3]])"
            ]
          },
          "metadata": {},
          "execution_count": 11
        }
      ]
    },
    {
      "cell_type": "code",
      "source": [
        "# 사전 확률\n",
        "lda.priors_"
      ],
      "metadata": {
        "colab": {
          "base_uri": "https://localhost:8080/"
        },
        "id": "EWAtBpJu3k4-",
        "outputId": "7a77eb39-f95d-40a4-c522-6215ccd43400"
      },
      "execution_count": 12,
      "outputs": [
        {
          "output_type": "execute_result",
          "data": {
            "text/plain": [
              "array([0.33333333, 0.32592593, 0.34074074])"
            ]
          },
          "metadata": {},
          "execution_count": 12
        }
      ]
    },
    {
      "cell_type": "code",
      "source": [
        "# 클래스별 평균\n",
        "lda.means_"
      ],
      "metadata": {
        "colab": {
          "base_uri": "https://localhost:8080/"
        },
        "id": "uU36WOV83mQ-",
        "outputId": "f18702ec-7b0b-4f09-a1bf-f18cea3ded31"
      },
      "execution_count": 13,
      "outputs": [
        {
          "output_type": "execute_result",
          "data": {
            "text/plain": [
              "array([[4.97555556, 3.39111111, 1.45333333],\n",
              "       [5.92727273, 2.74772727, 4.26590909],\n",
              "       [6.53478261, 2.94782609, 5.5326087 ]])"
            ]
          },
          "metadata": {},
          "execution_count": 13
        }
      ]
    },
    {
      "cell_type": "code",
      "source": [
        "# 독립변수 공분산\n",
        "lda.covariance_"
      ],
      "metadata": {
        "colab": {
          "base_uri": "https://localhost:8080/"
        },
        "id": "E-yVUdWe3qUE",
        "outputId": "ff4a4d1b-a54a-4913-fcaf-cf78d6c6960e"
      },
      "execution_count": 14,
      "outputs": [
        {
          "output_type": "execute_result",
          "data": {
            "text/plain": [
              "array([[0.25151653, 0.07826984, 0.16368446],\n",
              "       [0.07826984, 0.10756296, 0.04919396],\n",
              "       [0.16368446, 0.04919396, 0.17668112]])"
            ]
          },
          "metadata": {},
          "execution_count": 14
        }
      ]
    },
    {
      "cell_type": "code",
      "source": [
        "## 분류 리포트\n",
        "from sklearn.metrics import classification_report\n",
        "\n",
        "print(classification_report(test_target, l_pred))"
      ],
      "metadata": {
        "colab": {
          "base_uri": "https://localhost:8080/"
        },
        "id": "VBAu8UWI3sSa",
        "outputId": "c31de8dc-468e-4ca9-b154-989acd5b532f"
      },
      "execution_count": 15,
      "outputs": [
        {
          "output_type": "stream",
          "name": "stdout",
          "text": [
            "              precision    recall  f1-score   support\n",
            "\n",
            "           0       1.00      1.00      1.00         5\n",
            "           1       0.86      1.00      0.92         6\n",
            "           2       1.00      0.75      0.86         4\n",
            "\n",
            "    accuracy                           0.93        15\n",
            "   macro avg       0.95      0.92      0.93        15\n",
            "weighted avg       0.94      0.93      0.93        15\n",
            "\n"
          ]
        }
      ]
    },
    {
      "cell_type": "code",
      "source": [
        "## 각 클래스에 대한 ROC\n",
        "from sklearn.preprocessing import label_binarize\n",
        "lda_train_vec = label_binarize(train_target, classes = [0, 1, 2])\n",
        "from sklearn.metrics import roc_curve\n",
        "for i in range(3):\n",
        "    lda = LinearDiscriminantAnalysis().fit(train_input, lda_train_vec[:, i])\n",
        "    fpr, tpr, thr = roc_curve(lda_train_vec[:, i], lda.predict_proba(train_input)[:, 1])\n",
        "    plt.plot(fpr, tpr)\n",
        "plt.show()"
      ],
      "metadata": {
        "colab": {
          "base_uri": "https://localhost:8080/",
          "height": 270
        },
        "id": "gtGnqymc3u0D",
        "outputId": "77a3dce1-7d61-4c6b-c729-ffb4c19757ec"
      },
      "execution_count": 24,
      "outputs": [
        {
          "output_type": "display_data",
          "data": {
            "text/plain": [
              "<Figure size 432x288 with 1 Axes>"
            ],
            "image/png": "[encoded data removed]"
          },
          "metadata": {}
        }
      ]
    },
    {
      "cell_type": "code",
      "source": [
        "## QDA 라이브러리 임포트\n",
        "from sklearn.discriminant_analysis import QuadraticDiscriminantAnalysis\n",
        "\n",
        "# 학습\n",
        "qda = QuadraticDiscriminantAnalysis(store_covariance=True).fit(train_input, train_target) #공분산 저장\n",
        "\n",
        "# 예측\n",
        "y2_pred = qda.predict(test_input)"
      ],
      "metadata": {
        "id": "GXeWEl0G30X4"
      },
      "execution_count": 25,
      "outputs": []
    },
    {
      "cell_type": "code",
      "source": [
        "# 결과 측정\n",
        "print(qda.score(test_input, test_target))\n",
        "\n",
        "print(test_input[:5])\n",
        "print(test_target[:5])\n",
        "print()\n",
        "print(qda.predict(test_input[:5]))\n",
        "print(qda.predict_proba(test_input[:5]))"
      ],
      "metadata": {
        "colab": {
          "base_uri": "https://localhost:8080/"
        },
        "id": "1SJqs9N-85mQ",
        "outputId": "2f6efaed-7576-4217-f1dc-321fbafc772d"
      },
      "execution_count": 26,
      "outputs": [
        {
          "output_type": "stream",
          "name": "stdout",
          "text": [
            "0.9333333333333333\n",
            "[[5.8 4.  1.2]\n",
            " [5.1 2.5 3. ]\n",
            " [6.6 3.  4.4]\n",
            " [5.4 3.9 1.3]\n",
            " [7.9 3.8 6.4]]\n",
            "[0 1 1 0 2]\n",
            "\n",
            "[0 1 1 0 2]\n",
            "[[1.00000000e+000 1.47416908e-033 1.80019547e-046]\n",
            " [1.28636834e-023 9.99995490e-001 4.51028882e-006]\n",
            " [8.80326122e-080 9.99774984e-001 2.25016220e-004]\n",
            " [1.00000000e+000 5.08491425e-030 7.35720444e-040]\n",
            " [4.29933249e-215 1.45529755e-003 9.98544702e-001]]\n"
          ]
        }
      ]
    },
    {
      "cell_type": "code",
      "source": [
        "confusion_matrix(test_target, y2_pred)"
      ],
      "metadata": {
        "colab": {
          "base_uri": "https://localhost:8080/"
        },
        "id": "cDybXHN18-aM",
        "outputId": "a893ae69-382a-4081-972e-b1bfc2789a40"
      },
      "execution_count": 27,
      "outputs": [
        {
          "output_type": "execute_result",
          "data": {
            "text/plain": [
              "array([[5, 0, 0],\n",
              "       [0, 6, 0],\n",
              "       [0, 1, 3]])"
            ]
          },
          "metadata": {},
          "execution_count": 27
        }
      ]
    },
    {
      "cell_type": "code",
      "source": [
        "# 사전 확률\n",
        "qda.priors_"
      ],
      "metadata": {
        "colab": {
          "base_uri": "https://localhost:8080/"
        },
        "id": "MbUrsXPV9AL2",
        "outputId": "d8c93ce3-6f9b-453d-a0ed-de3425929e8a"
      },
      "execution_count": 28,
      "outputs": [
        {
          "output_type": "execute_result",
          "data": {
            "text/plain": [
              "array([0.33333333, 0.32592593, 0.34074074])"
            ]
          },
          "metadata": {},
          "execution_count": 28
        }
      ]
    },
    {
      "cell_type": "code",
      "source": [
        "# 클래스별 평균\n",
        "qda.means_"
      ],
      "metadata": {
        "colab": {
          "base_uri": "https://localhost:8080/"
        },
        "id": "4F34XaTr9Bwr",
        "outputId": "bd131847-f224-45c5-c6bf-cc2136d3aaf1"
      },
      "execution_count": 29,
      "outputs": [
        {
          "output_type": "execute_result",
          "data": {
            "text/plain": [
              "array([[4.97555556, 3.39111111, 1.45333333],\n",
              "       [5.92727273, 2.74772727, 4.26590909],\n",
              "       [6.53478261, 2.94782609, 5.5326087 ]])"
            ]
          },
          "metadata": {},
          "execution_count": 29
        }
      ]
    },
    {
      "cell_type": "code",
      "source": [
        "# 독립변수 공분산\n",
        "qda.covariance_"
      ],
      "metadata": {
        "colab": {
          "base_uri": "https://localhost:8080/"
        },
        "id": "IME68Bs29Eow",
        "outputId": "c44737e5-c6b0-4238-a884-3c1cb8362f4b"
      },
      "execution_count": 30,
      "outputs": [
        {
          "output_type": "execute_result",
          "data": {
            "text/plain": [
              "[array([[0.11370707, 0.08818687, 0.02201515],\n",
              "        [0.08818687, 0.13673737, 0.01230303],\n",
              "        [0.02201515, 0.01230303, 0.02527273]]),\n",
              " array([[0.26621564, 0.07820296, 0.1746723 ],\n",
              "        [0.07820296, 0.09743658, 0.07701374],\n",
              "        [0.1746723 , 0.07701374, 0.20695032]]),\n",
              " array([[0.38898551, 0.07385507, 0.30261836],\n",
              "        [0.07385507, 0.09588406, 0.06196135],\n",
              "        [0.30261836, 0.06196135, 0.30757971]])]"
            ]
          },
          "metadata": {},
          "execution_count": 30
        }
      ]
    },
    {
      "cell_type": "code",
      "source": [
        "print(classification_report(test_target, y2_pred))"
      ],
      "metadata": {
        "colab": {
          "base_uri": "https://localhost:8080/"
        },
        "id": "MuJ61mkH9Gju",
        "outputId": "7f169cc7-7d46-455b-cdbc-dc11e51460e3"
      },
      "execution_count": 31,
      "outputs": [
        {
          "output_type": "stream",
          "name": "stdout",
          "text": [
            "              precision    recall  f1-score   support\n",
            "\n",
            "           0       1.00      1.00      1.00         5\n",
            "           1       0.86      1.00      0.92         6\n",
            "           2       1.00      0.75      0.86         4\n",
            "\n",
            "    accuracy                           0.93        15\n",
            "   macro avg       0.95      0.92      0.93        15\n",
            "weighted avg       0.94      0.93      0.93        15\n",
            "\n"
          ]
        }
      ]
    },
    {
      "cell_type": "code",
      "source": [
        "## 각 클래스에 대한 ROC\n",
        "from sklearn.preprocessing import label_binarize\n",
        "y2_vec = label_binarize(train_target, classes = [0, 1, 2])\n",
        "\n",
        "from sklearn.metrics import roc_curve\n",
        "\n",
        "for i in range(3):\n",
        "    lda = LinearDiscriminantAnalysis().fit(train_input, y2_vec[:, i])\n",
        "    fpr, tpr, thr = roc_curve(y2_vec[:, i], lda.predict_proba(train_input)[:, 1])\n",
        "    plt.plot(fpr, tpr)\n",
        "plt.show()"
      ],
      "metadata": {
        "colab": {
          "base_uri": "https://localhost:8080/",
          "height": 270
        },
        "id": "cNPlGlZJ9IDk",
        "outputId": "28df413c-021d-4dd8-ffda-f4672a60e31a"
      },
      "execution_count": 33,
      "outputs": [
        {
          "output_type": "display_data",
          "data": {
            "text/plain": [
              "<Figure size 432x288 with 1 Axes>"
            ],
            "image/png": "[encoded data removed]"
          },
          "metadata": {}
        }
      ]
    },
    {
      "cell_type": "code",
      "source": [
        ""
      ],
      "metadata": {
        "id": "D40qy-TY9POe"
      },
      "execution_count": null,
      "outputs": []
    }
  ]
}