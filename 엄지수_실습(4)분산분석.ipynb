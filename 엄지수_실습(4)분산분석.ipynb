{
  "nbformat": 4,
  "nbformat_minor": 0,
  "metadata": {
    "colab": {
      "name": "엄지수_실습(4)분산분석.ipynb",
      "provenance": [],
      "collapsed_sections": [],
      "authorship_tag": "ABX9TyPLeuvkKfE0D3G1rL4Azp+8",
      "include_colab_link": true
    },
    "kernelspec": {
      "name": "python3",
      "display_name": "Python 3"
    },
    "language_info": {
      "name": "python"
    }
  },
  "cells": [
    {
      "cell_type": "markdown",
      "metadata": {
        "id": "view-in-github",
        "colab_type": "text"
      },
      "source": [
        "<a href=\"https://colab.research.google.com/github/thumb-chuu/BigData-Internship_statistics/blob/main/%EC%97%84%EC%A7%80%EC%88%98_%EC%8B%A4%EC%8A%B5(4)%EB%B6%84%EC%82%B0%EB%B6%84%EC%84%9D.ipynb\" target=\"_parent\"><img src=\"https://colab.research.google.com/assets/colab-badge.svg\" alt=\"Open In Colab\"/></a>"
      ]
    },
    {
      "cell_type": "markdown",
      "source": [
        "# ◆ 통계적 검정 방법 실습\n",
        "## 2. 분산분석(ANOVA)\n"
      ],
      "metadata": {
        "id": "KTd9-nDC6Nue"
      }
    },
    {
      "cell_type": "markdown",
      "source": [
        "### 1) 일원분산분석(One-way ANOVA)\n",
        "- 3개 이상의 범주를 갖는 하나의 실험 요인(독립변수)에 대한 하나의 종속변수의 평균 차이를 검정하는 분석\n",
        "- stats.f_oneway() : scipy f 통계량\n",
        "- statsmodels.stats.anova() : stats 모델 anova"
      ],
      "metadata": {
        "id": "9qvJwMtXGffr"
      }
    },
    {
      "cell_type": "markdown",
      "source": [
        "증명하고자 하는 가설\n",
        "- 4개의 각기 다른 신입사원 교육훈련 기법의 효과성을 평가하고자 한다. 새로 입사한 32명의 신입사원에게 4개 교육 기관에서 다른 학습 방법을 적용 시켰다. 한 달 간의 훈련기간이 끝난 후 시험을 쳤는데 그 점수는 아래와 같다. 4개의 교육훈련 기법 간 차이가 있는가? 만약 있다면 어떻게 다른가?\n",
        "\n",
        "-> 4개 이상의 대응표본을 비교해야 하므로 일원배치 분산분석 기법을 사용해야 한다.\n",
        "\n",
        "- 귀무가설 : 4개의 교육훈련 기법 간의 차이가 없다.\n",
        "- 대립가설 : 4개의 교육훈련 기법 간의 차이가 있다."
      ],
      "metadata": {
        "id": "TYJkBmId6w8u"
      }
    },
    {
      "cell_type": "code",
      "source": [
        "!sudo apt-get install -y fonts-nanum\n",
        "!sudo fc-cache -fv\n",
        "!rm ~/.cache/matplotlib -rf"
      ],
      "metadata": {
        "colab": {
          "base_uri": "https://localhost:8080/"
        },
        "id": "vRKYh90a8gX0",
        "outputId": "af64a0d4-64f4-43d7-9e79-83eabb018457"
      },
      "execution_count": 1,
      "outputs": [
        {
          "output_type": "stream",
          "name": "stdout",
          "text": [
            "Reading package lists... Done\n",
            "Building dependency tree       \n",
            "Reading state information... Done\n",
            "fonts-nanum is already the newest version (20170925-1).\n",
            "The following package was automatically installed and is no longer required:\n",
            "  libnvidia-common-460\n",
            "Use 'sudo apt autoremove' to remove it.\n",
            "0 upgraded, 0 newly installed, 0 to remove and 62 not upgraded.\n",
            "/usr/share/fonts: caching, new cache contents: 0 fonts, 1 dirs\n",
            "/usr/share/fonts/truetype: caching, new cache contents: 0 fonts, 3 dirs\n",
            "/usr/share/fonts/truetype/humor-sans: caching, new cache contents: 1 fonts, 0 dirs\n",
            "/usr/share/fonts/truetype/liberation: caching, new cache contents: 16 fonts, 0 dirs\n",
            "/usr/share/fonts/truetype/nanum: caching, new cache contents: 10 fonts, 0 dirs\n",
            "/usr/local/share/fonts: caching, new cache contents: 0 fonts, 0 dirs\n",
            "/root/.local/share/fonts: skipping, no such directory\n",
            "/root/.fonts: skipping, no such directory\n",
            "/var/cache/fontconfig: cleaning cache directory\n",
            "/root/.cache/fontconfig: not cleaning non-existent cache directory\n",
            "/root/.fontconfig: not cleaning non-existent cache directory\n",
            "fc-cache: succeeded\n"
          ]
        }
      ]
    },
    {
      "cell_type": "code",
      "source": [
        "# 패키지 임포트\n",
        "import os\n",
        "import warnings\n",
        "warnings.simplefilter(action='ignore', category=FutureWarning)      # FutureWarning 제거\n",
        "\n",
        "import pandas as pd\n",
        "import numpy as np\n",
        "import math\n",
        "from scipy import stats\n",
        "\n",
        "# 시각화 패키지\n",
        "import matplotlib.pyplot as plt\n",
        "import seaborn as sns\n",
        "%matplotlib inline\n",
        "\n",
        "# os에 따른 Font 깨짐 제거를 위해 Font 지정 \n",
        "import os \n",
        "if os.name == 'nt' :\n",
        "    font_family = \"NanumBarunGothic\" # Windows OS \n",
        "else :\n",
        "    font_family = \"NanumBarunGothic\" # MAC OS\n",
        "\n",
        "# - 값이 깨지는 문제 해결을 위해 파라미터 값 설정 \n",
        "sns.set(font=font_family, rc ={\"axes.unicode_minus\" : False})"
      ],
      "metadata": {
        "id": "NLQVlUPI8jw0"
      },
      "execution_count": 2,
      "outputs": []
    },
    {
      "cell_type": "code",
      "execution_count": 3,
      "metadata": {
        "colab": {
          "base_uri": "https://localhost:8080/"
        },
        "id": "EQJQLke-5b9i",
        "outputId": "c7297c82-bf11-48a6-9eee-91a1eeabddfa"
      },
      "outputs": [
        {
          "output_type": "stream",
          "name": "stdout",
          "text": [
            "a 평균 :  79.0\n",
            "b 평균 :  65.375\n",
            "c 평균 :  67.125\n",
            "d 평균 :  69.5\n"
          ]
        }
      ],
      "source": [
        "# 데이터셋\n",
        "a = [66, 74, 82, 75, 73, 97, 87, 78]\n",
        "b = [72, 51, 59, 62, 74, 64, 78, 63]\n",
        "c = [61, 60, 57, 60, 81, 77, 70, 71]\n",
        "d = [63, 61, 76, 84, 58, 65, 69, 80]\n",
        "print(\"a 평균 : \", np.mean(a))\n",
        "print(\"b 평균 : \", np.mean(b))\n",
        "print(\"c 평균 : \", np.mean(c))\n",
        "print(\"d 평균 : \", np.mean(d))"
      ]
    },
    {
      "cell_type": "code",
      "source": [
        "# 이상값 확인\n",
        "plot_data = [a, b, c, d]\n",
        "plt.boxplot(plot_data)\n",
        "plt.xticks([1, 2, 3, 4], ['a' ,'b', 'c', 'd'])\n",
        "plt.grid(True)\n",
        "plt.show()"
      ],
      "metadata": {
        "colab": {
          "base_uri": "https://localhost:8080/",
          "height": 270
        },
        "id": "DJM1W1gA8VhC",
        "outputId": "3767f0e9-5ed8-4987-f66e-3214d56b153f"
      },
      "execution_count": 4,
      "outputs": [
        {
          "output_type": "display_data",
          "data": {
            "text/plain": [
              "<Figure size 432x288 with 1 Axes>"
            ],
            "image/png": "[encoded data removed]"
          },
          "metadata": {}
        }
      ]
    },
    {
      "cell_type": "code",
      "source": [
        "# 데이터프레임 변환\n",
        "check = ['a', 'b', 'c', 'd']\n",
        "check = [check[j] for j in range(4) for i in range(8)]\n",
        "data = pd.DataFrame({'점수':a+b+c+d, '교육기관':check})\n",
        "data.head(4)"
      ],
      "metadata": {
        "colab": {
          "base_uri": "https://localhost:8080/",
          "height": 175
        },
        "id": "jpIW-xd-9Qzc",
        "outputId": "eaaa0640-8d26-4500-f02d-e62fc05a4492"
      },
      "execution_count": 5,
      "outputs": [
        {
          "output_type": "execute_result",
          "data": {
            "text/plain": [
              "   점수 교육기관\n",
              "0  66    a\n",
              "1  74    a\n",
              "2  82    a\n",
              "3  75    a"
            ],
            "text/html": [
              "\n",
              "  <div id=\"df-d67cf5a3-232e-453e-8df1-6fb20bede7f5\">\n",
              "    <div class=\"colab-df-container\">\n",
              "      <div>\n",
              "<style scoped>\n",
              "    .dataframe tbody tr th:only-of-type {\n",
              "        vertical-align: middle;\n",
              "    }\n",
              "\n",
              "    .dataframe tbody tr th {\n",
              "        vertical-align: top;\n",
              "    }\n",
              "\n",
              "    .dataframe thead th {\n",
              "        text-align: right;\n",
              "    }\n",
              "</style>\n",
              "<table border=\"1\" class=\"dataframe\">\n",
              "  <thead>\n",
              "    <tr style=\"text-align: right;\">\n",
              "      <th></th>\n",
              "      <th>점수</th>\n",
              "      <th>교육기관</th>\n",
              "    </tr>\n",
              "  </thead>\n",
              "  <tbody>\n",
              "    <tr>\n",
              "      <th>0</th>\n",
              "      <td>66</td>\n",
              "      <td>a</td>\n",
              "    </tr>\n",
              "    <tr>\n",
              "      <th>1</th>\n",
              "      <td>74</td>\n",
              "      <td>a</td>\n",
              "    </tr>\n",
              "    <tr>\n",
              "      <th>2</th>\n",
              "      <td>82</td>\n",
              "      <td>a</td>\n",
              "    </tr>\n",
              "    <tr>\n",
              "      <th>3</th>\n",
              "      <td>75</td>\n",
              "      <td>a</td>\n",
              "    </tr>\n",
              "  </tbody>\n",
              "</table>\n",
              "</div>\n",
              "      <button class=\"colab-df-convert\" onclick=\"convertToInteractive('df-d67cf5a3-232e-453e-8df1-6fb20bede7f5')\"\n",
              "              title=\"Convert this dataframe to an interactive table.\"\n",
              "              style=\"display:none;\">\n",
              "        \n",
              "  <svg xmlns=\"http://www.w3.org/2000/svg\" height=\"24px\"viewBox=\"0 0 24 24\"\n",
              "       width=\"24px\">\n",
              "    <path d=\"M0 0h24v24H0V0z\" fill=\"none\"/>\n",
              "    <path d=\"M18.56 5.44l.94 2.06.94-2.06 2.06-.94-2.06-.94-.94-2.06-.94 2.06-2.06.94zm-11 1L8.5 8.5l.94-2.06 2.06-.94-2.06-.94L8.5 2.5l-.94 2.06-2.06.94zm10 10l.94 2.06.94-2.06 2.06-.94-2.06-.94-.94-2.06-.94 2.06-2.06.94z\"/><path d=\"M17.41 7.96l-1.37-1.37c-.4-.4-.92-.59-1.43-.59-.52 0-1.04.2-1.43.59L10.3 9.45l-7.72 7.72c-.78.78-.78 2.05 0 2.83L4 21.41c.39.39.9.59 1.41.59.51 0 1.02-.2 1.41-.59l7.78-7.78 2.81-2.81c.8-.78.8-2.07 0-2.86zM5.41 20L4 18.59l7.72-7.72 1.47 1.35L5.41 20z\"/>\n",
              "  </svg>\n",
              "      </button>\n",
              "      \n",
              "  <style>\n",
              "    .colab-df-container {\n",
              "      display:flex;\n",
              "      flex-wrap:wrap;\n",
              "      gap: 12px;\n",
              "    }\n",
              "\n",
              "    .colab-df-convert {\n",
              "      background-color: #E8F0FE;\n",
              "      border: none;\n",
              "      border-radius: 50%;\n",
              "      cursor: pointer;\n",
              "      display: none;\n",
              "      fill: #1967D2;\n",
              "      height: 32px;\n",
              "      padding: 0 0 0 0;\n",
              "      width: 32px;\n",
              "    }\n",
              "\n",
              "    .colab-df-convert:hover {\n",
              "      background-color: #E2EBFA;\n",
              "      box-shadow: 0px 1px 2px rgba(60, 64, 67, 0.3), 0px 1px 3px 1px rgba(60, 64, 67, 0.15);\n",
              "      fill: #174EA6;\n",
              "    }\n",
              "\n",
              "    [theme=dark] .colab-df-convert {\n",
              "      background-color: #3B4455;\n",
              "      fill: #D2E3FC;\n",
              "    }\n",
              "\n",
              "    [theme=dark] .colab-df-convert:hover {\n",
              "      background-color: #434B5C;\n",
              "      box-shadow: 0px 1px 3px 1px rgba(0, 0, 0, 0.15);\n",
              "      filter: drop-shadow(0px 1px 2px rgba(0, 0, 0, 0.3));\n",
              "      fill: #FFFFFF;\n",
              "    }\n",
              "  </style>\n",
              "\n",
              "      <script>\n",
              "        const buttonEl =\n",
              "          document.querySelector('#df-d67cf5a3-232e-453e-8df1-6fb20bede7f5 button.colab-df-convert');\n",
              "        buttonEl.style.display =\n",
              "          google.colab.kernel.accessAllowed ? 'block' : 'none';\n",
              "\n",
              "        async function convertToInteractive(key) {\n",
              "          const element = document.querySelector('#df-d67cf5a3-232e-453e-8df1-6fb20bede7f5');\n",
              "          const dataTable =\n",
              "            await google.colab.kernel.invokeFunction('convertToInteractive',\n",
              "                                                     [key], {});\n",
              "          if (!dataTable) return;\n",
              "\n",
              "          const docLinkHtml = 'Like what you see? Visit the ' +\n",
              "            '<a target=\"_blank\" href=https://colab.research.google.com/notebooks/data_table.ipynb>data table notebook</a>'\n",
              "            + ' to learn more about interactive tables.';\n",
              "          element.innerHTML = '';\n",
              "          dataTable['output_type'] = 'display_data';\n",
              "          await google.colab.output.renderOutput(dataTable, element);\n",
              "          const docLink = document.createElement('div');\n",
              "          docLink.innerHTML = docLinkHtml;\n",
              "          element.appendChild(docLink);\n",
              "        }\n",
              "      </script>\n",
              "    </div>\n",
              "  </div>\n",
              "  "
            ]
          },
          "metadata": {},
          "execution_count": 5
        }
      ]
    },
    {
      "cell_type": "code",
      "source": [
        "## 정규성 검정 : 자료의 모집단 분포는 정규분포를 따름\n",
        "\n",
        "# print('정규성을 검정')\n",
        "# normal_a = shapiro(a)\n",
        "# normal_b = shapiro(b)\n",
        "# normal_c = shapiro(c)\n",
        "# normal_d = shapiro(d)"
      ],
      "metadata": {
        "id": "o9GXHTSa9jEw"
      },
      "execution_count": 6,
      "outputs": []
    },
    {
      "cell_type": "code",
      "source": [
        "# print(normal_a)\n",
        "# print(normal_b)\n",
        "# print(normal_c)\n",
        "# print(normal_d)\n",
        "\n",
        "print(stats.ks_2samp(a, b), stats.ks_2samp(a, c), stats.ks_2samp(a, d), stats.ks_2samp(b, c), stats.ks_2samp(b, d), stats.ks_2samp(c, d), sep=\"\\n\")\n",
        "\n",
        "## 등분산성 검정 : 모든 집단의 모분산은 동일함\n",
        "\n",
        "print('등분산성 검정')\n",
        "# levene 등분산성 검정\n",
        "from scipy.stats import levene\n",
        "print(levene(a, b, c, d))\n",
        "\n",
        "# bartlett 등분산성 검정\n",
        "from scipy.stats import bartlett\n",
        "print(bartlett(a, b, c, d))\n",
        "\n",
        "# 결과 : p-value > 0.05, 등분산성 만족"
      ],
      "metadata": {
        "colab": {
          "base_uri": "https://localhost:8080/"
        },
        "id": "uv5AbIVB9wbA",
        "outputId": "e86c195d-8ffa-4e37-9278-da74e2740fbb"
      },
      "execution_count": 7,
      "outputs": [
        {
          "output_type": "stream",
          "name": "stdout",
          "text": [
            "KstestResult(statistic=0.625, pvalue=0.08702408702408701)\n",
            "KstestResult(statistic=0.625, pvalue=0.08702408702408701)\n",
            "KstestResult(statistic=0.5, pvalue=0.2826728826728826)\n",
            "KstestResult(statistic=0.25, pvalue=0.98010878010878)\n",
            "KstestResult(statistic=0.25, pvalue=0.98010878010878)\n",
            "KstestResult(statistic=0.25, pvalue=0.98010878010878)\n",
            "등분산성 검정\n",
            "LeveneResult(statistic=0.07560756075607561, pvalue=0.972627101462453)\n",
            "BartlettResult(statistic=0.07373983712569482, pvalue=0.9947906337756077)\n"
          ]
        }
      ]
    },
    {
      "cell_type": "markdown",
      "source": [
        "통계량을 이용한 가설 검정"
      ],
      "metadata": {
        "id": "d3flr9gJCVWU"
      }
    },
    {
      "cell_type": "code",
      "source": [
        "# F통계량을 이용한 가설 검정\n",
        "f_statistic, pval = stats.f_oneway(a, b, c, d)\n",
        "\n",
        "print('F={0:.1f}, p={1:.3f}'.format(f_statistic, pval))\n",
        "\n",
        "if pval < 0.05:\n",
        "    print(\"귀무가설 기각, 4개의 교육훈련 기법간이 차이가 있다.\")\n",
        "else:\n",
        "    print(\"귀무가설 기각, 4개의 교육훈련 기법간이 차이가 없다.\")"
      ],
      "metadata": {
        "colab": {
          "base_uri": "https://localhost:8080/"
        },
        "id": "eCE40spNCR01",
        "outputId": "95141d50-0de0-476a-baba-600a51da093b"
      },
      "execution_count": 8,
      "outputs": [
        {
          "output_type": "stream",
          "name": "stdout",
          "text": [
            "F=3.5, p=0.029\n",
            "귀무가설 기각, 4개의 교육훈련 기법간이 차이가 있다.\n"
          ]
        }
      ]
    },
    {
      "cell_type": "markdown",
      "source": [
        "Statsmodel을 이용한 가설 검정\n",
        "- model = ols('종속변수~독립변수', data).fit() : model\n",
        "- sm.stats.anova_lm(model, type=2) : # Type 2 Anova DataFrame"
      ],
      "metadata": {
        "id": "d1Kehrn_DLE7"
      }
    },
    {
      "cell_type": "code",
      "source": [
        "# Statsmodel을 사용한 일원분산분석\n",
        "\n",
        "from statsmodels.formula.api import ols\n",
        "from statsmodels.stats.anova import anova_lm\n",
        "\n",
        "model_1A = ols('점수 ~ C(교육기관)', data).fit()\n",
        "anova_lm_result = anova_lm(model_1A)\n",
        "anova_lm_result\n",
        "\n",
        "# data.shape(32, 2)\n",
        "# SSA k-1 = 4-1 = 4\n",
        "# SSE N-k = 32-4 = 28\n",
        "# SST N-1 = 32-1 = 31\n",
        "# MSA / MSW = 295.083333 / 84.741071 = 3.482176"
      ],
      "metadata": {
        "colab": {
          "base_uri": "https://localhost:8080/",
          "height": 112
        },
        "id": "grupN3YHCujU",
        "outputId": "89de2ece-1e3e-41f2-ded1-444e5ed39598"
      },
      "execution_count": 9,
      "outputs": [
        {
          "output_type": "execute_result",
          "data": {
            "text/plain": [
              "            df   sum_sq     mean_sq         F    PR(>F)\n",
              "C(교육기관)    3.0   885.25  295.083333  3.482176  0.028897\n",
              "Residual  28.0  2372.75   84.741071       NaN       NaN"
            ],
            "text/html": [
              "\n",
              "  <div id=\"df-15b107be-1a03-4d1b-9ff2-dda943d54133\">\n",
              "    <div class=\"colab-df-container\">\n",
              "      <div>\n",
              "<style scoped>\n",
              "    .dataframe tbody tr th:only-of-type {\n",
              "        vertical-align: middle;\n",
              "    }\n",
              "\n",
              "    .dataframe tbody tr th {\n",
              "        vertical-align: top;\n",
              "    }\n",
              "\n",
              "    .dataframe thead th {\n",
              "        text-align: right;\n",
              "    }\n",
              "</style>\n",
              "<table border=\"1\" class=\"dataframe\">\n",
              "  <thead>\n",
              "    <tr style=\"text-align: right;\">\n",
              "      <th></th>\n",
              "      <th>df</th>\n",
              "      <th>sum_sq</th>\n",
              "      <th>mean_sq</th>\n",
              "      <th>F</th>\n",
              "      <th>PR(&gt;F)</th>\n",
              "    </tr>\n",
              "  </thead>\n",
              "  <tbody>\n",
              "    <tr>\n",
              "      <th>C(교육기관)</th>\n",
              "      <td>3.0</td>\n",
              "      <td>885.25</td>\n",
              "      <td>295.083333</td>\n",
              "      <td>3.482176</td>\n",
              "      <td>0.028897</td>\n",
              "    </tr>\n",
              "    <tr>\n",
              "      <th>Residual</th>\n",
              "      <td>28.0</td>\n",
              "      <td>2372.75</td>\n",
              "      <td>84.741071</td>\n",
              "      <td>NaN</td>\n",
              "      <td>NaN</td>\n",
              "    </tr>\n",
              "  </tbody>\n",
              "</table>\n",
              "</div>\n",
              "      <button class=\"colab-df-convert\" onclick=\"convertToInteractive('df-15b107be-1a03-4d1b-9ff2-dda943d54133')\"\n",
              "              title=\"Convert this dataframe to an interactive table.\"\n",
              "              style=\"display:none;\">\n",
              "        \n",
              "  <svg xmlns=\"http://www.w3.org/2000/svg\" height=\"24px\"viewBox=\"0 0 24 24\"\n",
              "       width=\"24px\">\n",
              "    <path d=\"M0 0h24v24H0V0z\" fill=\"none\"/>\n",
              "    <path d=\"M18.56 5.44l.94 2.06.94-2.06 2.06-.94-2.06-.94-.94-2.06-.94 2.06-2.06.94zm-11 1L8.5 8.5l.94-2.06 2.06-.94-2.06-.94L8.5 2.5l-.94 2.06-2.06.94zm10 10l.94 2.06.94-2.06 2.06-.94-2.06-.94-.94-2.06-.94 2.06-2.06.94z\"/><path d=\"M17.41 7.96l-1.37-1.37c-.4-.4-.92-.59-1.43-.59-.52 0-1.04.2-1.43.59L10.3 9.45l-7.72 7.72c-.78.78-.78 2.05 0 2.83L4 21.41c.39.39.9.59 1.41.59.51 0 1.02-.2 1.41-.59l7.78-7.78 2.81-2.81c.8-.78.8-2.07 0-2.86zM5.41 20L4 18.59l7.72-7.72 1.47 1.35L5.41 20z\"/>\n",
              "  </svg>\n",
              "      </button>\n",
              "      \n",
              "  <style>\n",
              "    .colab-df-container {\n",
              "      display:flex;\n",
              "      flex-wrap:wrap;\n",
              "      gap: 12px;\n",
              "    }\n",
              "\n",
              "    .colab-df-convert {\n",
              "      background-color: #E8F0FE;\n",
              "      border: none;\n",
              "      border-radius: 50%;\n",
              "      cursor: pointer;\n",
              "      display: none;\n",
              "      fill: #1967D2;\n",
              "      height: 32px;\n",
              "      padding: 0 0 0 0;\n",
              "      width: 32px;\n",
              "    }\n",
              "\n",
              "    .colab-df-convert:hover {\n",
              "      background-color: #E2EBFA;\n",
              "      box-shadow: 0px 1px 2px rgba(60, 64, 67, 0.3), 0px 1px 3px 1px rgba(60, 64, 67, 0.15);\n",
              "      fill: #174EA6;\n",
              "    }\n",
              "\n",
              "    [theme=dark] .colab-df-convert {\n",
              "      background-color: #3B4455;\n",
              "      fill: #D2E3FC;\n",
              "    }\n",
              "\n",
              "    [theme=dark] .colab-df-convert:hover {\n",
              "      background-color: #434B5C;\n",
              "      box-shadow: 0px 1px 3px 1px rgba(0, 0, 0, 0.15);\n",
              "      filter: drop-shadow(0px 1px 2px rgba(0, 0, 0, 0.3));\n",
              "      fill: #FFFFFF;\n",
              "    }\n",
              "  </style>\n",
              "\n",
              "      <script>\n",
              "        const buttonEl =\n",
              "          document.querySelector('#df-15b107be-1a03-4d1b-9ff2-dda943d54133 button.colab-df-convert');\n",
              "        buttonEl.style.display =\n",
              "          google.colab.kernel.accessAllowed ? 'block' : 'none';\n",
              "\n",
              "        async function convertToInteractive(key) {\n",
              "          const element = document.querySelector('#df-15b107be-1a03-4d1b-9ff2-dda943d54133');\n",
              "          const dataTable =\n",
              "            await google.colab.kernel.invokeFunction('convertToInteractive',\n",
              "                                                     [key], {});\n",
              "          if (!dataTable) return;\n",
              "\n",
              "          const docLinkHtml = 'Like what you see? Visit the ' +\n",
              "            '<a target=\"_blank\" href=https://colab.research.google.com/notebooks/data_table.ipynb>data table notebook</a>'\n",
              "            + ' to learn more about interactive tables.';\n",
              "          element.innerHTML = '';\n",
              "          dataTable['output_type'] = 'display_data';\n",
              "          await google.colab.output.renderOutput(dataTable, element);\n",
              "          const docLink = document.createElement('div');\n",
              "          docLink.innerHTML = docLinkHtml;\n",
              "          element.appendChild(docLink);\n",
              "        }\n",
              "      </script>\n",
              "    </div>\n",
              "  </div>\n",
              "  "
            ]
          },
          "metadata": {},
          "execution_count": 9
        }
      ]
    },
    {
      "cell_type": "code",
      "source": [
        "pval = anova_lm_result['PR(>F)'][0]\n",
        "\n",
        "if pval < 0.05:\n",
        "    print(\"귀무가설 기각, 4개의 교육훈련 기법간이 차이가 있다.\")\n",
        "else:\n",
        "    print(\"귀무가설 채택, 4개의 교육훈련 기법간이 차이가 없다.\")"
      ],
      "metadata": {
        "colab": {
          "base_uri": "https://localhost:8080/"
        },
        "id": "jmXELllcD_ij",
        "outputId": "cfdf802a-e720-45b7-8175-c8975b1f87eb"
      },
      "execution_count": 10,
      "outputs": [
        {
          "output_type": "stream",
          "name": "stdout",
          "text": [
            "귀무가설 기각, 4개의 교육훈련 기법간이 차이가 있다.\n"
          ]
        }
      ]
    },
    {
      "cell_type": "code",
      "source": [
        "# 사후 분석 : ANOVA 검증 결과 유의미하다는 결론을 얻었을 때, 구체적으로 어떤 수준(들)에서 평균 차이가 나는지를 검증\n",
        "from statsmodels.stats.multicomp import pairwise_tukeyhsd\n",
        "\n",
        "HSD = pairwise_tukeyhsd(data['점수'], data['교육기관'], alpha=0.05)\n",
        "HSD.summary()\n",
        "\n",
        "# a, b 차이, a, c 차이만 유의함"
      ],
      "metadata": {
        "colab": {
          "base_uri": "https://localhost:8080/",
          "height": 181
        },
        "id": "hJ8yViZ6EVAp",
        "outputId": "8f5476d9-7df4-41db-aa92-81127c373ef1"
      },
      "execution_count": 11,
      "outputs": [
        {
          "output_type": "execute_result",
          "data": {
            "text/plain": [
              "<class 'statsmodels.iolib.table.SimpleTable'>"
            ],
            "text/html": [
              "<table class=\"simpletable\">\n",
              "<caption>Multiple Comparison of Means - Tukey HSD, FWER=0.05</caption>\n",
              "<tr>\n",
              "  <th>group1</th> <th>group2</th> <th>meandiff</th>  <th>p-adj</th>   <th>lower</th>   <th>upper</th>  <th>reject</th>\n",
              "</tr>\n",
              "<tr>\n",
              "     <td>a</td>      <td>b</td>    <td>-13.625</td> <td>0.0298</td> <td>-26.1919</td> <td>-1.0581</td>  <td>True</td> \n",
              "</tr>\n",
              "<tr>\n",
              "     <td>a</td>      <td>c</td>    <td>-11.875</td> <td>0.0693</td> <td>-24.4419</td> <td>0.6919</td>   <td>False</td>\n",
              "</tr>\n",
              "<tr>\n",
              "     <td>a</td>      <td>d</td>     <td>-9.5</td>   <td>0.1896</td> <td>-22.0669</td> <td>3.0669</td>   <td>False</td>\n",
              "</tr>\n",
              "<tr>\n",
              "     <td>b</td>      <td>c</td>     <td>1.75</td>     <td>0.9</td>  <td>-10.8169</td> <td>14.3169</td>  <td>False</td>\n",
              "</tr>\n",
              "<tr>\n",
              "     <td>b</td>      <td>d</td>     <td>4.125</td>  <td>0.7861</td>  <td>-8.4419</td> <td>16.6919</td>  <td>False</td>\n",
              "</tr>\n",
              "<tr>\n",
              "     <td>c</td>      <td>d</td>     <td>2.375</td>    <td>0.9</td>  <td>-10.1919</td> <td>14.9419</td>  <td>False</td>\n",
              "</tr>\n",
              "</table>"
            ]
          },
          "metadata": {},
          "execution_count": 11
        }
      ]
    },
    {
      "cell_type": "markdown",
      "source": [
        "결론\n",
        "- 교육기관에 따른 weight의 평균 차이는 유의미하였다.(F(3, 28) = 4.221093, p < 0.05)\n",
        "- Tukey의 HSD를 이용하여 사후 분석을 실시한 결과, a 조건과 b 조건에서 유의미한 평균 차이가 있었다. (p < 0.05)"
      ],
      "metadata": {
        "id": "rvYNoFe6FuwS"
      }
    },
    {
      "cell_type": "markdown",
      "source": [
        "### 2) 이원분산분석(Two-way ANOVA)\n",
        "- 종속변수가 1개, 독립변수가 2개이면서 독립변수 각각이 factor(요인)로서 factor내에 level(수준)을 가지고 있을 때, 각 집단의 평균의 유의미한 차이가 있는지 유무를 확인"
      ],
      "metadata": {
        "id": "b0XWZzcYGZq7"
      }
    },
    {
      "cell_type": "markdown",
      "source": [
        "증명하고자 하는 가설\n",
        "- 귀무가설 : 강도에 대한 각 판유리와 온도 간에는 상호작용 효과가 없다\n",
        "- 대립가설 : 강도에 대한 각 판유리와 온도 간에는 상호작용 효과가 있다"
      ],
      "metadata": {
        "id": "UBizsHWBGzI8"
      }
    },
    {
      "cell_type": "code",
      "source": [
        "# 종속변수: 강도, 독립변수: 판유리/온도\n",
        "\n",
        "dat=pd.DataFrame({'판유리': ['유리1', '유리1','유리1', '유리2', '유리2', '유리2', '유리3', '유리3',\n",
        "                             '유리3', '유리1', '유리1','유리1', '유리2', '유리2', '유리2', '유리3',\n",
        "                             '유리3', '유리3', '유리1', '유리1','유리1', '유리2', '유리2', '유리2',\n",
        "                             '유리3', '유리3', '유리3'],\n",
        "                  '온도': [100, 100, 100, 100, 100, 100, 100, 100, 100, 125, 125, 125, 125, 125,\n",
        "                           125, 125, 125, 125, 150, 150, 150, 150, 150, 150, 150, 150, 150],\n",
        "                  '강도': [580, 568, 570, 550, 530, 579, 546, 575, 599, 1090, 1087, 1085, 1070,\n",
        "                           1035, 1000, 1045, 1053, 1066, 1392, 1380, 1386, 1328, 1312, 1299, 867,\n",
        "                           904, 889]\n",
        "                  })"
      ],
      "metadata": {
        "id": "25ejLjpVFt54"
      },
      "execution_count": 12,
      "outputs": []
    },
    {
      "cell_type": "code",
      "source": [
        "dat.head()"
      ],
      "metadata": {
        "colab": {
          "base_uri": "https://localhost:8080/",
          "height": 206
        },
        "id": "XDa7ZDjhJH9L",
        "outputId": "b75c40f1-3760-48b9-ff53-cf38d0b5c41d"
      },
      "execution_count": 13,
      "outputs": [
        {
          "output_type": "execute_result",
          "data": {
            "text/plain": [
              "   판유리   온도   강도\n",
              "0  유리1  100  580\n",
              "1  유리1  100  568\n",
              "2  유리1  100  570\n",
              "3  유리2  100  550\n",
              "4  유리2  100  530"
            ],
            "text/html": [
              "\n",
              "  <div id=\"df-d41f00c9-e6a8-4390-b04f-66ab243e4404\">\n",
              "    <div class=\"colab-df-container\">\n",
              "      <div>\n",
              "<style scoped>\n",
              "    .dataframe tbody tr th:only-of-type {\n",
              "        vertical-align: middle;\n",
              "    }\n",
              "\n",
              "    .dataframe tbody tr th {\n",
              "        vertical-align: top;\n",
              "    }\n",
              "\n",
              "    .dataframe thead th {\n",
              "        text-align: right;\n",
              "    }\n",
              "</style>\n",
              "<table border=\"1\" class=\"dataframe\">\n",
              "  <thead>\n",
              "    <tr style=\"text-align: right;\">\n",
              "      <th></th>\n",
              "      <th>판유리</th>\n",
              "      <th>온도</th>\n",
              "      <th>강도</th>\n",
              "    </tr>\n",
              "  </thead>\n",
              "  <tbody>\n",
              "    <tr>\n",
              "      <th>0</th>\n",
              "      <td>유리1</td>\n",
              "      <td>100</td>\n",
              "      <td>580</td>\n",
              "    </tr>\n",
              "    <tr>\n",
              "      <th>1</th>\n",
              "      <td>유리1</td>\n",
              "      <td>100</td>\n",
              "      <td>568</td>\n",
              "    </tr>\n",
              "    <tr>\n",
              "      <th>2</th>\n",
              "      <td>유리1</td>\n",
              "      <td>100</td>\n",
              "      <td>570</td>\n",
              "    </tr>\n",
              "    <tr>\n",
              "      <th>3</th>\n",
              "      <td>유리2</td>\n",
              "      <td>100</td>\n",
              "      <td>550</td>\n",
              "    </tr>\n",
              "    <tr>\n",
              "      <th>4</th>\n",
              "      <td>유리2</td>\n",
              "      <td>100</td>\n",
              "      <td>530</td>\n",
              "    </tr>\n",
              "  </tbody>\n",
              "</table>\n",
              "</div>\n",
              "      <button class=\"colab-df-convert\" onclick=\"convertToInteractive('df-d41f00c9-e6a8-4390-b04f-66ab243e4404')\"\n",
              "              title=\"Convert this dataframe to an interactive table.\"\n",
              "              style=\"display:none;\">\n",
              "        \n",
              "  <svg xmlns=\"http://www.w3.org/2000/svg\" height=\"24px\"viewBox=\"0 0 24 24\"\n",
              "       width=\"24px\">\n",
              "    <path d=\"M0 0h24v24H0V0z\" fill=\"none\"/>\n",
              "    <path d=\"M18.56 5.44l.94 2.06.94-2.06 2.06-.94-2.06-.94-.94-2.06-.94 2.06-2.06.94zm-11 1L8.5 8.5l.94-2.06 2.06-.94-2.06-.94L8.5 2.5l-.94 2.06-2.06.94zm10 10l.94 2.06.94-2.06 2.06-.94-2.06-.94-.94-2.06-.94 2.06-2.06.94z\"/><path d=\"M17.41 7.96l-1.37-1.37c-.4-.4-.92-.59-1.43-.59-.52 0-1.04.2-1.43.59L10.3 9.45l-7.72 7.72c-.78.78-.78 2.05 0 2.83L4 21.41c.39.39.9.59 1.41.59.51 0 1.02-.2 1.41-.59l7.78-7.78 2.81-2.81c.8-.78.8-2.07 0-2.86zM5.41 20L4 18.59l7.72-7.72 1.47 1.35L5.41 20z\"/>\n",
              "  </svg>\n",
              "      </button>\n",
              "      \n",
              "  <style>\n",
              "    .colab-df-container {\n",
              "      display:flex;\n",
              "      flex-wrap:wrap;\n",
              "      gap: 12px;\n",
              "    }\n",
              "\n",
              "    .colab-df-convert {\n",
              "      background-color: #E8F0FE;\n",
              "      border: none;\n",
              "      border-radius: 50%;\n",
              "      cursor: pointer;\n",
              "      display: none;\n",
              "      fill: #1967D2;\n",
              "      height: 32px;\n",
              "      padding: 0 0 0 0;\n",
              "      width: 32px;\n",
              "    }\n",
              "\n",
              "    .colab-df-convert:hover {\n",
              "      background-color: #E2EBFA;\n",
              "      box-shadow: 0px 1px 2px rgba(60, 64, 67, 0.3), 0px 1px 3px 1px rgba(60, 64, 67, 0.15);\n",
              "      fill: #174EA6;\n",
              "    }\n",
              "\n",
              "    [theme=dark] .colab-df-convert {\n",
              "      background-color: #3B4455;\n",
              "      fill: #D2E3FC;\n",
              "    }\n",
              "\n",
              "    [theme=dark] .colab-df-convert:hover {\n",
              "      background-color: #434B5C;\n",
              "      box-shadow: 0px 1px 3px 1px rgba(0, 0, 0, 0.15);\n",
              "      filter: drop-shadow(0px 1px 2px rgba(0, 0, 0, 0.3));\n",
              "      fill: #FFFFFF;\n",
              "    }\n",
              "  </style>\n",
              "\n",
              "      <script>\n",
              "        const buttonEl =\n",
              "          document.querySelector('#df-d41f00c9-e6a8-4390-b04f-66ab243e4404 button.colab-df-convert');\n",
              "        buttonEl.style.display =\n",
              "          google.colab.kernel.accessAllowed ? 'block' : 'none';\n",
              "\n",
              "        async function convertToInteractive(key) {\n",
              "          const element = document.querySelector('#df-d41f00c9-e6a8-4390-b04f-66ab243e4404');\n",
              "          const dataTable =\n",
              "            await google.colab.kernel.invokeFunction('convertToInteractive',\n",
              "                                                     [key], {});\n",
              "          if (!dataTable) return;\n",
              "\n",
              "          const docLinkHtml = 'Like what you see? Visit the ' +\n",
              "            '<a target=\"_blank\" href=https://colab.research.google.com/notebooks/data_table.ipynb>data table notebook</a>'\n",
              "            + ' to learn more about interactive tables.';\n",
              "          element.innerHTML = '';\n",
              "          dataTable['output_type'] = 'display_data';\n",
              "          await google.colab.output.renderOutput(dataTable, element);\n",
              "          const docLink = document.createElement('div');\n",
              "          docLink.innerHTML = docLinkHtml;\n",
              "          element.appendChild(docLink);\n",
              "        }\n",
              "      </script>\n",
              "    </div>\n",
              "  </div>\n",
              "  "
            ]
          },
          "metadata": {},
          "execution_count": 13
        }
      ]
    },
    {
      "cell_type": "code",
      "source": [
        "dat.groupby(['판유리', '온도']).agg(len)\n",
        "# 판유리 온도 요인으로 구분한 각 집단별 표본 수는 모두 3으로 동일"
      ],
      "metadata": {
        "colab": {
          "base_uri": "https://localhost:8080/",
          "height": 363
        },
        "id": "6UajG5aBJLcm",
        "outputId": "1c005f78-1353-4dc8-dc00-5dd777752f48"
      },
      "execution_count": 14,
      "outputs": [
        {
          "output_type": "execute_result",
          "data": {
            "text/plain": [
              "         강도\n",
              "판유리 온도     \n",
              "유리1 100   3\n",
              "    125   3\n",
              "    150   3\n",
              "유리2 100   3\n",
              "    125   3\n",
              "    150   3\n",
              "유리3 100   3\n",
              "    125   3\n",
              "    150   3"
            ],
            "text/html": [
              "\n",
              "  <div id=\"df-cc5e8cf6-b8b3-476b-9c57-16ad2186e8aa\">\n",
              "    <div class=\"colab-df-container\">\n",
              "      <div>\n",
              "<style scoped>\n",
              "    .dataframe tbody tr th:only-of-type {\n",
              "        vertical-align: middle;\n",
              "    }\n",
              "\n",
              "    .dataframe tbody tr th {\n",
              "        vertical-align: top;\n",
              "    }\n",
              "\n",
              "    .dataframe thead th {\n",
              "        text-align: right;\n",
              "    }\n",
              "</style>\n",
              "<table border=\"1\" class=\"dataframe\">\n",
              "  <thead>\n",
              "    <tr style=\"text-align: right;\">\n",
              "      <th></th>\n",
              "      <th></th>\n",
              "      <th>강도</th>\n",
              "    </tr>\n",
              "    <tr>\n",
              "      <th>판유리</th>\n",
              "      <th>온도</th>\n",
              "      <th></th>\n",
              "    </tr>\n",
              "  </thead>\n",
              "  <tbody>\n",
              "    <tr>\n",
              "      <th rowspan=\"3\" valign=\"top\">유리1</th>\n",
              "      <th>100</th>\n",
              "      <td>3</td>\n",
              "    </tr>\n",
              "    <tr>\n",
              "      <th>125</th>\n",
              "      <td>3</td>\n",
              "    </tr>\n",
              "    <tr>\n",
              "      <th>150</th>\n",
              "      <td>3</td>\n",
              "    </tr>\n",
              "    <tr>\n",
              "      <th rowspan=\"3\" valign=\"top\">유리2</th>\n",
              "      <th>100</th>\n",
              "      <td>3</td>\n",
              "    </tr>\n",
              "    <tr>\n",
              "      <th>125</th>\n",
              "      <td>3</td>\n",
              "    </tr>\n",
              "    <tr>\n",
              "      <th>150</th>\n",
              "      <td>3</td>\n",
              "    </tr>\n",
              "    <tr>\n",
              "      <th rowspan=\"3\" valign=\"top\">유리3</th>\n",
              "      <th>100</th>\n",
              "      <td>3</td>\n",
              "    </tr>\n",
              "    <tr>\n",
              "      <th>125</th>\n",
              "      <td>3</td>\n",
              "    </tr>\n",
              "    <tr>\n",
              "      <th>150</th>\n",
              "      <td>3</td>\n",
              "    </tr>\n",
              "  </tbody>\n",
              "</table>\n",
              "</div>\n",
              "      <button class=\"colab-df-convert\" onclick=\"convertToInteractive('df-cc5e8cf6-b8b3-476b-9c57-16ad2186e8aa')\"\n",
              "              title=\"Convert this dataframe to an interactive table.\"\n",
              "              style=\"display:none;\">\n",
              "        \n",
              "  <svg xmlns=\"http://www.w3.org/2000/svg\" height=\"24px\"viewBox=\"0 0 24 24\"\n",
              "       width=\"24px\">\n",
              "    <path d=\"M0 0h24v24H0V0z\" fill=\"none\"/>\n",
              "    <path d=\"M18.56 5.44l.94 2.06.94-2.06 2.06-.94-2.06-.94-.94-2.06-.94 2.06-2.06.94zm-11 1L8.5 8.5l.94-2.06 2.06-.94-2.06-.94L8.5 2.5l-.94 2.06-2.06.94zm10 10l.94 2.06.94-2.06 2.06-.94-2.06-.94-.94-2.06-.94 2.06-2.06.94z\"/><path d=\"M17.41 7.96l-1.37-1.37c-.4-.4-.92-.59-1.43-.59-.52 0-1.04.2-1.43.59L10.3 9.45l-7.72 7.72c-.78.78-.78 2.05 0 2.83L4 21.41c.39.39.9.59 1.41.59.51 0 1.02-.2 1.41-.59l7.78-7.78 2.81-2.81c.8-.78.8-2.07 0-2.86zM5.41 20L4 18.59l7.72-7.72 1.47 1.35L5.41 20z\"/>\n",
              "  </svg>\n",
              "      </button>\n",
              "      \n",
              "  <style>\n",
              "    .colab-df-container {\n",
              "      display:flex;\n",
              "      flex-wrap:wrap;\n",
              "      gap: 12px;\n",
              "    }\n",
              "\n",
              "    .colab-df-convert {\n",
              "      background-color: #E8F0FE;\n",
              "      border: none;\n",
              "      border-radius: 50%;\n",
              "      cursor: pointer;\n",
              "      display: none;\n",
              "      fill: #1967D2;\n",
              "      height: 32px;\n",
              "      padding: 0 0 0 0;\n",
              "      width: 32px;\n",
              "    }\n",
              "\n",
              "    .colab-df-convert:hover {\n",
              "      background-color: #E2EBFA;\n",
              "      box-shadow: 0px 1px 2px rgba(60, 64, 67, 0.3), 0px 1px 3px 1px rgba(60, 64, 67, 0.15);\n",
              "      fill: #174EA6;\n",
              "    }\n",
              "\n",
              "    [theme=dark] .colab-df-convert {\n",
              "      background-color: #3B4455;\n",
              "      fill: #D2E3FC;\n",
              "    }\n",
              "\n",
              "    [theme=dark] .colab-df-convert:hover {\n",
              "      background-color: #434B5C;\n",
              "      box-shadow: 0px 1px 3px 1px rgba(0, 0, 0, 0.15);\n",
              "      filter: drop-shadow(0px 1px 2px rgba(0, 0, 0, 0.3));\n",
              "      fill: #FFFFFF;\n",
              "    }\n",
              "  </style>\n",
              "\n",
              "      <script>\n",
              "        const buttonEl =\n",
              "          document.querySelector('#df-cc5e8cf6-b8b3-476b-9c57-16ad2186e8aa button.colab-df-convert');\n",
              "        buttonEl.style.display =\n",
              "          google.colab.kernel.accessAllowed ? 'block' : 'none';\n",
              "\n",
              "        async function convertToInteractive(key) {\n",
              "          const element = document.querySelector('#df-cc5e8cf6-b8b3-476b-9c57-16ad2186e8aa');\n",
              "          const dataTable =\n",
              "            await google.colab.kernel.invokeFunction('convertToInteractive',\n",
              "                                                     [key], {});\n",
              "          if (!dataTable) return;\n",
              "\n",
              "          const docLinkHtml = 'Like what you see? Visit the ' +\n",
              "            '<a target=\"_blank\" href=https://colab.research.google.com/notebooks/data_table.ipynb>data table notebook</a>'\n",
              "            + ' to learn more about interactive tables.';\n",
              "          element.innerHTML = '';\n",
              "          dataTable['output_type'] = 'display_data';\n",
              "          await google.colab.output.renderOutput(dataTable, element);\n",
              "          const docLink = document.createElement('div');\n",
              "          docLink.innerHTML = docLinkHtml;\n",
              "          element.appendChild(docLink);\n",
              "        }\n",
              "      </script>\n",
              "    </div>\n",
              "  </div>\n",
              "  "
            ]
          },
          "metadata": {},
          "execution_count": 14
        }
      ]
    },
    {
      "cell_type": "code",
      "source": [
        "# 이원분산분석\n",
        "\n",
        "from statsmodels.formula.api import ols\n",
        "from statsmodels.stats.anova import anova_lm\n",
        "\n",
        "model = ols('강도 ~ C(판유리) * C(온도)', dat).fit()\n",
        "anova_result = pd.DataFrame(anova_lm(model))"
      ],
      "metadata": {
        "id": "grHDO3oPJT-x"
      },
      "execution_count": 15,
      "outputs": []
    },
    {
      "cell_type": "code",
      "source": [
        "anova_result"
      ],
      "metadata": {
        "colab": {
          "base_uri": "https://localhost:8080/",
          "height": 175
        },
        "id": "aCHAjatJJoV6",
        "outputId": "4f435e90-79bf-4768-a243-e0184092eba8"
      },
      "execution_count": 16,
      "outputs": [
        {
          "output_type": "execute_result",
          "data": {
            "text/plain": [
              "                df        sum_sq        mean_sq            F        PR(>F)\n",
              "C(판유리)         2.0  1.508645e+05   75432.259259   206.370554  3.886026e-13\n",
              "C(온도)          2.0  1.970335e+06  985167.259259  2695.259499  5.008957e-23\n",
              "C(판유리):C(온도)   4.0  2.905517e+05   72637.925926   198.725707  1.254188e-14\n",
              "Residual      18.0  6.579333e+03     365.518519          NaN           NaN"
            ],
            "text/html": [
              "\n",
              "  <div id=\"df-0db28a77-8204-4cc3-bb27-d6d497743cf0\">\n",
              "    <div class=\"colab-df-container\">\n",
              "      <div>\n",
              "<style scoped>\n",
              "    .dataframe tbody tr th:only-of-type {\n",
              "        vertical-align: middle;\n",
              "    }\n",
              "\n",
              "    .dataframe tbody tr th {\n",
              "        vertical-align: top;\n",
              "    }\n",
              "\n",
              "    .dataframe thead th {\n",
              "        text-align: right;\n",
              "    }\n",
              "</style>\n",
              "<table border=\"1\" class=\"dataframe\">\n",
              "  <thead>\n",
              "    <tr style=\"text-align: right;\">\n",
              "      <th></th>\n",
              "      <th>df</th>\n",
              "      <th>sum_sq</th>\n",
              "      <th>mean_sq</th>\n",
              "      <th>F</th>\n",
              "      <th>PR(&gt;F)</th>\n",
              "    </tr>\n",
              "  </thead>\n",
              "  <tbody>\n",
              "    <tr>\n",
              "      <th>C(판유리)</th>\n",
              "      <td>2.0</td>\n",
              "      <td>1.508645e+05</td>\n",
              "      <td>75432.259259</td>\n",
              "      <td>206.370554</td>\n",
              "      <td>3.886026e-13</td>\n",
              "    </tr>\n",
              "    <tr>\n",
              "      <th>C(온도)</th>\n",
              "      <td>2.0</td>\n",
              "      <td>1.970335e+06</td>\n",
              "      <td>985167.259259</td>\n",
              "      <td>2695.259499</td>\n",
              "      <td>5.008957e-23</td>\n",
              "    </tr>\n",
              "    <tr>\n",
              "      <th>C(판유리):C(온도)</th>\n",
              "      <td>4.0</td>\n",
              "      <td>2.905517e+05</td>\n",
              "      <td>72637.925926</td>\n",
              "      <td>198.725707</td>\n",
              "      <td>1.254188e-14</td>\n",
              "    </tr>\n",
              "    <tr>\n",
              "      <th>Residual</th>\n",
              "      <td>18.0</td>\n",
              "      <td>6.579333e+03</td>\n",
              "      <td>365.518519</td>\n",
              "      <td>NaN</td>\n",
              "      <td>NaN</td>\n",
              "    </tr>\n",
              "  </tbody>\n",
              "</table>\n",
              "</div>\n",
              "      <button class=\"colab-df-convert\" onclick=\"convertToInteractive('df-0db28a77-8204-4cc3-bb27-d6d497743cf0')\"\n",
              "              title=\"Convert this dataframe to an interactive table.\"\n",
              "              style=\"display:none;\">\n",
              "        \n",
              "  <svg xmlns=\"http://www.w3.org/2000/svg\" height=\"24px\"viewBox=\"0 0 24 24\"\n",
              "       width=\"24px\">\n",
              "    <path d=\"M0 0h24v24H0V0z\" fill=\"none\"/>\n",
              "    <path d=\"M18.56 5.44l.94 2.06.94-2.06 2.06-.94-2.06-.94-.94-2.06-.94 2.06-2.06.94zm-11 1L8.5 8.5l.94-2.06 2.06-.94-2.06-.94L8.5 2.5l-.94 2.06-2.06.94zm10 10l.94 2.06.94-2.06 2.06-.94-2.06-.94-.94-2.06-.94 2.06-2.06.94z\"/><path d=\"M17.41 7.96l-1.37-1.37c-.4-.4-.92-.59-1.43-.59-.52 0-1.04.2-1.43.59L10.3 9.45l-7.72 7.72c-.78.78-.78 2.05 0 2.83L4 21.41c.39.39.9.59 1.41.59.51 0 1.02-.2 1.41-.59l7.78-7.78 2.81-2.81c.8-.78.8-2.07 0-2.86zM5.41 20L4 18.59l7.72-7.72 1.47 1.35L5.41 20z\"/>\n",
              "  </svg>\n",
              "      </button>\n",
              "      \n",
              "  <style>\n",
              "    .colab-df-container {\n",
              "      display:flex;\n",
              "      flex-wrap:wrap;\n",
              "      gap: 12px;\n",
              "    }\n",
              "\n",
              "    .colab-df-convert {\n",
              "      background-color: #E8F0FE;\n",
              "      border: none;\n",
              "      border-radius: 50%;\n",
              "      cursor: pointer;\n",
              "      display: none;\n",
              "      fill: #1967D2;\n",
              "      height: 32px;\n",
              "      padding: 0 0 0 0;\n",
              "      width: 32px;\n",
              "    }\n",
              "\n",
              "    .colab-df-convert:hover {\n",
              "      background-color: #E2EBFA;\n",
              "      box-shadow: 0px 1px 2px rgba(60, 64, 67, 0.3), 0px 1px 3px 1px rgba(60, 64, 67, 0.15);\n",
              "      fill: #174EA6;\n",
              "    }\n",
              "\n",
              "    [theme=dark] .colab-df-convert {\n",
              "      background-color: #3B4455;\n",
              "      fill: #D2E3FC;\n",
              "    }\n",
              "\n",
              "    [theme=dark] .colab-df-convert:hover {\n",
              "      background-color: #434B5C;\n",
              "      box-shadow: 0px 1px 3px 1px rgba(0, 0, 0, 0.15);\n",
              "      filter: drop-shadow(0px 1px 2px rgba(0, 0, 0, 0.3));\n",
              "      fill: #FFFFFF;\n",
              "    }\n",
              "  </style>\n",
              "\n",
              "      <script>\n",
              "        const buttonEl =\n",
              "          document.querySelector('#df-0db28a77-8204-4cc3-bb27-d6d497743cf0 button.colab-df-convert');\n",
              "        buttonEl.style.display =\n",
              "          google.colab.kernel.accessAllowed ? 'block' : 'none';\n",
              "\n",
              "        async function convertToInteractive(key) {\n",
              "          const element = document.querySelector('#df-0db28a77-8204-4cc3-bb27-d6d497743cf0');\n",
              "          const dataTable =\n",
              "            await google.colab.kernel.invokeFunction('convertToInteractive',\n",
              "                                                     [key], {});\n",
              "          if (!dataTable) return;\n",
              "\n",
              "          const docLinkHtml = 'Like what you see? Visit the ' +\n",
              "            '<a target=\"_blank\" href=https://colab.research.google.com/notebooks/data_table.ipynb>data table notebook</a>'\n",
              "            + ' to learn more about interactive tables.';\n",
              "          element.innerHTML = '';\n",
              "          dataTable['output_type'] = 'display_data';\n",
              "          await google.colab.output.renderOutput(dataTable, element);\n",
              "          const docLink = document.createElement('div');\n",
              "          docLink.innerHTML = docLinkHtml;\n",
              "          element.appendChild(docLink);\n",
              "        }\n",
              "      </script>\n",
              "    </div>\n",
              "  </div>\n",
              "  "
            ]
          },
          "metadata": {},
          "execution_count": 16
        }
      ]
    },
    {
      "cell_type": "markdown",
      "source": [
        "결과 해석\n",
        "- 판유리 : F(2, 18) = 206.370554, p<0.05로 유의미. 판유리의 수준에 따라 평균에 차이가 난다고 볼 수 있음\n",
        "- 온도 : F(2, 18) = 2695.259499, p<0.05로 유의미. 즉 온도의 수준에 따라 평균에 차이가 난다고 볼 수 있음\n",
        "- 판유리 : 온도: F(4, 18) = 198.725707, p<0.05로 유의미. 상호작용 효과는 발견"
      ],
      "metadata": {
        "id": "BUty52OyJ9XD"
      }
    },
    {
      "cell_type": "code",
      "source": [
        "## 사후 분석\n",
        "dat['온도']=dat['온도'].astype('str')\n",
        "dat['combi']=dat.판유리 + \" / \" + dat.온도\n",
        "print(pairwise_tukeyhsd(dat['강도'], dat['combi']))"
      ],
      "metadata": {
        "colab": {
          "base_uri": "https://localhost:8080/"
        },
        "id": "SpR8MPWoJ1Rb",
        "outputId": "07471b4e-c487-456c-f6bb-b3e00ed472d5"
      },
      "execution_count": 17,
      "outputs": [
        {
          "output_type": "stream",
          "name": "stdout",
          "text": [
            "      Multiple Comparison of Means - Tukey HSD, FWER=0.05      \n",
            "===============================================================\n",
            "  group1    group2   meandiff p-adj    lower     upper   reject\n",
            "---------------------------------------------------------------\n",
            "유리1 / 100 유리1 / 125  514.6667  0.001  459.9711  569.3623   True\n",
            "유리1 / 100 유리1 / 150  813.3333  0.001  758.6377  868.0289   True\n",
            "유리1 / 100 유리2 / 100  -19.6667    0.9  -74.3623   35.0289  False\n",
            "유리1 / 100 유리2 / 125  462.3333  0.001  407.6377  517.0289   True\n",
            "유리1 / 100 유리2 / 150  740.3333  0.001  685.6377  795.0289   True\n",
            "유리1 / 100 유리3 / 100    0.6667    0.9  -54.0289   55.3623  False\n",
            "유리1 / 100 유리3 / 125     482.0  0.001  427.3044  536.6956   True\n",
            "유리1 / 100 유리3 / 150     314.0  0.001  259.3044  368.6956   True\n",
            "유리1 / 125 유리1 / 150  298.6667  0.001  243.9711  353.3623   True\n",
            "유리1 / 125 유리2 / 100 -534.3333  0.001 -589.0289 -479.6377   True\n",
            "유리1 / 125 유리2 / 125  -52.3333 0.0671 -107.0289    2.3623  False\n",
            "유리1 / 125 유리2 / 150  225.6667  0.001  170.9711  280.3623   True\n",
            "유리1 / 125 유리3 / 100    -514.0  0.001 -568.6956 -459.3044   True\n",
            "유리1 / 125 유리3 / 125  -32.6667 0.5058  -87.3623   22.0289  False\n",
            "유리1 / 125 유리3 / 150 -200.6667  0.001 -255.3623 -145.9711   True\n",
            "유리1 / 150 유리2 / 100    -833.0  0.001 -887.6956 -778.3044   True\n",
            "유리1 / 150 유리2 / 125    -351.0  0.001 -405.6956 -296.3044   True\n",
            "유리1 / 150 유리2 / 150     -73.0 0.0046 -127.6956  -18.3044   True\n",
            "유리1 / 150 유리3 / 100 -812.6667  0.001 -867.3623 -757.9711   True\n",
            "유리1 / 150 유리3 / 125 -331.3333  0.001 -386.0289 -276.6377   True\n",
            "유리1 / 150 유리3 / 150 -499.3333  0.001 -554.0289 -444.6377   True\n",
            "유리2 / 100 유리2 / 125     482.0  0.001  427.3044  536.6956   True\n",
            "유리2 / 100 유리2 / 150     760.0  0.001  705.3044  814.6956   True\n",
            "유리2 / 100 유리3 / 100   20.3333    0.9  -34.3623   75.0289  False\n",
            "유리2 / 100 유리3 / 125  501.6667  0.001  446.9711  556.3623   True\n",
            "유리2 / 100 유리3 / 150  333.6667  0.001  278.9711  388.3623   True\n",
            "유리2 / 125 유리2 / 150     278.0  0.001  223.3044  332.6956   True\n",
            "유리2 / 125 유리3 / 100 -461.6667  0.001 -516.3623 -406.9711   True\n",
            "유리2 / 125 유리3 / 125   19.6667    0.9  -35.0289   74.3623  False\n",
            "유리2 / 125 유리3 / 150 -148.3333  0.001 -203.0289  -93.6377   True\n",
            "유리2 / 150 유리3 / 100 -739.6667  0.001 -794.3623 -684.9711   True\n",
            "유리2 / 150 유리3 / 125 -258.3333  0.001 -313.0289 -203.6377   True\n",
            "유리2 / 150 유리3 / 150 -426.3333  0.001 -481.0289 -371.6377   True\n",
            "유리3 / 100 유리3 / 125  481.3333  0.001  426.6377  536.0289   True\n",
            "유리3 / 100 유리3 / 150  313.3333  0.001  258.6377  368.0289   True\n",
            "유리3 / 125 유리3 / 150    -168.0  0.001 -222.6956 -113.3044   True\n",
            "---------------------------------------------------------------\n"
          ]
        }
      ]
    },
    {
      "cell_type": "code",
      "source": [
        ""
      ],
      "metadata": {
        "id": "kYrwuCtOKrPK"
      },
      "execution_count": null,
      "outputs": []
    }
  ]
}