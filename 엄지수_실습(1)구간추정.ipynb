{
  "nbformat": 4,
  "nbformat_minor": 0,
  "metadata": {
    "colab": {
      "name": "엄지수_실습(1)구간추정.ipynb",
      "provenance": [],
      "collapsed_sections": [
        "W2nygnm3BvDX"
      ],
      "include_colab_link": true
    },
    "kernelspec": {
      "name": "python3",
      "display_name": "Python 3"
    },
    "language_info": {
      "name": "python"
    }
  },
  "cells": [
    {
      "cell_type": "markdown",
      "metadata": {
        "id": "view-in-github",
        "colab_type": "text"
      },
      "source": [
        "<a href=\"https://colab.research.google.com/github/thumb-chuu/BigData-Internship_statistics/blob/main/%EC%97%84%EC%A7%80%EC%88%98_%EC%8B%A4%EC%8A%B5(1)%EA%B5%AC%EA%B0%84%EC%B6%94%EC%A0%95.ipynb\" target=\"_parent\"><img src=\"https://colab.research.google.com/assets/colab-badge.svg\" alt=\"Open In Colab\"/></a>"
      ]
    },
    {
      "cell_type": "markdown",
      "source": [
        "# ◆ 점 추정 실습\n",
        "### 패키지 Import"
      ],
      "metadata": {
        "id": "W2nygnm3BvDX"
      }
    },
    {
      "cell_type": "code",
      "source": [
        "!sudo apt-get install -y fonts-nanum\n",
        "!sudo fc-cache -fv\n",
        "!rm ~/.cache/matplotlib -rf"
      ],
      "metadata": {
        "colab": {
          "base_uri": "https://localhost:8080/"
        },
        "id": "8hUdLPWRGx2M",
        "outputId": "744af855-30e9-452a-db05-5711a37c66e0"
      },
      "execution_count": 1,
      "outputs": [
        {
          "output_type": "stream",
          "name": "stdout",
          "text": [
            "Reading package lists... Done\n",
            "Building dependency tree       \n",
            "Reading state information... Done\n",
            "fonts-nanum is already the newest version (20170925-1).\n",
            "The following package was automatically installed and is no longer required:\n",
            "  libnvidia-common-460\n",
            "Use 'sudo apt autoremove' to remove it.\n",
            "0 upgraded, 0 newly installed, 0 to remove and 62 not upgraded.\n",
            "/usr/share/fonts: caching, new cache contents: 0 fonts, 1 dirs\n",
            "/usr/share/fonts/truetype: caching, new cache contents: 0 fonts, 3 dirs\n",
            "/usr/share/fonts/truetype/humor-sans: caching, new cache contents: 1 fonts, 0 dirs\n",
            "/usr/share/fonts/truetype/liberation: caching, new cache contents: 16 fonts, 0 dirs\n",
            "/usr/share/fonts/truetype/nanum: caching, new cache contents: 10 fonts, 0 dirs\n",
            "/usr/local/share/fonts: caching, new cache contents: 0 fonts, 0 dirs\n",
            "/root/.local/share/fonts: skipping, no such directory\n",
            "/root/.fonts: skipping, no such directory\n",
            "/var/cache/fontconfig: cleaning cache directory\n",
            "/root/.cache/fontconfig: not cleaning non-existent cache directory\n",
            "/root/.fontconfig: not cleaning non-existent cache directory\n",
            "fc-cache: succeeded\n"
          ]
        }
      ]
    },
    {
      "cell_type": "code",
      "execution_count": 2,
      "metadata": {
        "id": "6OWP36Sq_eLL"
      },
      "outputs": [],
      "source": [
        "# 패키지 임포트\n",
        "import os\n",
        "import warnings\n",
        "warnings.simplefilter(action='ignore', category=FutureWarning)      # FutureWarning 제거\n",
        "\n",
        "import pandas as pd                 # pandas package\n",
        "import numpy as np                  # numpy package\n",
        "import math\n",
        "from scipy import stats             # Scipy Package\n",
        "\n",
        "# 시각화 패키지\n",
        "import matplotlib.pyplot as plt     # matplotlib 시각화 패키지\n",
        "import seaborn as sns\n",
        "%matplotlib inline\n",
        "\n",
        "# os에 따른 Font 깨짐 제거를 위해 Font 지정 \n",
        "import os \n",
        "if os.name == 'nt' :\n",
        "    font_family = \"NanumBarunGothic\" # Windows OS \n",
        "else :\n",
        "    font_family = \"NanumBarunGothic\" # MAC OS\n",
        "    \n",
        "# - 값이 깨지는 문제 해결을 위해 파라미터 값 설정 \n",
        "sns.set(font=font_family, rc ={\"axes.unicode_minus\" : False})"
      ]
    },
    {
      "cell_type": "markdown",
      "source": [
        "### 1. 평균의 점 추정"
      ],
      "metadata": {
        "id": "36LUkCVJHP6M"
      }
    },
    {
      "cell_type": "code",
      "source": [
        "# import numpy as np\n",
        "# import pandas as pd\n",
        "# import matplotlib.pyplot as plt\n",
        "# import math\n",
        "# import scipy.stats as st"
      ],
      "metadata": {
        "id": "owUCkBoXHPfc"
      },
      "execution_count": 3,
      "outputs": []
    },
    {
      "cell_type": "markdown",
      "source": [
        "### 1) 데이터 생성"
      ],
      "metadata": {
        "id": "NhmiXLz_HilM"
      }
    },
    {
      "cell_type": "code",
      "source": [
        "# 데이터 생성\n",
        "np.random.seed(100)\n",
        "\n",
        "math_score = pd.DataFrame(np.random.randint(25, 101, size=500), columns=[\"점수\"])"
      ],
      "metadata": {
        "id": "U8hlrds-HhR9"
      },
      "execution_count": 4,
      "outputs": []
    },
    {
      "cell_type": "markdown",
      "source": [
        "### 2) 데이터 탐색"
      ],
      "metadata": {
        "id": "icDw3lm1HwTc"
      }
    },
    {
      "cell_type": "code",
      "source": [
        "# 요약정보\n",
        "math_score.describe()"
      ],
      "metadata": {
        "colab": {
          "base_uri": "https://localhost:8080/",
          "height": 300
        },
        "id": "JLRHyHB8HvJg",
        "outputId": "c9aacb2c-d254-4b9d-988d-ee7c16e34b97"
      },
      "execution_count": 5,
      "outputs": [
        {
          "output_type": "execute_result",
          "data": {
            "text/plain": [
              "               점수\n",
              "count  500.000000\n",
              "mean    61.580000\n",
              "std     21.513374\n",
              "min     25.000000\n",
              "25%     42.000000\n",
              "50%     62.500000\n",
              "75%     79.000000\n",
              "max    100.000000"
            ],
            "text/html": [
              "\n",
              "  <div id=\"df-7c204aed-414e-477f-9cb0-ac3de4cc8c65\">\n",
              "    <div class=\"colab-df-container\">\n",
              "      <div>\n",
              "<style scoped>\n",
              "    .dataframe tbody tr th:only-of-type {\n",
              "        vertical-align: middle;\n",
              "    }\n",
              "\n",
              "    .dataframe tbody tr th {\n",
              "        vertical-align: top;\n",
              "    }\n",
              "\n",
              "    .dataframe thead th {\n",
              "        text-align: right;\n",
              "    }\n",
              "</style>\n",
              "<table border=\"1\" class=\"dataframe\">\n",
              "  <thead>\n",
              "    <tr style=\"text-align: right;\">\n",
              "      <th></th>\n",
              "      <th>점수</th>\n",
              "    </tr>\n",
              "  </thead>\n",
              "  <tbody>\n",
              "    <tr>\n",
              "      <th>count</th>\n",
              "      <td>500.000000</td>\n",
              "    </tr>\n",
              "    <tr>\n",
              "      <th>mean</th>\n",
              "      <td>61.580000</td>\n",
              "    </tr>\n",
              "    <tr>\n",
              "      <th>std</th>\n",
              "      <td>21.513374</td>\n",
              "    </tr>\n",
              "    <tr>\n",
              "      <th>min</th>\n",
              "      <td>25.000000</td>\n",
              "    </tr>\n",
              "    <tr>\n",
              "      <th>25%</th>\n",
              "      <td>42.000000</td>\n",
              "    </tr>\n",
              "    <tr>\n",
              "      <th>50%</th>\n",
              "      <td>62.500000</td>\n",
              "    </tr>\n",
              "    <tr>\n",
              "      <th>75%</th>\n",
              "      <td>79.000000</td>\n",
              "    </tr>\n",
              "    <tr>\n",
              "      <th>max</th>\n",
              "      <td>100.000000</td>\n",
              "    </tr>\n",
              "  </tbody>\n",
              "</table>\n",
              "</div>\n",
              "      <button class=\"colab-df-convert\" onclick=\"convertToInteractive('df-7c204aed-414e-477f-9cb0-ac3de4cc8c65')\"\n",
              "              title=\"Convert this dataframe to an interactive table.\"\n",
              "              style=\"display:none;\">\n",
              "        \n",
              "  <svg xmlns=\"http://www.w3.org/2000/svg\" height=\"24px\"viewBox=\"0 0 24 24\"\n",
              "       width=\"24px\">\n",
              "    <path d=\"M0 0h24v24H0V0z\" fill=\"none\"/>\n",
              "    <path d=\"M18.56 5.44l.94 2.06.94-2.06 2.06-.94-2.06-.94-.94-2.06-.94 2.06-2.06.94zm-11 1L8.5 8.5l.94-2.06 2.06-.94-2.06-.94L8.5 2.5l-.94 2.06-2.06.94zm10 10l.94 2.06.94-2.06 2.06-.94-2.06-.94-.94-2.06-.94 2.06-2.06.94z\"/><path d=\"M17.41 7.96l-1.37-1.37c-.4-.4-.92-.59-1.43-.59-.52 0-1.04.2-1.43.59L10.3 9.45l-7.72 7.72c-.78.78-.78 2.05 0 2.83L4 21.41c.39.39.9.59 1.41.59.51 0 1.02-.2 1.41-.59l7.78-7.78 2.81-2.81c.8-.78.8-2.07 0-2.86zM5.41 20L4 18.59l7.72-7.72 1.47 1.35L5.41 20z\"/>\n",
              "  </svg>\n",
              "      </button>\n",
              "      \n",
              "  <style>\n",
              "    .colab-df-container {\n",
              "      display:flex;\n",
              "      flex-wrap:wrap;\n",
              "      gap: 12px;\n",
              "    }\n",
              "\n",
              "    .colab-df-convert {\n",
              "      background-color: #E8F0FE;\n",
              "      border: none;\n",
              "      border-radius: 50%;\n",
              "      cursor: pointer;\n",
              "      display: none;\n",
              "      fill: #1967D2;\n",
              "      height: 32px;\n",
              "      padding: 0 0 0 0;\n",
              "      width: 32px;\n",
              "    }\n",
              "\n",
              "    .colab-df-convert:hover {\n",
              "      background-color: #E2EBFA;\n",
              "      box-shadow: 0px 1px 2px rgba(60, 64, 67, 0.3), 0px 1px 3px 1px rgba(60, 64, 67, 0.15);\n",
              "      fill: #174EA6;\n",
              "    }\n",
              "\n",
              "    [theme=dark] .colab-df-convert {\n",
              "      background-color: #3B4455;\n",
              "      fill: #D2E3FC;\n",
              "    }\n",
              "\n",
              "    [theme=dark] .colab-df-convert:hover {\n",
              "      background-color: #434B5C;\n",
              "      box-shadow: 0px 1px 3px 1px rgba(0, 0, 0, 0.15);\n",
              "      filter: drop-shadow(0px 1px 2px rgba(0, 0, 0, 0.3));\n",
              "      fill: #FFFFFF;\n",
              "    }\n",
              "  </style>\n",
              "\n",
              "      <script>\n",
              "        const buttonEl =\n",
              "          document.querySelector('#df-7c204aed-414e-477f-9cb0-ac3de4cc8c65 button.colab-df-convert');\n",
              "        buttonEl.style.display =\n",
              "          google.colab.kernel.accessAllowed ? 'block' : 'none';\n",
              "\n",
              "        async function convertToInteractive(key) {\n",
              "          const element = document.querySelector('#df-7c204aed-414e-477f-9cb0-ac3de4cc8c65');\n",
              "          const dataTable =\n",
              "            await google.colab.kernel.invokeFunction('convertToInteractive',\n",
              "                                                     [key], {});\n",
              "          if (!dataTable) return;\n",
              "\n",
              "          const docLinkHtml = 'Like what you see? Visit the ' +\n",
              "            '<a target=\"_blank\" href=https://colab.research.google.com/notebooks/data_table.ipynb>data table notebook</a>'\n",
              "            + ' to learn more about interactive tables.';\n",
              "          element.innerHTML = '';\n",
              "          dataTable['output_type'] = 'display_data';\n",
              "          await google.colab.output.renderOutput(dataTable, element);\n",
              "          const docLink = document.createElement('div');\n",
              "          docLink.innerHTML = docLinkHtml;\n",
              "          element.appendChild(docLink);\n",
              "        }\n",
              "      </script>\n",
              "    </div>\n",
              "  </div>\n",
              "  "
            ]
          },
          "metadata": {},
          "execution_count": 5
        }
      ]
    },
    {
      "cell_type": "code",
      "source": [
        "# 데이터 확인\n",
        "scores = np.array(math_score['점수'])\n",
        "scores[:5]"
      ],
      "metadata": {
        "colab": {
          "base_uri": "https://localhost:8080/"
        },
        "id": "WGmHzgeTH10i",
        "outputId": "11d3fafc-6681-474a-d81d-8e5b82c9897f"
      },
      "execution_count": 6,
      "outputs": [
        {
          "output_type": "execute_result",
          "data": {
            "text/plain": [
              "array([33, 49, 92, 73, 35])"
            ]
          },
          "metadata": {},
          "execution_count": 6
        }
      ]
    },
    {
      "cell_type": "code",
      "source": [
        "# 20개 샘플 추출(복원추출)\n",
        "sample = np.random.choice(scores, 20)\n",
        "print(sample)\n",
        "print(sample.mean())\n",
        "print(sample.var())\n",
        "print(sample.std())     # np.std(sample)    # 편향 표본표준편차"
      ],
      "metadata": {
        "colab": {
          "base_uri": "https://localhost:8080/"
        },
        "id": "9ywpjQeKH9_B",
        "outputId": "3795270e-a71b-440e-e3a8-8d8220f91c00"
      },
      "execution_count": 7,
      "outputs": [
        {
          "output_type": "stream",
          "name": "stdout",
          "text": [
            "[85 91 85 81 64 96 83 68 53 52 61 80 89 32 95 64 81 72 94 92]\n",
            "75.9\n",
            "282.29\n",
            "16.801488029338355\n"
          ]
        }
      ]
    },
    {
      "cell_type": "code",
      "source": [
        "# 표본에 따라 평균 오차 확인\n",
        "for i in range(10):\n",
        "    sample1 = np.random.choice(scores, 20)\n",
        "    print(i+1, \"표본평균\", sample1.mean())"
      ],
      "metadata": {
        "colab": {
          "base_uri": "https://localhost:8080/"
        },
        "id": "vzrDg1CwIPAM",
        "outputId": "026ab678-eaaf-4384-f6ce-ce9aab0b3ea3"
      },
      "execution_count": 8,
      "outputs": [
        {
          "output_type": "stream",
          "name": "stdout",
          "text": [
            "1 표본평균 67.0\n",
            "2 표본평균 61.55\n",
            "3 표본평균 59.55\n",
            "4 표본평균 62.6\n",
            "5 표본평균 57.95\n",
            "6 표본평균 57.8\n",
            "7 표본평균 59.85\n",
            "8 표본평균 65.05\n",
            "9 표본평균 60.0\n",
            "10 표본평균 63.05\n"
          ]
        }
      ]
    },
    {
      "cell_type": "code",
      "source": [
        "# 모집단 데이터 분포 확인\n",
        "plt.xlabel('score')\n",
        "plt.ylabel('relative frequency')\n",
        "plt.hist(scores, bins=100, range=(0,100), density=True)     # density = True면 상대도수\n",
        "plt.xlim(20, 100)\n",
        "plt.show()"
      ],
      "metadata": {
        "colab": {
          "base_uri": "https://localhost:8080/",
          "height": 286
        },
        "id": "-8QrEQKqIcJz",
        "outputId": "0773a1d5-d65c-46e0-d7e7-c9a353d67614"
      },
      "execution_count": 9,
      "outputs": [
        {
          "output_type": "display_data",
          "data": {
            "text/plain": [
              "<Figure size 432x288 with 1 Axes>"
            ],
            "image/png": "[encoded data removed]"
          },
          "metadata": {}
        }
      ]
    },
    {
      "cell_type": "code",
      "source": [
        "# 샘플2 10000개 생성하여 분포 확인\n",
        "sample_score = np.random.choice(scores, 10000)"
      ],
      "metadata": {
        "id": "1WIVYPKzItk8"
      },
      "execution_count": 10,
      "outputs": []
    },
    {
      "cell_type": "code",
      "source": [
        "plt.hist(sample_score, bins=100, range=(0,100), density=True)\n",
        "plt.xlim(20,100)\n",
        "plt.show()"
      ],
      "metadata": {
        "colab": {
          "base_uri": "https://localhost:8080/",
          "height": 273
        },
        "id": "2LBtqQm1JATq",
        "outputId": "f83550f4-1e55-41e8-9a34-f904a9ce0947"
      },
      "execution_count": 11,
      "outputs": [
        {
          "output_type": "display_data",
          "data": {
            "text/plain": [
              "<Figure size 432x288 with 1 Axes>"
            ],
            "image/png": "[encoded data removed]"
          },
          "metadata": {}
        }
      ]
    },
    {
      "cell_type": "markdown",
      "source": [
        "### 3) 모평균 점 추정"
      ],
      "metadata": {
        "id": "50hMH71YJRFL"
      }
    },
    {
      "cell_type": "code",
      "source": [
        "# 20개(n)의 표본 100번 추출\n",
        "n = 20\n",
        "nSample = 100\n",
        "\n",
        "sample_mean = np.array([np.random.choice(scores,n,).mean() for _ in range(nSample)])"
      ],
      "metadata": {
        "id": "50ZNu7xFJOEX"
      },
      "execution_count": 12,
      "outputs": []
    },
    {
      "cell_type": "code",
      "source": [
        "# 표본평군 분포 확인\n",
        "sample_mean"
      ],
      "metadata": {
        "colab": {
          "base_uri": "https://localhost:8080/"
        },
        "id": "pwi75USoJi8C",
        "outputId": "e3c6e194-f1d8-449f-94b8-3ad895955742"
      },
      "execution_count": 13,
      "outputs": [
        {
          "output_type": "execute_result",
          "data": {
            "text/plain": [
              "array([63.9 , 62.65, 63.4 , 57.4 , 56.75, 60.35, 55.15, 67.2 , 58.15,\n",
              "       64.15, 67.7 , 58.45, 58.1 , 60.5 , 58.3 , 63.2 , 65.  , 63.1 ,\n",
              "       58.75, 70.2 , 61.3 , 60.95, 55.4 , 62.25, 62.7 , 62.8 , 61.05,\n",
              "       71.3 , 56.8 , 73.4 , 63.  , 63.15, 65.6 , 64.35, 61.55, 74.35,\n",
              "       51.85, 58.9 , 57.1 , 57.1 , 52.8 , 65.8 , 68.9 , 62.75, 54.4 ,\n",
              "       57.95, 62.7 , 60.15, 64.15, 61.4 , 71.75, 54.4 , 60.5 , 59.85,\n",
              "       57.3 , 61.3 , 55.95, 67.45, 62.45, 61.8 , 55.2 , 61.85, 71.1 ,\n",
              "       62.85, 69.7 , 58.15, 49.75, 58.85, 67.2 , 67.5 , 68.65, 56.1 ,\n",
              "       62.8 , 58.  , 57.75, 59.2 , 55.35, 67.5 , 56.9 , 59.3 , 67.15,\n",
              "       50.75, 63.4 , 72.2 , 60.6 , 67.3 , 50.45, 69.55, 69.85, 63.1 ,\n",
              "       62.1 , 64.8 , 70.7 , 71.25, 58.9 , 63.9 , 62.65, 65.2 , 64.9 ,\n",
              "       61.  ])"
            ]
          },
          "metadata": {},
          "execution_count": 13
        }
      ]
    },
    {
      "cell_type": "code",
      "source": [
        "# 모평균\n",
        "print('모평균 :', scores.mean())\n",
        "\n",
        "# 표본평균의 평균 <= 모집단을 모를 경우 표본평균이 모수로 추정\n",
        "print('표본평균의 평균 :', sample_mean.mean())\n",
        "\n",
        "# 모분산/n\n",
        "print('모분산/n :', scores.var()/n)\n",
        "\n",
        "# 표본평균의 분산\n",
        "print('표본평균의 분산 :', sample_mean.var())\n",
        "\n",
        "# 표본평균의 편차\n",
        "print('표본평균의 표준편차 :', sample_mean.std())\n",
        "\n",
        "# 표준오차 : standard error of the mean\n",
        "print('표준오차 :', scores.std()/math.sqrt(n))"
      ],
      "metadata": {
        "colab": {
          "base_uri": "https://localhost:8080/"
        },
        "id": "q3UvlcDbJnGZ",
        "outputId": "6eaec920-a44e-4b09-c368-5ab9912ca25d"
      },
      "execution_count": 14,
      "outputs": [
        {
          "output_type": "stream",
          "name": "stdout",
          "text": [
            "모평균 : 61.58\n",
            "표본평균의 평균 : 62.04499999999999\n",
            "모분산/n : 23.09498\n",
            "표본평균의 분산 : 28.156875000000003\n",
            "표본평균의 표준편차 : 5.306305211726895\n",
            "표준오차 : 4.805723670790903\n"
          ]
        }
      ]
    },
    {
      "cell_type": "markdown",
      "source": [
        "# ◆ 구간 추정 실습\n",
        "### 2. 신뢰구간 추정\n"
      ],
      "metadata": {
        "id": "jNiB1tqfGwgz"
      }
    },
    {
      "cell_type": "markdown",
      "source": [
        "### 1) 모평균의 신뢰구간 추정\n",
        "### 샘플 수 < 30, t통계량 이용"
      ],
      "metadata": {
        "id": "IXAV_CNkHavA"
      }
    },
    {
      "cell_type": "code",
      "source": [
        "from scipy.stats import t\n",
        "t_95 = t.ppf(1 - (1 - 0.95) / 2, df=20-1)"
      ],
      "metadata": {
        "id": "j2s2yPbIKSlR"
      },
      "execution_count": 15,
      "outputs": []
    },
    {
      "cell_type": "code",
      "source": [
        "t_95"
      ],
      "metadata": {
        "colab": {
          "base_uri": "https://localhost:8080/"
        },
        "id": "I7DPdCOvG0eZ",
        "outputId": "7ed109cc-f6d8-4a85-f8bf-70b86493c375"
      },
      "execution_count": 16,
      "outputs": [
        {
          "output_type": "execute_result",
          "data": {
            "text/plain": [
              "2.093024054408263"
            ]
          },
          "metadata": {},
          "execution_count": 16
        }
      ]
    },
    {
      "cell_type": "code",
      "source": [
        "# 20개(n)의 표본 100개를 추출\n",
        "# 95% 신뢰구간 추정: t통계량 2.093\n",
        "\n",
        "sMean = sample_mean.mean()\n",
        "sStd = sample_mean.std()\n",
        "\n",
        "Low_c = sMean - t_95*(sStd / math.sqrt(n))\n",
        "Upper_c = sMean + t_95*(sStd / math.sqrt(n))\n",
        "print(Low_c)\n",
        "print(Upper_c)\n",
        "# 95% 신뢰로 모평균은 59점 ~ 64점 사이에 존재(추정)\n",
        "print('신뢰구간 :', Upper_c-Low_c)"
      ],
      "metadata": {
        "colab": {
          "base_uri": "https://localhost:8080/"
        },
        "id": "eZxGtqnZG2To",
        "outputId": "ce28fbee-05a5-4b7d-ccb4-be624533462a"
      },
      "execution_count": 17,
      "outputs": [
        {
          "output_type": "stream",
          "name": "stdout",
          "text": [
            "59.561572716050755\n",
            "64.52842728394923\n",
            "신뢰구간 : 4.966854567898473\n"
          ]
        }
      ]
    },
    {
      "cell_type": "markdown",
      "source": [
        "### 2) 모평균의 신뢰구간 추정\n",
        "### 샘플 수 >= 30, z통계량 이용"
      ],
      "metadata": {
        "id": "yNUkJ49vG4dJ"
      }
    },
    {
      "cell_type": "code",
      "source": [
        "# 30개(n)의 표본 1개를 추출\n",
        "# 95% 신뢰구간 추정: z통계량 1.96\n",
        "\n",
        "z_n = 30\n",
        "sample1 = np.random.choice(scores, n)\n",
        "z_sMean = sample1.mean()\n",
        "z_sStd = sample1.std()\n",
        "\n",
        "print('모평균', scores.mean())\n",
        "print('표본평균', z_sMean)\n",
        "print('모편차', scores.std())\n",
        "print('표본편차', z_sStd)"
      ],
      "metadata": {
        "colab": {
          "base_uri": "https://localhost:8080/"
        },
        "id": "fEDz2GPNG45C",
        "outputId": "b5439716-dc06-4653-b45c-6fc4f9e627d8"
      },
      "execution_count": 18,
      "outputs": [
        {
          "output_type": "stream",
          "name": "stdout",
          "text": [
            "모평균 61.58\n",
            "표본평균 55.7\n",
            "모편차 21.491849617936563\n",
            "표본편차 18.102762220169605\n"
          ]
        }
      ]
    },
    {
      "cell_type": "code",
      "source": [
        "# 임계값\n",
        "z_95 = stats.norm.ppf(1 - (1-0.95)/2)       # 양측검정\n",
        "\n",
        "# z_95_h = stats.norm.ppf(0.95)             # 단측검정\n",
        "# print(z_95_h)"
      ],
      "metadata": {
        "id": "lR5BXvUsHmol"
      },
      "execution_count": 19,
      "outputs": []
    },
    {
      "cell_type": "code",
      "source": [
        "L_value_1 = round(z_sMean - z_95 * (scores.std()/math.sqrt(z_n)), 2)\n",
        "U_value_1 = round(z_sMean + z_95 * (scores.std()/math.sqrt(z_n)), 2)\n",
        "print(L_value_1)\n",
        "print(U_value_1)\n",
        "\n",
        "print('신뢰구간 :', U_value_1-L_value_1)"
      ],
      "metadata": {
        "colab": {
          "base_uri": "https://localhost:8080/"
        },
        "id": "z9TJwSRrHzwK",
        "outputId": "2d9f59b3-c4b8-42e1-ea16-eb35e76bd116"
      },
      "execution_count": 20,
      "outputs": [
        {
          "output_type": "stream",
          "name": "stdout",
          "text": [
            "48.01\n",
            "63.39\n",
            "신뢰구간 : 15.380000000000003\n"
          ]
        }
      ]
    },
    {
      "cell_type": "markdown",
      "source": [
        "### 예제\n",
        "- 어느 고등학교 남학생 49명의 제자리에서 멀리뛰기 기록은 평균이 205cm, 표준편차가 5cm이었다.\n",
        "이 학교 남학생들의 제자리 멀리뛰기 기록에 대한 모평균 m의 신뢰도 95% 신뢰구간을 구하라."
      ],
      "metadata": {
        "id": "yIiuOShxINMO"
      }
    },
    {
      "cell_type": "code",
      "source": [
        "# 모평균, 모표준편차, 표본 수\n",
        "mStd = 5\n",
        "mMean = 205\n",
        "n = 49\n",
        "\n",
        "# z통계량 : 1.96\n",
        "z_95_1 = stats.norm.ppf(1 - (1-0.95)/2)         # 신뢰구간\n",
        "\n",
        "# 신뢰구간 계산\n",
        "L_value = round(mMean - z_95_1*(mStd/math.sqrt(n)),2)\n",
        "U_value = round(mMean - z_95_1*(mStd/math.sqrt(n)),2)\n",
        "\n",
        "print('신뢰구간 :', L_value, '~', U_value)\n",
        "print('신뢰구간 길이 :', U_value - L_value)\n",
        "\n",
        "print(\"{} < {} < {}\".format(L_value, mMean, U_value))"
      ],
      "metadata": {
        "colab": {
          "base_uri": "https://localhost:8080/"
        },
        "id": "bqaOxFXXIK16",
        "outputId": "22d074c5-4968-4745-90ed-98a911d931a3"
      },
      "execution_count": 21,
      "outputs": [
        {
          "output_type": "stream",
          "name": "stdout",
          "text": [
            "신뢰구간 : 203.6 ~ 203.6\n",
            "신뢰구간 길이 : 0.0\n",
            "203.6 < 205 < 203.6\n"
          ]
        }
      ]
    },
    {
      "cell_type": "code",
      "source": [
        "# 시각화\n",
        "standard_norm = stats.norm(205, 20)\n",
        "\n",
        "# standard_sr = stats.norm.rcv()\n",
        "x = np.linspace(130, 200, 100)\n",
        "\n",
        "plt.vlines(L_value, 0, standard_norm.pdf(L_value), colors=\"b\")\n",
        "plt.vlines(U_value, 0, standard_norm.pdf(U_value), colors=\"b\")\n",
        "plt.plot(x, standard_norm.pdf(x), 'b--', lw=2, alpha=0.6, label='norm pdf')\n",
        "\n",
        "plt.title(\"신뢰구간 시각화\")\n",
        "plt.legend()\n",
        "plt.show()"
      ],
      "metadata": {
        "colab": {
          "base_uri": "https://localhost:8080/",
          "height": 285
        },
        "id": "UVCxb6eoJNX8",
        "outputId": "b9180ade-11a2-4df9-e71c-9fd4eaf4db51"
      },
      "execution_count": 22,
      "outputs": [
        {
          "output_type": "display_data",
          "data": {
            "text/plain": [
              "<Figure size 432x288 with 1 Axes>"
            ],
            "image/png": "[encoded data removed]"
          },
          "metadata": {}
        }
      ]
    },
    {
      "cell_type": "code",
      "source": [
        ""
      ],
      "metadata": {
        "id": "6cYPjzFlJxB7"
      },
      "execution_count": null,
      "outputs": []
    }
  ]
}